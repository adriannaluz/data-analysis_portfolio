{
 "cells": [
  {
   "cell_type": "code",
   "execution_count": 1,
   "id": "2abc1715-f02c-4cf8-ab58-8ec04db15fa4",
   "metadata": {},
   "outputs": [],
   "source": [
    "import os\n",
    "import sys\n",
    "import boto3\n",
    "import warnings\n",
    "import numpy as np\n",
    "import pandas as pd\n",
    "import seaborn as sns\n",
    "import matplotlib.pyplot as plt\n",
    "\n",
    "from pathlib import Path\n",
    "from dotenv import load_dotenv\n",
    "\n",
    "# defining functions module path\n",
    "module_path = str(Path.cwd().parents[0] / \"src\")\n",
    "if module_path not in sys.path:\n",
    "    sys.path.append(module_path)\n",
    "\n",
    "from functions import connect_to_redshift"
   ]
  },
  {
   "cell_type": "code",
   "execution_count": 2,
   "id": "904f6f50-2588-48d4-aaf5-d7626be1c427",
   "metadata": {},
   "outputs": [],
   "source": [
    "# removing warning messages\n",
    "warnings.filterwarnings(\"ignore\")"
   ]
  },
  {
   "cell_type": "code",
   "execution_count": 3,
   "id": "12d19a54-f7aa-4027-8dd0-825346f28f1b",
   "metadata": {},
   "outputs": [
    {
     "data": {
      "text/plain": [
       "True"
      ]
     },
     "execution_count": 3,
     "metadata": {},
     "output_type": "execute_result"
    }
   ],
   "source": [
    "# Loading my .env file\n",
    "load_dotenv()"
   ]
  },
  {
   "cell_type": "code",
   "execution_count": 4,
   "id": "50100d4c-27d9-4051-aa45-46ffae26ec1e",
   "metadata": {},
   "outputs": [],
   "source": [
    "# defining redshift credentials\n",
    "dbname = os.getenv(\"dbname\")\n",
    "host = os.getenv(\"host\")\n",
    "port = os.getenv(\"port\")\n",
    "user = os.getenv(\"user\")\n",
    "password = os.getenv(\"password\")"
   ]
  },
  {
   "cell_type": "code",
   "execution_count": 5,
   "id": "33eda76f-9d7e-442c-b8f2-a2d3d20ef4f6",
   "metadata": {},
   "outputs": [
    {
     "name": "stdout",
     "output_type": "stream",
     "text": [
      "connection to redshift made\n"
     ]
    }
   ],
   "source": [
    "# establishing redshift connection\n",
    "rs_connection = connect_to_redshift(dbname, host, port, user, password)"
   ]
  },
  {
   "cell_type": "code",
   "execution_count": 6,
   "id": "5c5b0c98-f759-4662-ac34-2144558d4f46",
   "metadata": {},
   "outputs": [],
   "source": [
    "query = \"\"\"select *\n",
    "           from bootcamp.online_transactions_cleaned\n",
    "        \"\"\""
   ]
  },
  {
   "cell_type": "code",
   "execution_count": 7,
   "id": "7cdd0091-a619-4fce-be01-0edf42a35be0",
   "metadata": {},
   "outputs": [],
   "source": [
    "ot = pd.read_sql(query, rs_connection)"
   ]
  },
  {
   "cell_type": "code",
   "execution_count": 8,
   "id": "773df69d-1152-4016-94b4-81729bc61b6e",
   "metadata": {},
   "outputs": [
    {
     "name": "stdout",
     "output_type": "stream",
     "text": [
      "There are 0 duplicated rows in the dataset\n"
     ]
    }
   ],
   "source": [
    "print(f\"There are {ot.duplicated().sum()} duplicated rows in the dataset\")"
   ]
  },
  {
   "cell_type": "code",
   "execution_count": 9,
   "id": "e49dc6d6-cb76-4cc6-8ecf-3bd3fc60f819",
   "metadata": {},
   "outputs": [
    {
     "name": "stdout",
     "output_type": "stream",
     "text": [
      "<class 'pandas.core.frame.DataFrame'>\n",
      "RangeIndex: 399841 entries, 0 to 399840\n",
      "Data columns (total 9 columns):\n",
      " #   Column             Non-Null Count   Dtype         \n",
      "---  ------             --------------   -----         \n",
      " 0   invoice            399841 non-null  object        \n",
      " 1   stock_code         399841 non-null  object        \n",
      " 2   description        399841 non-null  object        \n",
      " 3   price              399841 non-null  float64       \n",
      " 4   quantity           399841 non-null  int64         \n",
      " 5   total_order_value  399841 non-null  float64       \n",
      " 6   invoice_date       399841 non-null  datetime64[ns]\n",
      " 7   customer_id        399841 non-null  object        \n",
      " 8   country            399841 non-null  object        \n",
      "dtypes: datetime64[ns](1), float64(2), int64(1), object(5)\n",
      "memory usage: 27.5+ MB\n",
      "None\n"
     ]
    }
   ],
   "source": [
    "print(ot.info())"
   ]
  },
  {
   "cell_type": "code",
   "execution_count": 10,
   "id": "a02dad01-5d9f-4003-b57a-a21b26a732cd",
   "metadata": {},
   "outputs": [
    {
     "data": {
      "text/html": [
       "<div>\n",
       "<style scoped>\n",
       "    .dataframe tbody tr th:only-of-type {\n",
       "        vertical-align: middle;\n",
       "    }\n",
       "\n",
       "    .dataframe tbody tr th {\n",
       "        vertical-align: top;\n",
       "    }\n",
       "\n",
       "    .dataframe thead th {\n",
       "        text-align: right;\n",
       "    }\n",
       "</style>\n",
       "<table border=\"1\" class=\"dataframe\">\n",
       "  <thead>\n",
       "    <tr style=\"text-align: right;\">\n",
       "      <th></th>\n",
       "      <th>price</th>\n",
       "      <th>quantity</th>\n",
       "      <th>total_order_value</th>\n",
       "    </tr>\n",
       "  </thead>\n",
       "  <tbody>\n",
       "    <tr>\n",
       "      <th>count</th>\n",
       "      <td>399841.000000</td>\n",
       "      <td>399841.000000</td>\n",
       "      <td>399841.000000</td>\n",
       "    </tr>\n",
       "    <tr>\n",
       "      <th>mean</th>\n",
       "      <td>2.952914</td>\n",
       "      <td>12.224359</td>\n",
       "      <td>20.716904</td>\n",
       "    </tr>\n",
       "    <tr>\n",
       "      <th>std</th>\n",
       "      <td>7.317593</td>\n",
       "      <td>250.788860</td>\n",
       "      <td>425.471765</td>\n",
       "    </tr>\n",
       "    <tr>\n",
       "      <th>min</th>\n",
       "      <td>0.000000</td>\n",
       "      <td>-80995.000000</td>\n",
       "      <td>-168469.600000</td>\n",
       "    </tr>\n",
       "    <tr>\n",
       "      <th>25%</th>\n",
       "      <td>1.250000</td>\n",
       "      <td>2.000000</td>\n",
       "      <td>4.250000</td>\n",
       "    </tr>\n",
       "    <tr>\n",
       "      <th>50%</th>\n",
       "      <td>1.950000</td>\n",
       "      <td>5.000000</td>\n",
       "      <td>11.580000</td>\n",
       "    </tr>\n",
       "    <tr>\n",
       "      <th>75%</th>\n",
       "      <td>3.750000</td>\n",
       "      <td>12.000000</td>\n",
       "      <td>19.500000</td>\n",
       "    </tr>\n",
       "    <tr>\n",
       "      <th>max</th>\n",
       "      <td>1599.260000</td>\n",
       "      <td>80995.000000</td>\n",
       "      <td>168469.600000</td>\n",
       "    </tr>\n",
       "  </tbody>\n",
       "</table>\n",
       "</div>"
      ],
      "text/plain": [
       "               price       quantity  total_order_value\n",
       "count  399841.000000  399841.000000      399841.000000\n",
       "mean        2.952914      12.224359          20.716904\n",
       "std         7.317593     250.788860         425.471765\n",
       "min         0.000000  -80995.000000     -168469.600000\n",
       "25%         1.250000       2.000000           4.250000\n",
       "50%         1.950000       5.000000          11.580000\n",
       "75%         3.750000      12.000000          19.500000\n",
       "max      1599.260000   80995.000000      168469.600000"
      ]
     },
     "execution_count": 10,
     "metadata": {},
     "output_type": "execute_result"
    }
   ],
   "source": [
    "ot.describe()"
   ]
  },
  {
   "cell_type": "code",
   "execution_count": 11,
   "id": "672b1089-11ae-4fcb-95d2-fa192b1df3ac",
   "metadata": {},
   "outputs": [
    {
     "data": {
      "text/html": [
       "<div>\n",
       "<style scoped>\n",
       "    .dataframe tbody tr th:only-of-type {\n",
       "        vertical-align: middle;\n",
       "    }\n",
       "\n",
       "    .dataframe tbody tr th {\n",
       "        vertical-align: top;\n",
       "    }\n",
       "\n",
       "    .dataframe thead th {\n",
       "        text-align: right;\n",
       "    }\n",
       "</style>\n",
       "<table border=\"1\" class=\"dataframe\">\n",
       "  <thead>\n",
       "    <tr style=\"text-align: right;\">\n",
       "      <th></th>\n",
       "      <th>invoice</th>\n",
       "      <th>stock_code</th>\n",
       "      <th>description</th>\n",
       "      <th>customer_id</th>\n",
       "      <th>country</th>\n",
       "    </tr>\n",
       "  </thead>\n",
       "  <tbody>\n",
       "    <tr>\n",
       "      <th>count</th>\n",
       "      <td>399841</td>\n",
       "      <td>399841</td>\n",
       "      <td>399841</td>\n",
       "      <td>399841</td>\n",
       "      <td>399841</td>\n",
       "    </tr>\n",
       "    <tr>\n",
       "      <th>unique</th>\n",
       "      <td>21791</td>\n",
       "      <td>3679</td>\n",
       "      <td>3644</td>\n",
       "      <td>4363</td>\n",
       "      <td>37</td>\n",
       "    </tr>\n",
       "    <tr>\n",
       "      <th>top</th>\n",
       "      <td>576339</td>\n",
       "      <td>85123A</td>\n",
       "      <td>CREAM HANGING HEART T-LIGHT HOLDER</td>\n",
       "      <td>u17841</td>\n",
       "      <td>United Kingdom</td>\n",
       "    </tr>\n",
       "    <tr>\n",
       "      <th>freq</th>\n",
       "      <td>542</td>\n",
       "      <td>2065</td>\n",
       "      <td>2065</td>\n",
       "      <td>7800</td>\n",
       "      <td>356158</td>\n",
       "    </tr>\n",
       "  </tbody>\n",
       "</table>\n",
       "</div>"
      ],
      "text/plain": [
       "       invoice stock_code                         description customer_id  \\\n",
       "count   399841     399841                              399841      399841   \n",
       "unique   21791       3679                                3644        4363   \n",
       "top     576339     85123A  CREAM HANGING HEART T-LIGHT HOLDER      u17841   \n",
       "freq       542       2065                                2065        7800   \n",
       "\n",
       "               country  \n",
       "count           399841  \n",
       "unique              37  \n",
       "top     United Kingdom  \n",
       "freq            356158  "
      ]
     },
     "execution_count": 11,
     "metadata": {},
     "output_type": "execute_result"
    }
   ],
   "source": [
    "ot.describe(include=object)"
   ]
  },
  {
   "cell_type": "markdown",
   "id": "7aa63b21-dac7-4afb-8ebb-ba2ab3885ceb",
   "metadata": {},
   "source": [
    "### Let's explore the outliers"
   ]
  },
  {
   "cell_type": "code",
   "execution_count": 12,
   "id": "a2f62371-0399-480a-b5ab-d23912fb95f2",
   "metadata": {},
   "outputs": [
    {
     "data": {
      "text/plain": [
       "<Axes: >"
      ]
     },
     "execution_count": 12,
     "metadata": {},
     "output_type": "execute_result"
    },
    {
     "data": {
      "image/png": "[encoded data removed]",
      "text/plain": [
       "<Figure size 640x480 with 1 Axes>"
      ]
     },
     "metadata": {},
     "output_type": "display_data"
    }
   ],
   "source": [
    "ot['price'].plot.box()"
   ]
  },
  {
   "cell_type": "markdown",
   "id": "8be5792f-35f2-4a82-8e98-70f8d079ef99",
   "metadata": {},
   "source": [
    "### It is clear that there are outliers on the price column. Let's check how many transactions are with price equal to zero"
   ]
  },
  {
   "cell_type": "code",
   "execution_count": 13,
   "id": "df9978c7-5d57-468d-9a4f-260476eaa75e",
   "metadata": {},
   "outputs": [
    {
     "name": "stdout",
     "output_type": "stream",
     "text": [
      "There are 34 transactions with price zero. That represents 0.01 % of the data, therefore they are gonna be removed from the dataset.\n"
     ]
    }
   ],
   "source": [
    "# Number of transactions with price equal to zero\n",
    "n_price_zero = ot[ot['price'] == 0].shape[0]\n",
    "print(f\"There are {n_price_zero} transactions with price zero. That represents {round(n_price_zero * 100 / ot.shape[0], 2)} % of the data, therefore they are gonna be removed from the dataset.\")"
   ]
  },
  {
   "cell_type": "code",
   "execution_count": 14,
   "id": "e8fe0b4f-14aa-4346-97a6-6b5867bcacf8",
   "metadata": {},
   "outputs": [],
   "source": [
    "ot.drop(ot[ot['price'] == 0].index, axis=0, inplace=True)\n",
    "ot.reset_index(inplace=True, drop=True)"
   ]
  },
  {
   "cell_type": "code",
   "execution_count": 15,
   "id": "10a53e20-1a8d-4f54-9d6a-fae4264e38b1",
   "metadata": {},
   "outputs": [],
   "source": [
    "# Let's start by exploring the outliers in the price column\n",
    "_, mean_price, std_price, min_price, Q1_price, Q2_price, Q3_price, max_price = ot.price.describe()\n",
    "IQR_price = Q3_price - Q1_price\n",
    "low_lim_price = Q1_price - 1.5 * IQR_price\n",
    "up_lim_price = Q3_price + 1.5 * IQR_price"
   ]
  },
  {
   "cell_type": "code",
   "execution_count": 16,
   "id": "bfbcad21-0127-4e4b-a82d-2d990a0cac1f",
   "metadata": {},
   "outputs": [
    {
     "data": {
      "text/plain": [
       "Text(0.5, 23.52222222222222, 'Price (pounds)')"
      ]
     },
     "execution_count": 16,
     "metadata": {},
     "output_type": "execute_result"
    },
    {
     "data": {
      "image/png": "[encoded data removed]",
      "text/plain": [
       "<Figure size 640x480 with 1 Axes>"
      ]
     },
     "metadata": {},
     "output_type": "display_data"
    }
   ],
   "source": [
    "# Price histogram plotting\n",
    "plt.hist(ot.price[ot['price'] < up_lim_price])\n",
    "plt.axvline(x=Q2_price, color='red', label='median')\n",
    "plt.axvline(x=up_lim_price, color='green', label='outlier upper limit')\n",
    "plt.title(\"Price distribution without outliers\")\n",
    "plt.legend(loc='upper right')\n",
    "plt.tight_layout()\n",
    "plt.xlabel('Price (pounds)')"
   ]
  },
  {
   "cell_type": "code",
   "execution_count": 17,
   "id": "21f04d40-643b-4f7e-8f17-159cc6ca36bd",
   "metadata": {},
   "outputs": [
    {
     "name": "stdout",
     "output_type": "stream",
     "text": [
      "8.75 % of my data are outliers on the price variable\n"
     ]
    }
   ],
   "source": [
    "outlier_perc = round(ot[ot['price'] >= up_lim_price].shape[0] * 100 / ot.shape[0], 2)\n",
    "print(f\"{outlier_perc} % of my data are outliers on the price variable\")"
   ]
  },
  {
   "cell_type": "markdown",
   "id": "652b648f-07a0-40f8-a2f5-27dbd9073696",
   "metadata": {},
   "source": [
    "### Let's explore seasonality in the data"
   ]
  },
  {
   "cell_type": "code",
   "execution_count": 26,
   "id": "7e0d28ee-8fb1-4c2b-ad3f-cf1d6e7652d1",
   "metadata": {},
   "outputs": [],
   "source": [
    "# Setting up monthly, yearly, daily data\n",
    "ot['invoice_year'] = ot['invoice_date'].dt.year\n",
    "ot['invoice_month'] = ot['invoice_date'].dt.month\n",
    "ot['invoice_weekday'] = ot['invoice_date'].dt.dayofweek\n",
    "ot['invoice_dayname'] = ot['invoice_date'].dt.day_name()"
   ]
  },
  {
   "cell_type": "code",
   "execution_count": 19,
   "id": "f5c90f3a-d91c-42e8-b3d7-7ef69e731edb",
   "metadata": {},
   "outputs": [],
   "source": [
    "# Defining color palette for plots\n",
    "palette = sns.color_palette(\"tab10\")"
   ]
  },
  {
   "cell_type": "code",
   "execution_count": 20,
   "id": "aa5709a6-3f9f-4cc1-baba-0a2958e7b0c1",
   "metadata": {},
   "outputs": [
    {
     "data": {
      "text/plain": [
       "Text(0.5, 0, 'Month of the year')"
      ]
     },
     "execution_count": 20,
     "metadata": {},
     "output_type": "execute_result"
    },
    {
     "data": {
      "image/png": "[encoded data removed]",
      "text/plain": [
       "<Figure size 640x480 with 1 Axes>"
      ]
     },
     "metadata": {},
     "output_type": "display_data"
    }
   ],
   "source": [
    "# Distribution of invoices per month\n",
    "sns.histplot(data=ot, x='invoice_month', hue='invoice_year', bins=12, kde=False, palette=palette)\n",
    "plt.title(\"Number of invoices per month\")\n",
    "plt.xlabel(\"Month of the year\")"
   ]
  },
  {
   "cell_type": "markdown",
   "id": "c3a835c1-a959-44a6-ada4-30906d9f3ce4",
   "metadata": {},
   "source": [
    "### The number of invoice has a boost from September on, having a peak on November (presumably because of Black Friday) reachig its lowest point on December 2011."
   ]
  },
  {
   "cell_type": "code",
   "execution_count": 27,
   "id": "c2849715-b297-411f-87f6-5b94f84b4af6",
   "metadata": {},
   "outputs": [],
   "source": [
    "# To plot the days in order\n",
    "day_order = ['Monday', 'Tuesday', 'Wednesday', 'Thursday', 'Friday', 'Saturday', 'Sunday']\n",
    "ot['invoice_dayname'] = pd.Categorical(ot['invoice_date'].dt.day_name(), categories=day_order, ordered=True)"
   ]
  },
  {
   "cell_type": "code",
   "execution_count": 28,
   "id": "b4b3f8b2-55cb-4665-aa75-fb787de8b74e",
   "metadata": {},
   "outputs": [
    {
     "data": {
      "text/plain": [
       "([0, 1, 2, 3, 4, 5, 6],\n",
       " [Text(0, 0, 'Monday'),\n",
       "  Text(1, 0, 'Tuesday'),\n",
       "  Text(2, 0, 'Wednesday'),\n",
       "  Text(3, 0, 'Thursday'),\n",
       "  Text(4, 0, 'Friday'),\n",
       "  Text(5, 0, 'Saturday'),\n",
       "  Text(6, 0, 'Sunday')])"
      ]
     },
     "execution_count": 28,
     "metadata": {},
     "output_type": "execute_result"
    },
    {
     "data": {
      "image/png": "[encoded data removed]",
      "text/plain": [
       "<Figure size 640x480 with 1 Axes>"
      ]
     },
     "metadata": {},
     "output_type": "display_data"
    }
   ],
   "source": [
    "# Distributions of invoices per day of the week\n",
    "sns.histplot(data=ot, x='invoice_dayname', multiple='stack', bins=12, kde=False)\n",
    "plt.title(\"Number of invoices per day of the week\")\n",
    "plt.xlabel(\"Day of the week\")\n",
    "plt.xticks(rotation=45)"
   ]
  },
  {
   "cell_type": "markdown",
   "id": "b89fb86c-d47c-49ed-9664-d11fc8370f23",
   "metadata": {},
   "source": [
    "### The number of invoice has a peak on Thursdays. It is interesting that there is no data available for Saturdays"
   ]
  },
  {
   "cell_type": "markdown",
   "id": "ffb9649f-82d0-4812-8048-a491ea65ecf5",
   "metadata": {},
   "source": [
    "## Let's explore some KPIs"
   ]
  },
  {
   "cell_type": "code",
   "execution_count": 31,
   "id": "160f45e6-f44f-467a-ae9d-8cae837c93be",
   "metadata": {},
   "outputs": [
    {
     "name": "stdout",
     "output_type": "stream",
     "text": [
      "On average, there are 18 stock codes per invoice\n"
     ]
    }
   ],
   "source": [
    "# Line Items (Number of products per invoice)\n",
    "line_items = ot.groupby(\"invoice\")['stock_code'].count()\n",
    "print(f\"On average, there are {round(line_items.mean())} stock codes per invoice\")"
   ]
  },
  {
   "cell_type": "code",
   "execution_count": 33,
   "id": "7f62472e-f373-4835-b451-d4af68a8e676",
   "metadata": {},
   "outputs": [
    {
     "name": "stdout",
     "output_type": "stream",
     "text": [
      "The average purchase per invoice is 380.18 pounds\n"
     ]
    }
   ],
   "source": [
    "# Average order value per invoice\n",
    "avg_order = ot.groupby(\"invoice\").sum()['total_order_value']\n",
    "print(f\"The average purchase per invoice is {round(avg_order.mean(), 2)} pounds\")"
   ]
  }
 ],
 "metadata": {
  "kernelspec": {
   "display_name": "Python 3 (ipykernel)",
   "language": "python",
   "name": "python3"
  },
  "language_info": {
   "codemirror_mode": {
    "name": "ipython",
    "version": 3
   },
   "file_extension": ".py",
   "mimetype": "text/x-python",
   "name": "python",
   "nbconvert_exporter": "python",
   "pygments_lexer": "ipython3",
   "version": "3.11.3"
  }
 },
 "nbformat": 4,
 "nbformat_minor": 5
}
