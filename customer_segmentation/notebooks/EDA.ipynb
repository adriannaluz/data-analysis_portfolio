{
 "cells": [
  {
   "cell_type": "code",
   "execution_count": 1,
   "id": "2abc1715-f02c-4cf8-ab58-8ec04db15fa4",
   "metadata": {},
   "outputs": [],
   "source": [
    "import os\n",
    "import sys\n",
    "import boto3\n",
    "import warnings\n",
    "import numpy as np\n",
    "import pandas as pd\n",
    "import seaborn as sns\n",
    "import matplotlib.pyplot as plt\n",
    "\n",
    "from pathlib import Path\n",
    "from dotenv import load_dotenv\n",
    "\n",
    "# defining functions module path\n",
    "module_path = str(Path.cwd().parents[0] / \"src\")\n",
    "if module_path not in sys.path:\n",
    "    sys.path.append(module_path)\n",
    "\n",
    "from functions import connect_to_redshift"
   ]
  },
  {
   "cell_type": "code",
   "execution_count": 2,
   "id": "904f6f50-2588-48d4-aaf5-d7626be1c427",
   "metadata": {},
   "outputs": [],
   "source": [
    "# removing warning messages\n",
    "warnings.filterwarnings(\"ignore\")"
   ]
  },
  {
   "cell_type": "code",
   "execution_count": 3,
   "id": "12d19a54-f7aa-4027-8dd0-825346f28f1b",
   "metadata": {},
   "outputs": [
    {
     "data": {
      "text/plain": [
       "True"
      ]
     },
     "execution_count": 3,
     "metadata": {},
     "output_type": "execute_result"
    }
   ],
   "source": [
    "# Loading my .env file\n",
    "load_dotenv()"
   ]
  },
  {
   "cell_type": "code",
   "execution_count": 4,
   "id": "50100d4c-27d9-4051-aa45-46ffae26ec1e",
   "metadata": {},
   "outputs": [],
   "source": [
    "# defining redshift credentials\n",
    "dbname = os.getenv(\"dbname\")\n",
    "host = os.getenv(\"host\")\n",
    "port = os.getenv(\"port\")\n",
    "user = os.getenv(\"user\")\n",
    "password = os.getenv(\"password\")"
   ]
  },
  {
   "cell_type": "code",
   "execution_count": 5,
   "id": "33eda76f-9d7e-442c-b8f2-a2d3d20ef4f6",
   "metadata": {},
   "outputs": [
    {
     "name": "stdout",
     "output_type": "stream",
     "text": [
      "connection to redshift made\n"
     ]
    }
   ],
   "source": [
    "# establishing redshift connection\n",
    "rs_connection = connect_to_redshift(dbname, host, port, user, password)"
   ]
  },
  {
   "cell_type": "code",
   "execution_count": 6,
   "id": "5c5b0c98-f759-4662-ac34-2144558d4f46",
   "metadata": {},
   "outputs": [],
   "source": [
    "query = \"\"\"select *\n",
    "           from bootcamp.online_transactions_fixed\n",
    "        \"\"\""
   ]
  },
  {
   "cell_type": "code",
   "execution_count": 7,
   "id": "7cdd0091-a619-4fce-be01-0edf42a35be0",
   "metadata": {},
   "outputs": [],
   "source": [
    "ot = pd.read_sql(query, rs_connection)"
   ]
  },
  {
   "cell_type": "code",
   "execution_count": 8,
   "id": "773df69d-1152-4016-94b4-81729bc61b6e",
   "metadata": {},
   "outputs": [
    {
     "name": "stdout",
     "output_type": "stream",
     "text": [
      "There are 0 duplicated rows in the dataset\n"
     ]
    }
   ],
   "source": [
    "print(f\"There are {ot.duplicated().sum()} duplicated rows in the dataset\")"
   ]
  },
  {
   "cell_type": "code",
   "execution_count": 9,
   "id": "c38b41f5-aecb-4925-bbaf-7f0ee3344756",
   "metadata": {},
   "outputs": [
    {
     "data": {
      "text/html": [
       "<div>\n",
       "<style scoped>\n",
       "    .dataframe tbody tr th:only-of-type {\n",
       "        vertical-align: middle;\n",
       "    }\n",
       "\n",
       "    .dataframe tbody tr th {\n",
       "        vertical-align: top;\n",
       "    }\n",
       "\n",
       "    .dataframe thead th {\n",
       "        text-align: right;\n",
       "    }\n",
       "</style>\n",
       "<table border=\"1\" class=\"dataframe\">\n",
       "  <thead>\n",
       "    <tr style=\"text-align: right;\">\n",
       "      <th></th>\n",
       "      <th>invoice</th>\n",
       "      <th>stock_code</th>\n",
       "      <th>description</th>\n",
       "      <th>quantity</th>\n",
       "      <th>invoice_date</th>\n",
       "      <th>price</th>\n",
       "      <th>customer_id</th>\n",
       "      <th>country</th>\n",
       "      <th>total_order_value</th>\n",
       "    </tr>\n",
       "  </thead>\n",
       "  <tbody>\n",
       "    <tr>\n",
       "      <th>0</th>\n",
       "      <td>536373</td>\n",
       "      <td>82494L</td>\n",
       "      <td>WOODEN FRAME ANTIQUE WHITE</td>\n",
       "      <td>6</td>\n",
       "      <td>2010-12-01 09:02:00</td>\n",
       "      <td>2.55</td>\n",
       "      <td>u1785</td>\n",
       "      <td>United Kingdom</td>\n",
       "      <td>15.30</td>\n",
       "    </tr>\n",
       "    <tr>\n",
       "      <th>1</th>\n",
       "      <td>536381</td>\n",
       "      <td>37444A</td>\n",
       "      <td>YELLOW BREAKFAST CUP AND SAUCER</td>\n",
       "      <td>1</td>\n",
       "      <td>2010-12-01 09:41:00</td>\n",
       "      <td>2.95</td>\n",
       "      <td>u15311</td>\n",
       "      <td>United Kingdom</td>\n",
       "      <td>2.95</td>\n",
       "    </tr>\n",
       "    <tr>\n",
       "      <th>2</th>\n",
       "      <td>536381</td>\n",
       "      <td>22438</td>\n",
       "      <td>BALLOON ART MAKE YOUR OWN FLOWERS</td>\n",
       "      <td>1</td>\n",
       "      <td>2010-12-01 09:41:00</td>\n",
       "      <td>1.95</td>\n",
       "      <td>u15311</td>\n",
       "      <td>United Kingdom</td>\n",
       "      <td>1.95</td>\n",
       "    </tr>\n",
       "    <tr>\n",
       "      <th>3</th>\n",
       "      <td>536384</td>\n",
       "      <td>22189</td>\n",
       "      <td>CREAM HEART CARD HOLDER</td>\n",
       "      <td>4</td>\n",
       "      <td>2010-12-01 09:53:00</td>\n",
       "      <td>3.95</td>\n",
       "      <td>u18074</td>\n",
       "      <td>United Kingdom</td>\n",
       "      <td>15.80</td>\n",
       "    </tr>\n",
       "    <tr>\n",
       "      <th>4</th>\n",
       "      <td>536389</td>\n",
       "      <td>35004C</td>\n",
       "      <td>SET OF 3 COLOURED  FLYING DUCKS</td>\n",
       "      <td>6</td>\n",
       "      <td>2010-12-01 10:03:00</td>\n",
       "      <td>5.45</td>\n",
       "      <td>u12431</td>\n",
       "      <td>Australia</td>\n",
       "      <td>32.70</td>\n",
       "    </tr>\n",
       "  </tbody>\n",
       "</table>\n",
       "</div>"
      ],
      "text/plain": [
       "  invoice stock_code                        description  quantity  \\\n",
       "0  536373     82494L        WOODEN FRAME ANTIQUE WHITE          6   \n",
       "1  536381     37444A    YELLOW BREAKFAST CUP AND SAUCER         1   \n",
       "2  536381      22438  BALLOON ART MAKE YOUR OWN FLOWERS         1   \n",
       "3  536384      22189            CREAM HEART CARD HOLDER         4   \n",
       "4  536389     35004C    SET OF 3 COLOURED  FLYING DUCKS         6   \n",
       "\n",
       "         invoice_date  price customer_id         country  total_order_value  \n",
       "0 2010-12-01 09:02:00   2.55       u1785  United Kingdom              15.30  \n",
       "1 2010-12-01 09:41:00   2.95      u15311  United Kingdom               2.95  \n",
       "2 2010-12-01 09:41:00   1.95      u15311  United Kingdom               1.95  \n",
       "3 2010-12-01 09:53:00   3.95      u18074  United Kingdom              15.80  \n",
       "4 2010-12-01 10:03:00   5.45      u12431       Australia              32.70  "
      ]
     },
     "execution_count": 9,
     "metadata": {},
     "output_type": "execute_result"
    }
   ],
   "source": [
    "ot.head()"
   ]
  },
  {
   "cell_type": "code",
   "execution_count": 10,
   "id": "e49dc6d6-cb76-4cc6-8ecf-3bd3fc60f819",
   "metadata": {},
   "outputs": [
    {
     "name": "stdout",
     "output_type": "stream",
     "text": [
      "<class 'pandas.core.frame.DataFrame'>\n",
      "RangeIndex: 399841 entries, 0 to 399840\n",
      "Data columns (total 9 columns):\n",
      " #   Column             Non-Null Count   Dtype         \n",
      "---  ------             --------------   -----         \n",
      " 0   invoice            399841 non-null  object        \n",
      " 1   stock_code         399841 non-null  object        \n",
      " 2   description        399841 non-null  object        \n",
      " 3   quantity           399841 non-null  int64         \n",
      " 4   invoice_date       399841 non-null  datetime64[ns]\n",
      " 5   price              399841 non-null  float64       \n",
      " 6   customer_id        399841 non-null  object        \n",
      " 7   country            399841 non-null  object        \n",
      " 8   total_order_value  399841 non-null  float64       \n",
      "dtypes: datetime64[ns](1), float64(2), int64(1), object(5)\n",
      "memory usage: 27.5+ MB\n",
      "None\n"
     ]
    }
   ],
   "source": [
    "print(ot.info())"
   ]
  },
  {
   "cell_type": "code",
   "execution_count": 11,
   "id": "a02dad01-5d9f-4003-b57a-a21b26a732cd",
   "metadata": {},
   "outputs": [
    {
     "data": {
      "text/html": [
       "<div>\n",
       "<style scoped>\n",
       "    .dataframe tbody tr th:only-of-type {\n",
       "        vertical-align: middle;\n",
       "    }\n",
       "\n",
       "    .dataframe tbody tr th {\n",
       "        vertical-align: top;\n",
       "    }\n",
       "\n",
       "    .dataframe thead th {\n",
       "        text-align: right;\n",
       "    }\n",
       "</style>\n",
       "<table border=\"1\" class=\"dataframe\">\n",
       "  <thead>\n",
       "    <tr style=\"text-align: right;\">\n",
       "      <th></th>\n",
       "      <th>quantity</th>\n",
       "      <th>price</th>\n",
       "      <th>total_order_value</th>\n",
       "    </tr>\n",
       "  </thead>\n",
       "  <tbody>\n",
       "    <tr>\n",
       "      <th>count</th>\n",
       "      <td>399841.000000</td>\n",
       "      <td>399841.000000</td>\n",
       "      <td>399841.000000</td>\n",
       "    </tr>\n",
       "    <tr>\n",
       "      <th>mean</th>\n",
       "      <td>12.224359</td>\n",
       "      <td>2.952914</td>\n",
       "      <td>20.716904</td>\n",
       "    </tr>\n",
       "    <tr>\n",
       "      <th>std</th>\n",
       "      <td>250.788860</td>\n",
       "      <td>7.317593</td>\n",
       "      <td>425.471765</td>\n",
       "    </tr>\n",
       "    <tr>\n",
       "      <th>min</th>\n",
       "      <td>-80995.000000</td>\n",
       "      <td>0.000000</td>\n",
       "      <td>-168469.600000</td>\n",
       "    </tr>\n",
       "    <tr>\n",
       "      <th>25%</th>\n",
       "      <td>2.000000</td>\n",
       "      <td>1.250000</td>\n",
       "      <td>4.250000</td>\n",
       "    </tr>\n",
       "    <tr>\n",
       "      <th>50%</th>\n",
       "      <td>5.000000</td>\n",
       "      <td>1.950000</td>\n",
       "      <td>11.580000</td>\n",
       "    </tr>\n",
       "    <tr>\n",
       "      <th>75%</th>\n",
       "      <td>12.000000</td>\n",
       "      <td>3.750000</td>\n",
       "      <td>19.500000</td>\n",
       "    </tr>\n",
       "    <tr>\n",
       "      <th>max</th>\n",
       "      <td>80995.000000</td>\n",
       "      <td>1599.260000</td>\n",
       "      <td>168469.600000</td>\n",
       "    </tr>\n",
       "  </tbody>\n",
       "</table>\n",
       "</div>"
      ],
      "text/plain": [
       "            quantity          price  total_order_value\n",
       "count  399841.000000  399841.000000      399841.000000\n",
       "mean       12.224359       2.952914          20.716904\n",
       "std       250.788860       7.317593         425.471765\n",
       "min    -80995.000000       0.000000     -168469.600000\n",
       "25%         2.000000       1.250000           4.250000\n",
       "50%         5.000000       1.950000          11.580000\n",
       "75%        12.000000       3.750000          19.500000\n",
       "max     80995.000000    1599.260000      168469.600000"
      ]
     },
     "execution_count": 11,
     "metadata": {},
     "output_type": "execute_result"
    }
   ],
   "source": [
    "ot.describe()"
   ]
  },
  {
   "cell_type": "code",
   "execution_count": 12,
   "id": "672b1089-11ae-4fcb-95d2-fa192b1df3ac",
   "metadata": {},
   "outputs": [
    {
     "data": {
      "text/html": [
       "<div>\n",
       "<style scoped>\n",
       "    .dataframe tbody tr th:only-of-type {\n",
       "        vertical-align: middle;\n",
       "    }\n",
       "\n",
       "    .dataframe tbody tr th {\n",
       "        vertical-align: top;\n",
       "    }\n",
       "\n",
       "    .dataframe thead th {\n",
       "        text-align: right;\n",
       "    }\n",
       "</style>\n",
       "<table border=\"1\" class=\"dataframe\">\n",
       "  <thead>\n",
       "    <tr style=\"text-align: right;\">\n",
       "      <th></th>\n",
       "      <th>invoice</th>\n",
       "      <th>stock_code</th>\n",
       "      <th>description</th>\n",
       "      <th>customer_id</th>\n",
       "      <th>country</th>\n",
       "    </tr>\n",
       "  </thead>\n",
       "  <tbody>\n",
       "    <tr>\n",
       "      <th>count</th>\n",
       "      <td>399841</td>\n",
       "      <td>399841</td>\n",
       "      <td>399841</td>\n",
       "      <td>399841</td>\n",
       "      <td>399841</td>\n",
       "    </tr>\n",
       "    <tr>\n",
       "      <th>unique</th>\n",
       "      <td>21791</td>\n",
       "      <td>3679</td>\n",
       "      <td>3644</td>\n",
       "      <td>4363</td>\n",
       "      <td>37</td>\n",
       "    </tr>\n",
       "    <tr>\n",
       "      <th>top</th>\n",
       "      <td>576339</td>\n",
       "      <td>85123A</td>\n",
       "      <td>CREAM HANGING HEART T-LIGHT HOLDER</td>\n",
       "      <td>u17841</td>\n",
       "      <td>United Kingdom</td>\n",
       "    </tr>\n",
       "    <tr>\n",
       "      <th>freq</th>\n",
       "      <td>542</td>\n",
       "      <td>2065</td>\n",
       "      <td>2065</td>\n",
       "      <td>7800</td>\n",
       "      <td>356158</td>\n",
       "    </tr>\n",
       "  </tbody>\n",
       "</table>\n",
       "</div>"
      ],
      "text/plain": [
       "       invoice stock_code                         description customer_id  \\\n",
       "count   399841     399841                              399841      399841   \n",
       "unique   21791       3679                                3644        4363   \n",
       "top     576339     85123A  CREAM HANGING HEART T-LIGHT HOLDER      u17841   \n",
       "freq       542       2065                                2065        7800   \n",
       "\n",
       "               country  \n",
       "count           399841  \n",
       "unique              37  \n",
       "top     United Kingdom  \n",
       "freq            356158  "
      ]
     },
     "execution_count": 12,
     "metadata": {},
     "output_type": "execute_result"
    }
   ],
   "source": [
    "ot.describe(include=object)"
   ]
  },
  {
   "cell_type": "markdown",
   "id": "7aa63b21-dac7-4afb-8ebb-ba2ab3885ceb",
   "metadata": {},
   "source": [
    "### Let's explore the outliers"
   ]
  },
  {
   "cell_type": "code",
   "execution_count": 13,
   "id": "a2f62371-0399-480a-b5ab-d23912fb95f2",
   "metadata": {},
   "outputs": [
    {
     "data": {
      "text/plain": [
       "<Axes: >"
      ]
     },
     "execution_count": 13,
     "metadata": {},
     "output_type": "execute_result"
    },
    {
     "data": {
      "image/png": "[encoded data removed]",
      "text/plain": [
       "<Figure size 640x480 with 1 Axes>"
      ]
     },
     "metadata": {},
     "output_type": "display_data"
    }
   ],
   "source": [
    "ot['price'].plot.box()"
   ]
  },
  {
   "cell_type": "markdown",
   "id": "8be5792f-35f2-4a82-8e98-70f8d079ef99",
   "metadata": {},
   "source": [
    "### It is clear that there are outliers on the price column. Let's check how many transactions are with price equal to zero"
   ]
  },
  {
   "cell_type": "code",
   "execution_count": 14,
   "id": "df9978c7-5d57-468d-9a4f-260476eaa75e",
   "metadata": {},
   "outputs": [
    {
     "name": "stdout",
     "output_type": "stream",
     "text": [
      "There are 34 transactions with price zero. That represents 0.01 % of the data, therefore they are gonna be removed from the dataset.\n"
     ]
    }
   ],
   "source": [
    "# Number of transactions with price equal to zero\n",
    "n_price_zero = ot[ot['price'] == 0].shape[0]\n",
    "print(f\"There are {n_price_zero} transactions with price zero. That represents {round(n_price_zero * 100 / ot.shape[0], 2)} % of the data, therefore they are gonna be removed from the dataset.\")"
   ]
  },
  {
   "cell_type": "code",
   "execution_count": 15,
   "id": "e8fe0b4f-14aa-4346-97a6-6b5867bcacf8",
   "metadata": {},
   "outputs": [],
   "source": [
    "ot.drop(ot[ot['price'] == 0].index, axis=0, inplace=True)\n",
    "ot.reset_index(inplace=True, drop=True)"
   ]
  },
  {
   "cell_type": "code",
   "execution_count": 16,
   "id": "10a53e20-1a8d-4f54-9d6a-fae4264e38b1",
   "metadata": {},
   "outputs": [],
   "source": [
    "# Let's start by exploring the outliers in the price column\n",
    "_, mean_price, std_price, min_price, Q1_price, Q2_price, Q3_price, max_price = ot.price.describe()\n",
    "IQR_price = Q3_price - Q1_price\n",
    "low_lim_price = Q1_price - 1.5 * IQR_price\n",
    "up_lim_price = Q3_price + 1.5 * IQR_price"
   ]
  },
  {
   "cell_type": "code",
   "execution_count": 17,
   "id": "bfbcad21-0127-4e4b-a82d-2d990a0cac1f",
   "metadata": {},
   "outputs": [
    {
     "data": {
      "text/plain": [
       "Text(0.5, 23.52222222222222, 'Price (pounds)')"
      ]
     },
     "execution_count": 17,
     "metadata": {},
     "output_type": "execute_result"
    },
    {
     "data": {
      "image/png": "[encoded data removed]",
      "text/plain": [
       "<Figure size 640x480 with 1 Axes>"
      ]
     },
     "metadata": {},
     "output_type": "display_data"
    }
   ],
   "source": [
    "# Price histogram plotting\n",
    "plt.hist(ot.price[ot['price'] < up_lim_price])\n",
    "plt.axvline(x=Q2_price, color='red', label='median')\n",
    "plt.axvline(x=up_lim_price, color='green', label='outlier upper limit')\n",
    "plt.title(\"Price distribution without outliers\")\n",
    "plt.legend(loc='upper right')\n",
    "plt.tight_layout()\n",
    "plt.xlabel('Price (pounds)')"
   ]
  },
  {
   "cell_type": "code",
   "execution_count": 18,
   "id": "21f04d40-643b-4f7e-8f17-159cc6ca36bd",
   "metadata": {},
   "outputs": [
    {
     "name": "stdout",
     "output_type": "stream",
     "text": [
      "8.75 % of my data are outliers on the price variable\n"
     ]
    }
   ],
   "source": [
    "outlier_perc = round(ot[ot['price'] >= up_lim_price].shape[0] * 100 / ot.shape[0], 2)\n",
    "print(f\"{outlier_perc} % of my data are outliers on the price variable\")"
   ]
  },
  {
   "cell_type": "markdown",
   "id": "90bdf27e-3fd4-4a45-8cc2-07b7131682ab",
   "metadata": {},
   "source": [
    "## To appling the k-means to segment my data I must handle the outliers because they affect the centroids' calculation from the method"
   ]
  },
  {
   "cell_type": "markdown",
   "id": "652b648f-07a0-40f8-a2f5-27dbd9073696",
   "metadata": {},
   "source": [
    "### Let's explore seasonality in the data"
   ]
  },
  {
   "cell_type": "code",
   "execution_count": 19,
   "id": "7e0d28ee-8fb1-4c2b-ad3f-cf1d6e7652d1",
   "metadata": {},
   "outputs": [],
   "source": [
    "# Setting up monthly, yearly, daily data\n",
    "ot['invoice_year'] = ot['invoice_date'].dt.year\n",
    "ot['invoice_month'] = ot['invoice_date'].dt.month\n",
    "ot['invoice_weekday'] = ot['invoice_date'].dt.dayofweek\n",
    "ot['invoice_dayname'] = ot['invoice_date'].dt.day_name()"
   ]
  },
  {
   "cell_type": "code",
   "execution_count": 20,
   "id": "f5c90f3a-d91c-42e8-b3d7-7ef69e731edb",
   "metadata": {},
   "outputs": [],
   "source": [
    "# Defining color palette for plots\n",
    "palette = sns.color_palette(\"tab10\")"
   ]
  },
  {
   "cell_type": "code",
   "execution_count": 21,
   "id": "aa5709a6-3f9f-4cc1-baba-0a2958e7b0c1",
   "metadata": {},
   "outputs": [
    {
     "data": {
      "image/png": "[encoded data removed]",
      "text/plain": [
       "<Figure size 640x480 with 1 Axes>"
      ]
     },
     "metadata": {},
     "output_type": "display_data"
    }
   ],
   "source": [
    "# Distribution of invoices per month\n",
    "sns.histplot(data=ot, x='invoice_month', hue='invoice_year', bins=12, kde=False, palette=palette)\n",
    "plt.title(\"Number of invoices per month\")\n",
    "plt.xlabel(\"Month of the year\")\n",
    "plt.tight_layout()\n",
    "plt.savefig(\"../visualizations/invoice_month.png\")"
   ]
  },
  {
   "cell_type": "markdown",
   "id": "c3a835c1-a959-44a6-ada4-30906d9f3ce4",
   "metadata": {},
   "source": [
    "### The number of invoice has a boost from September on, having a peak on November (presumably because of Black Friday) reachig its lowest point on December 2011."
   ]
  },
  {
   "cell_type": "code",
   "execution_count": 22,
   "id": "c2849715-b297-411f-87f6-5b94f84b4af6",
   "metadata": {},
   "outputs": [],
   "source": [
    "# To plot the days in order\n",
    "day_order = ['Monday', 'Tuesday', 'Wednesday', 'Thursday', 'Friday', 'Saturday', 'Sunday']\n",
    "ot['invoice_dayname'] = pd.Categorical(ot['invoice_date'].dt.day_name(), categories=day_order, ordered=True)"
   ]
  },
  {
   "cell_type": "code",
   "execution_count": 23,
   "id": "b4b3f8b2-55cb-4665-aa75-fb787de8b74e",
   "metadata": {},
   "outputs": [
    {
     "data": {
      "image/png": "[encoded data removed]",
      "text/plain": [
       "<Figure size 640x480 with 1 Axes>"
      ]
     },
     "metadata": {},
     "output_type": "display_data"
    }
   ],
   "source": [
    "# Distributions of invoices per day of the week\n",
    "sns.histplot(data=ot, x='invoice_dayname', multiple='stack', bins=12, kde=False)\n",
    "plt.title(\"Number of invoices per day of the week\")\n",
    "plt.xlabel(\"Day of the week\")\n",
    "plt.xticks(rotation=45)\n",
    "plt.tight_layout()\n",
    "plt.savefig(\"../visualizations/invoice_weekday.png\")"
   ]
  },
  {
   "cell_type": "code",
   "execution_count": 24,
   "id": "128eb724-733c-4e1a-a255-7a191bb67fd1",
   "metadata": {},
   "outputs": [
    {
     "data": {
      "text/plain": [
       "['Wednesday', 'Thursday', 'Friday', 'Sunday', 'Monday', 'Tuesday']\n",
       "Categories (7, object): ['Monday' < 'Tuesday' < 'Wednesday' < 'Thursday' < 'Friday' < 'Saturday' < 'Sunday']"
      ]
     },
     "execution_count": 24,
     "metadata": {},
     "output_type": "execute_result"
    }
   ],
   "source": [
    "ot['invoice_dayname'].unique()"
   ]
  },
  {
   "cell_type": "markdown",
   "id": "b89fb86c-d47c-49ed-9664-d11fc8370f23",
   "metadata": {},
   "source": [
    "### The number of invoice has a peak on Thursdays. It is interesting that there is no data available for Saturdays"
   ]
  },
  {
   "cell_type": "markdown",
   "id": "ffb9649f-82d0-4812-8048-a491ea65ecf5",
   "metadata": {},
   "source": [
    "## Let's explore some KPIs"
   ]
  },
  {
   "cell_type": "code",
   "execution_count": 25,
   "id": "160f45e6-f44f-467a-ae9d-8cae837c93be",
   "metadata": {},
   "outputs": [
    {
     "name": "stdout",
     "output_type": "stream",
     "text": [
      "On average, there are 18 stock codes per invoice\n"
     ]
    }
   ],
   "source": [
    "# Line Items (Number of products per invoice)\n",
    "line_items = ot.groupby(\"invoice\")['stock_code'].count()\n",
    "print(f\"On average, there are {round(line_items.mean())} stock codes per invoice\")"
   ]
  },
  {
   "cell_type": "code",
   "execution_count": 26,
   "id": "7f62472e-f373-4835-b451-d4af68a8e676",
   "metadata": {},
   "outputs": [
    {
     "name": "stdout",
     "output_type": "stream",
     "text": [
      "The average purchase per invoice is 380.18 pounds\n"
     ]
    }
   ],
   "source": [
    "# Average order value per invoice\n",
    "avg_order = ot.groupby(\"invoice\").sum()['total_order_value']\n",
    "print(f\"The average purchase per invoice is {round(avg_order.mean(), 2)} pounds\")"
   ]
  },
  {
   "cell_type": "code",
   "execution_count": 27,
   "id": "6b36b5fc-8414-4716-b192-311dcbfcdf09",
   "metadata": {},
   "outputs": [
    {
     "name": "stdout",
     "output_type": "stream",
     "text": [
      "In average the customer spent 1899.01 pounds from December 2010 to December 2011\n"
     ]
    }
   ],
   "source": [
    "# Average order value per customer\n",
    "cust_spent = ot.groupby(\"customer_id\").sum()['total_order_value']\n",
    "print(f\"In average the customer spent {round(cust_spent.mean(),2)} pounds from December 2010 to December 2011\")"
   ]
  },
  {
   "cell_type": "code",
   "execution_count": 28,
   "id": "ed0b6097-a599-4a35-865a-d9aac09c58a5",
   "metadata": {},
   "outputs": [
    {
     "name": "stdout",
     "output_type": "stream",
     "text": [
      "There are 901 customers (out of 4362) who spent more than the average customers\n"
     ]
    }
   ],
   "source": [
    "# Number of customers who spent more than the average\n",
    "cust_above_avg = (cust_spent > cust_spent.mean()).sum() \n",
    "print(f\"There are {cust_above_avg} customers (out of {ot['customer_id'].nunique()}) who spent more than the average customers\")"
   ]
  },
  {
   "cell_type": "code",
   "execution_count": 29,
   "id": "ed000403-7d3c-463f-8e4d-982faa7539b8",
   "metadata": {},
   "outputs": [
    {
     "name": "stdout",
     "output_type": "stream",
     "text": [
      "The customers made on average 92 purchases\n"
     ]
    }
   ],
   "source": [
    "# Average invoices per customer\n",
    "inv_cust = ot.groupby('customer_id').count()['invoice']\n",
    "print(f\"The customers made on average {round(inv_cust.mean())} purchases\")"
   ]
  },
  {
   "cell_type": "code",
   "execution_count": 30,
   "id": "e468c005-ceb7-4199-8aa2-3ac1608dd8ca",
   "metadata": {},
   "outputs": [
    {
     "name": "stdout",
     "output_type": "stream",
     "text": [
      "There are 1192 customers who made more purchases than the average\n"
     ]
    }
   ],
   "source": [
    "# How many customers are above the average invoice per customer?\n",
    "print(f\"There are {(inv_cust > inv_cust.mean()).sum()} customers who made more purchases than the average\")"
   ]
  },
  {
   "cell_type": "code",
   "execution_count": 31,
   "id": "0d82be3b-e3b7-4f1f-8403-bdecb0d4c754",
   "metadata": {},
   "outputs": [
    {
     "data": {
      "text/html": [
       "<div>\n",
       "<style scoped>\n",
       "    .dataframe tbody tr th:only-of-type {\n",
       "        vertical-align: middle;\n",
       "    }\n",
       "\n",
       "    .dataframe tbody tr th {\n",
       "        vertical-align: top;\n",
       "    }\n",
       "\n",
       "    .dataframe thead th {\n",
       "        text-align: right;\n",
       "    }\n",
       "</style>\n",
       "<table border=\"1\" class=\"dataframe\">\n",
       "  <thead>\n",
       "    <tr style=\"text-align: right;\">\n",
       "      <th></th>\n",
       "      <th>invoice</th>\n",
       "      <th>stock_code</th>\n",
       "    </tr>\n",
       "    <tr>\n",
       "      <th>customer_id</th>\n",
       "      <th></th>\n",
       "      <th></th>\n",
       "    </tr>\n",
       "  </thead>\n",
       "  <tbody>\n",
       "    <tr>\n",
       "      <th>u14096</th>\n",
       "      <td>1894</td>\n",
       "      <td>836</td>\n",
       "    </tr>\n",
       "    <tr>\n",
       "      <th>u12748</th>\n",
       "      <td>1598</td>\n",
       "      <td>885</td>\n",
       "    </tr>\n",
       "    <tr>\n",
       "      <th>u17841</th>\n",
       "      <td>1369</td>\n",
       "      <td>579</td>\n",
       "    </tr>\n",
       "    <tr>\n",
       "      <th>u14911</th>\n",
       "      <td>937</td>\n",
       "      <td>568</td>\n",
       "    </tr>\n",
       "    <tr>\n",
       "      <th>u16549</th>\n",
       "      <td>502</td>\n",
       "      <td>303</td>\n",
       "    </tr>\n",
       "    <tr>\n",
       "      <th>...</th>\n",
       "      <td>...</td>\n",
       "      <td>...</td>\n",
       "    </tr>\n",
       "    <tr>\n",
       "      <th>u14235</th>\n",
       "      <td>1</td>\n",
       "      <td>1</td>\n",
       "    </tr>\n",
       "    <tr>\n",
       "      <th>u1808</th>\n",
       "      <td>1</td>\n",
       "      <td>1</td>\n",
       "    </tr>\n",
       "    <tr>\n",
       "      <th>u14292</th>\n",
       "      <td>1</td>\n",
       "      <td>1</td>\n",
       "    </tr>\n",
       "    <tr>\n",
       "      <th>u12603</th>\n",
       "      <td>1</td>\n",
       "      <td>1</td>\n",
       "    </tr>\n",
       "    <tr>\n",
       "      <th>u17929</th>\n",
       "      <td>1</td>\n",
       "      <td>1</td>\n",
       "    </tr>\n",
       "  </tbody>\n",
       "</table>\n",
       "<p>1705 rows × 2 columns</p>\n",
       "</div>"
      ],
      "text/plain": [
       "             invoice  stock_code\n",
       "customer_id                     \n",
       "u14096          1894         836\n",
       "u12748          1598         885\n",
       "u17841          1369         579\n",
       "u14911           937         568\n",
       "u16549           502         303\n",
       "...              ...         ...\n",
       "u14235             1           1\n",
       "u1808              1           1\n",
       "u14292             1           1\n",
       "u12603             1           1\n",
       "u17929             1           1\n",
       "\n",
       "[1705 rows x 2 columns]"
      ]
     },
     "execution_count": 31,
     "metadata": {},
     "output_type": "execute_result"
    }
   ],
   "source": [
    "# filtering the data by month and year\n",
    "idx_month_year = (ot['invoice_month'] == 11) & (ot['invoice_year'] == 2011) \n",
    "ot[idx_month_year].groupby(\"customer_id\").agg({'invoice': 'count', 'stock_code': 'nunique'}).sort_values(by='invoice', ascending=False)"
   ]
  },
  {
   "cell_type": "markdown",
   "id": "e9f77a53-2c84-488d-bc8f-5dbec28284b7",
   "metadata": {},
   "source": [
    "### For the top 5 customers/products check the purchases on time."
   ]
  },
  {
   "cell_type": "markdown",
   "id": "8e3cd259-79e7-4770-9074-b76b81849e13",
   "metadata": {},
   "source": [
    "### Let's explore the data grouped by customer"
   ]
  },
  {
   "cell_type": "code",
   "execution_count": 32,
   "id": "7dc1fcf6-9764-477e-993a-e5b572f6017f",
   "metadata": {},
   "outputs": [],
   "source": [
    "cust_data = pd.DataFrame()\n",
    "cust_group = ot.groupby('customer_id')"
   ]
  },
  {
   "cell_type": "code",
   "execution_count": 33,
   "id": "d632718d-5dff-450e-ba38-f30131e54132",
   "metadata": {},
   "outputs": [],
   "source": [
    "# Let's define customer loyalty as the difference in time between the 1st and the last purchase\n",
    "delta_date = (ot.groupby('customer_id').first()['invoice_date'] - ot.groupby('customer_id').last()['invoice_date']).abs()\n",
    "cust_data['loyalty_time'] = delta_date.dt.days"
   ]
  },
  {
   "cell_type": "code",
   "execution_count": 34,
   "id": "01009083-3c9f-4e4d-b224-722f03b70507",
   "metadata": {},
   "outputs": [
    {
     "name": "stdout",
     "output_type": "stream",
     "text": [
      "There are 1559 customer with less than 1 day of loyalty. This represent 36% of the total clients\n"
     ]
    }
   ],
   "source": [
    "once_cust = cust_data[cust_data['loyalty_time'] == 0].shape[0]\n",
    "print(f\"There are {once_cust} customer with less than 1 day of loyalty. This represent {round(once_cust *100 / cust_data.shape[0])}% of the total clients\")"
   ]
  },
  {
   "cell_type": "code",
   "execution_count": 35,
   "id": "bc9338af-7711-4d4e-a666-8e7989027496",
   "metadata": {},
   "outputs": [
    {
     "name": "stdout",
     "output_type": "stream",
     "text": [
      "The average loyalty time of the clients is 130 days\n"
     ]
    },
    {
     "data": {
      "text/plain": [
       "(0, 372)"
      ]
     },
     "execution_count": 35,
     "metadata": {},
     "output_type": "execute_result"
    }
   ],
   "source": [
    "print(f\"The average loyalty time of the clients is {round(cust_data['loyalty_time'].mean())} days\")\n",
    "round(cust_data['loyalty_time'].min()), round(cust_data['loyalty_time'].max())"
   ]
  },
  {
   "cell_type": "code",
   "execution_count": 36,
   "id": "56042a89-44d3-4352-ad72-720ca8bdc1fb",
   "metadata": {},
   "outputs": [
    {
     "data": {
      "image/png": "[encoded data removed]",
      "text/plain": [
       "<Figure size 640x480 with 1 Axes>"
      ]
     },
     "metadata": {},
     "output_type": "display_data"
    }
   ],
   "source": [
    "plt.hist(cust_data['loyalty_time'])\n",
    "plt.title(\"Loyalty days distribution\")\n",
    "plt.xlabel(\"Days of loyalty\")\n",
    "plt.ylabel(\"Number of clients\")\n",
    "plt.tight_layout()\n",
    "plt.savefig(\"../visualizations/loyalty_distribution_cust_onlyonce.png\")"
   ]
  },
  {
   "cell_type": "markdown",
   "id": "d9a9eb03-9ff1-4c53-a847-bdc0850215c0",
   "metadata": {},
   "source": [
    "### Excluding the once in a life time clients the distribution of loyalty days is shown below"
   ]
  },
  {
   "cell_type": "code",
   "execution_count": 37,
   "id": "733f36b0-0b5d-4233-bd6f-e20d984b8408",
   "metadata": {},
   "outputs": [
    {
     "data": {
      "image/png": "[encoded data removed]",
      "text/plain": [
       "<Figure size 640x480 with 1 Axes>"
      ]
     },
     "metadata": {},
     "output_type": "display_data"
    }
   ],
   "source": [
    "plt.hist(cust_data['loyalty_time'][cust_data.sort_values(by='loyalty_time', ascending=False)['loyalty_time']>0])\n",
    "plt.title(\"Loyalty days distribution\")\n",
    "plt.xlabel(\"Days of loyalty\")\n",
    "plt.ylabel(\"Number of clients\")\n",
    "plt.tight_layout()\n",
    "plt.savefig(\"../visualizations/loyalty_distribution.png\")"
   ]
  },
  {
   "cell_type": "markdown",
   "id": "a0bcf9bb-d901-4670-abab-3c176b98e874",
   "metadata": {},
   "source": [
    "### I will perform a customer segmentation considering just the transactions without any return. Therefore, I will create two new datasets. The first one excluding the returned transactions and the second one with just the returned transactions."
   ]
  },
  {
   "cell_type": "code",
   "execution_count": 38,
   "id": "18fb90b7-1918-488e-85dd-1bf7a9efdabf",
   "metadata": {},
   "outputs": [],
   "source": [
    "# Grouping the data by customer and stock code to get the transactions with their returns\n",
    "invoice_list = ot.groupby(['customer_id', 'stock_code']).agg({'invoice': list, 'quantity': 'sum'})\n",
    "invoice_list = invoice_list[ot.groupby(['customer_id', 'stock_code'])['quantity'].sum() <= 0].reset_index()"
   ]
  },
  {
   "cell_type": "code",
   "execution_count": 39,
   "id": "4215336a-8034-4c98-85fd-e4f0e6014342",
   "metadata": {},
   "outputs": [],
   "source": [
    "invoice_idx = []\n",
    "[invoice_idx.extend(ids) for ids in invoice_list['invoice']];"
   ]
  },
  {
   "cell_type": "code",
   "execution_count": 40,
   "id": "c894a311-8783-4d20-9493-777cc946ce30",
   "metadata": {},
   "outputs": [],
   "source": [
    "returns = ot[ot['invoice'].isin(invoice_idx)]"
   ]
  },
  {
   "cell_type": "code",
   "execution_count": 41,
   "id": "3ce5e304-35c7-49c5-8a5b-9ce1ab62feea",
   "metadata": {},
   "outputs": [],
   "source": [
    "# Dataset without returns\n",
    "online_trans = ot.drop(returns.index, axis=0).reset_index()"
   ]
  },
  {
   "cell_type": "code",
   "execution_count": 42,
   "id": "cb6d148e-ac67-4243-942e-e12586483e5e",
   "metadata": {},
   "outputs": [
    {
     "name": "stdout",
     "output_type": "stream",
     "text": [
      "7.56 % are returns whose transaction were made in the time interval of the data\n"
     ]
    }
   ],
   "source": [
    "print(f\"{round((ot.shape[0] - online_trans.shape[0]) * 100 / ot.shape[0], 2)} % are returns whose transaction were made in the time interval of the data\")"
   ]
  },
  {
   "cell_type": "code",
   "execution_count": 43,
   "id": "5af72c45-f3d2-4762-adef-bbc602abae61",
   "metadata": {},
   "outputs": [],
   "source": [
    "# The negative values on the remaining data are considered return whose transactions were done outside the time interval of the data\n",
    "retunr_wt_trans = online_trans[online_trans['quantity']<= 0]"
   ]
  },
  {
   "cell_type": "markdown",
   "id": "99632110-f772-41aa-bd36-809dd9836320",
   "metadata": {},
   "source": [
    "### The negative values on the remaining data are considered return whose transactions were done outside the time interval of the data"
   ]
  },
  {
   "cell_type": "code",
   "execution_count": 44,
   "id": "44ae2a50-20c3-4dca-bb27-856f21f6b57c",
   "metadata": {},
   "outputs": [
    {
     "name": "stdout",
     "output_type": "stream",
     "text": [
      "1.1% are returns without quivalent transaction on the time interval of the data. These transactions are gonna be dropped from the data\n"
     ]
    }
   ],
   "source": [
    "print(f\"{round(retunr_wt_trans.shape[0] * 100 / ot.shape[0], 2)}% are returns without quivalent transaction on the time interval of the data. These transactions are gonna be dropped from the data\")"
   ]
  },
  {
   "cell_type": "code",
   "execution_count": 45,
   "id": "bd19ec27-348f-4169-995f-a14cd3456820",
   "metadata": {},
   "outputs": [],
   "source": [
    "# Dropping returned data without transaction on the time interval of the dataframe\n",
    "online_trans.drop(retunr_wt_trans.index, axis=0, inplace=True)"
   ]
  },
  {
   "cell_type": "code",
   "execution_count": 46,
   "id": "fe2127a9-7c38-41f0-9e4f-43e7c8276473",
   "metadata": {},
   "outputs": [],
   "source": [
    "# Changing the name of the index column to stress that it is the index of the data with returns\n",
    "online_trans.rename(columns={'index': 'old_index'}, inplace=True)"
   ]
  },
  {
   "cell_type": "markdown",
   "id": "23ec6f95-d6d3-4ecb-84da-828aaa78992f",
   "metadata": {},
   "source": [
    "### The online_trans is gonna be the data that I will use for the customer segmentation analyis. Let's make an deep dive into the data to get to know it better"
   ]
  },
  {
   "cell_type": "code",
   "execution_count": 47,
   "id": "f6dded30-685a-4a13-9d03-2fc79d2a47ad",
   "metadata": {},
   "outputs": [
    {
     "data": {
      "text/html": [
       "<div>\n",
       "<style scoped>\n",
       "    .dataframe tbody tr th:only-of-type {\n",
       "        vertical-align: middle;\n",
       "    }\n",
       "\n",
       "    .dataframe tbody tr th {\n",
       "        vertical-align: top;\n",
       "    }\n",
       "\n",
       "    .dataframe thead th {\n",
       "        text-align: right;\n",
       "    }\n",
       "</style>\n",
       "<table border=\"1\" class=\"dataframe\">\n",
       "  <thead>\n",
       "    <tr style=\"text-align: right;\">\n",
       "      <th></th>\n",
       "      <th>old_index</th>\n",
       "      <th>quantity</th>\n",
       "      <th>price</th>\n",
       "      <th>total_order_value</th>\n",
       "      <th>invoice_year</th>\n",
       "      <th>invoice_month</th>\n",
       "      <th>invoice_weekday</th>\n",
       "    </tr>\n",
       "  </thead>\n",
       "  <tbody>\n",
       "    <tr>\n",
       "      <th>count</th>\n",
       "      <td>365180.000000</td>\n",
       "      <td>365180.000000</td>\n",
       "      <td>365180.000000</td>\n",
       "      <td>365180.000000</td>\n",
       "      <td>365180.000000</td>\n",
       "      <td>365180.000000</td>\n",
       "      <td>365180.000000</td>\n",
       "    </tr>\n",
       "    <tr>\n",
       "      <th>mean</th>\n",
       "      <td>201388.280656</td>\n",
       "      <td>12.879829</td>\n",
       "      <td>2.905252</td>\n",
       "      <td>21.919158</td>\n",
       "      <td>2010.934356</td>\n",
       "      <td>7.650090</td>\n",
       "      <td>2.592034</td>\n",
       "    </tr>\n",
       "    <tr>\n",
       "      <th>std</th>\n",
       "      <td>115650.296643</td>\n",
       "      <td>43.577928</td>\n",
       "      <td>7.381186</td>\n",
       "      <td>95.735167</td>\n",
       "      <td>0.247660</td>\n",
       "      <td>3.405954</td>\n",
       "      <td>1.920402</td>\n",
       "    </tr>\n",
       "    <tr>\n",
       "      <th>min</th>\n",
       "      <td>0.000000</td>\n",
       "      <td>1.000000</td>\n",
       "      <td>0.001000</td>\n",
       "      <td>0.000000</td>\n",
       "      <td>2010.000000</td>\n",
       "      <td>1.000000</td>\n",
       "      <td>0.000000</td>\n",
       "    </tr>\n",
       "    <tr>\n",
       "      <th>25%</th>\n",
       "      <td>101119.750000</td>\n",
       "      <td>2.000000</td>\n",
       "      <td>1.250000</td>\n",
       "      <td>4.950000</td>\n",
       "      <td>2011.000000</td>\n",
       "      <td>5.000000</td>\n",
       "      <td>1.000000</td>\n",
       "    </tr>\n",
       "    <tr>\n",
       "      <th>50%</th>\n",
       "      <td>202424.500000</td>\n",
       "      <td>6.000000</td>\n",
       "      <td>1.950000</td>\n",
       "      <td>11.900000</td>\n",
       "      <td>2011.000000</td>\n",
       "      <td>8.000000</td>\n",
       "      <td>2.000000</td>\n",
       "    </tr>\n",
       "    <tr>\n",
       "      <th>75%</th>\n",
       "      <td>301284.250000</td>\n",
       "      <td>12.000000</td>\n",
       "      <td>3.750000</td>\n",
       "      <td>19.800000</td>\n",
       "      <td>2011.000000</td>\n",
       "      <td>11.000000</td>\n",
       "      <td>4.000000</td>\n",
       "    </tr>\n",
       "    <tr>\n",
       "      <th>max</th>\n",
       "      <td>399806.000000</td>\n",
       "      <td>4800.000000</td>\n",
       "      <td>1599.260000</td>\n",
       "      <td>38970.000000</td>\n",
       "      <td>2011.000000</td>\n",
       "      <td>12.000000</td>\n",
       "      <td>6.000000</td>\n",
       "    </tr>\n",
       "  </tbody>\n",
       "</table>\n",
       "</div>"
      ],
      "text/plain": [
       "           old_index       quantity          price  total_order_value  \\\n",
       "count  365180.000000  365180.000000  365180.000000      365180.000000   \n",
       "mean   201388.280656      12.879829       2.905252          21.919158   \n",
       "std    115650.296643      43.577928       7.381186          95.735167   \n",
       "min         0.000000       1.000000       0.001000           0.000000   \n",
       "25%    101119.750000       2.000000       1.250000           4.950000   \n",
       "50%    202424.500000       6.000000       1.950000          11.900000   \n",
       "75%    301284.250000      12.000000       3.750000          19.800000   \n",
       "max    399806.000000    4800.000000    1599.260000       38970.000000   \n",
       "\n",
       "        invoice_year  invoice_month  invoice_weekday  \n",
       "count  365180.000000  365180.000000    365180.000000  \n",
       "mean     2010.934356       7.650090         2.592034  \n",
       "std         0.247660       3.405954         1.920402  \n",
       "min      2010.000000       1.000000         0.000000  \n",
       "25%      2011.000000       5.000000         1.000000  \n",
       "50%      2011.000000       8.000000         2.000000  \n",
       "75%      2011.000000      11.000000         4.000000  \n",
       "max      2011.000000      12.000000         6.000000  "
      ]
     },
     "execution_count": 47,
     "metadata": {},
     "output_type": "execute_result"
    }
   ],
   "source": [
    "online_trans.describe()"
   ]
  },
  {
   "cell_type": "code",
   "execution_count": 48,
   "id": "2c410f5f-9824-4923-923d-9fd5b613260c",
   "metadata": {},
   "outputs": [
    {
     "data": {
      "text/html": [
       "<div>\n",
       "<style scoped>\n",
       "    .dataframe tbody tr th:only-of-type {\n",
       "        vertical-align: middle;\n",
       "    }\n",
       "\n",
       "    .dataframe tbody tr th {\n",
       "        vertical-align: top;\n",
       "    }\n",
       "\n",
       "    .dataframe thead th {\n",
       "        text-align: right;\n",
       "    }\n",
       "</style>\n",
       "<table border=\"1\" class=\"dataframe\">\n",
       "  <thead>\n",
       "    <tr style=\"text-align: right;\">\n",
       "      <th></th>\n",
       "      <th>old_index</th>\n",
       "      <th>invoice</th>\n",
       "      <th>stock_code</th>\n",
       "      <th>description</th>\n",
       "      <th>quantity</th>\n",
       "      <th>invoice_date</th>\n",
       "      <th>price</th>\n",
       "      <th>customer_id</th>\n",
       "      <th>country</th>\n",
       "      <th>total_order_value</th>\n",
       "      <th>invoice_year</th>\n",
       "      <th>invoice_month</th>\n",
       "      <th>invoice_weekday</th>\n",
       "      <th>invoice_dayname</th>\n",
       "    </tr>\n",
       "  </thead>\n",
       "  <tbody>\n",
       "    <tr>\n",
       "      <th>68994</th>\n",
       "      <td>75717</td>\n",
       "      <td>550193</td>\n",
       "      <td>PADS</td>\n",
       "      <td>PADS TO MATCH ALL CUSHIONS</td>\n",
       "      <td>1</td>\n",
       "      <td>2011-04-15 09:27:00</td>\n",
       "      <td>0.001</td>\n",
       "      <td>u13952</td>\n",
       "      <td>United Kingdom</td>\n",
       "      <td>0.0</td>\n",
       "      <td>2011</td>\n",
       "      <td>4</td>\n",
       "      <td>4</td>\n",
       "      <td>Friday</td>\n",
       "    </tr>\n",
       "    <tr>\n",
       "      <th>153656</th>\n",
       "      <td>168120</td>\n",
       "      <td>568200</td>\n",
       "      <td>PADS</td>\n",
       "      <td>PADS TO MATCH ALL CUSHIONS</td>\n",
       "      <td>1</td>\n",
       "      <td>2011-09-25 14:58:00</td>\n",
       "      <td>0.001</td>\n",
       "      <td>u16198</td>\n",
       "      <td>United Kingdom</td>\n",
       "      <td>0.0</td>\n",
       "      <td>2011</td>\n",
       "      <td>9</td>\n",
       "      <td>6</td>\n",
       "      <td>Sunday</td>\n",
       "    </tr>\n",
       "    <tr>\n",
       "      <th>273644</th>\n",
       "      <td>297370</td>\n",
       "      <td>561226</td>\n",
       "      <td>PADS</td>\n",
       "      <td>PADS TO MATCH ALL CUSHIONS</td>\n",
       "      <td>1</td>\n",
       "      <td>2011-07-26 10:13:00</td>\n",
       "      <td>0.001</td>\n",
       "      <td>u15618</td>\n",
       "      <td>United Kingdom</td>\n",
       "      <td>0.0</td>\n",
       "      <td>2011</td>\n",
       "      <td>7</td>\n",
       "      <td>1</td>\n",
       "      <td>Tuesday</td>\n",
       "    </tr>\n",
       "  </tbody>\n",
       "</table>\n",
       "</div>"
      ],
      "text/plain": [
       "        old_index invoice stock_code                 description  quantity  \\\n",
       "68994       75717  550193       PADS  PADS TO MATCH ALL CUSHIONS         1   \n",
       "153656     168120  568200       PADS  PADS TO MATCH ALL CUSHIONS         1   \n",
       "273644     297370  561226       PADS  PADS TO MATCH ALL CUSHIONS         1   \n",
       "\n",
       "              invoice_date  price customer_id         country  \\\n",
       "68994  2011-04-15 09:27:00  0.001      u13952  United Kingdom   \n",
       "153656 2011-09-25 14:58:00  0.001      u16198  United Kingdom   \n",
       "273644 2011-07-26 10:13:00  0.001      u15618  United Kingdom   \n",
       "\n",
       "        total_order_value  invoice_year  invoice_month  invoice_weekday  \\\n",
       "68994                 0.0          2011              4                4   \n",
       "153656                0.0          2011              9                6   \n",
       "273644                0.0          2011              7                1   \n",
       "\n",
       "       invoice_dayname  \n",
       "68994           Friday  \n",
       "153656          Sunday  \n",
       "273644         Tuesday  "
      ]
     },
     "execution_count": 48,
     "metadata": {},
     "output_type": "execute_result"
    }
   ],
   "source": [
    "online_trans[online_trans[\"total_order_value\"] == 0]"
   ]
  },
  {
   "cell_type": "markdown",
   "id": "e86b9018-21e0-4d55-9ce2-dbce7705ccfc",
   "metadata": {},
   "source": [
    "### I will replace the total_order_value column coming from the reshift data base by the total order value calculated by myself and round it to 3 decimal points in order to avoid the zero entries that we see in the cell above"
   ]
  },
  {
   "cell_type": "code",
   "execution_count": 49,
   "id": "f9933a3e-085c-420a-ad5b-dbd7d9731484",
   "metadata": {},
   "outputs": [],
   "source": [
    "# Dropping 'total_order_value' columns\n",
    "online_trans.drop('total_order_value', axis=1, inplace=True)"
   ]
  },
  {
   "cell_type": "code",
   "execution_count": 50,
   "id": "976f3df7-2f60-43b5-9f73-1bf482cf2a54",
   "metadata": {},
   "outputs": [],
   "source": [
    "online_trans['total_order_value'] = online_trans['quantity'] * online_trans['price']"
   ]
  },
  {
   "cell_type": "code",
   "execution_count": 51,
   "id": "911c19ea-7c2e-4e5a-9f62-ee61865192c8",
   "metadata": {},
   "outputs": [
    {
     "data": {
      "text/html": [
       "<div>\n",
       "<style scoped>\n",
       "    .dataframe tbody tr th:only-of-type {\n",
       "        vertical-align: middle;\n",
       "    }\n",
       "\n",
       "    .dataframe tbody tr th {\n",
       "        vertical-align: top;\n",
       "    }\n",
       "\n",
       "    .dataframe thead th {\n",
       "        text-align: right;\n",
       "    }\n",
       "</style>\n",
       "<table border=\"1\" class=\"dataframe\">\n",
       "  <thead>\n",
       "    <tr style=\"text-align: right;\">\n",
       "      <th></th>\n",
       "      <th>old_index</th>\n",
       "      <th>quantity</th>\n",
       "      <th>price</th>\n",
       "      <th>invoice_year</th>\n",
       "      <th>invoice_month</th>\n",
       "      <th>invoice_weekday</th>\n",
       "      <th>total_order_value</th>\n",
       "    </tr>\n",
       "  </thead>\n",
       "  <tbody>\n",
       "    <tr>\n",
       "      <th>count</th>\n",
       "      <td>365180.000000</td>\n",
       "      <td>365180.000000</td>\n",
       "      <td>365180.000000</td>\n",
       "      <td>365180.000000</td>\n",
       "      <td>365180.000000</td>\n",
       "      <td>365180.000000</td>\n",
       "      <td>365180.000000</td>\n",
       "    </tr>\n",
       "    <tr>\n",
       "      <th>mean</th>\n",
       "      <td>201388.280656</td>\n",
       "      <td>12.879829</td>\n",
       "      <td>2.905252</td>\n",
       "      <td>2010.934356</td>\n",
       "      <td>7.650090</td>\n",
       "      <td>2.592034</td>\n",
       "      <td>21.919158</td>\n",
       "    </tr>\n",
       "    <tr>\n",
       "      <th>std</th>\n",
       "      <td>115650.296643</td>\n",
       "      <td>43.577928</td>\n",
       "      <td>7.381186</td>\n",
       "      <td>0.247660</td>\n",
       "      <td>3.405954</td>\n",
       "      <td>1.920402</td>\n",
       "      <td>95.735167</td>\n",
       "    </tr>\n",
       "    <tr>\n",
       "      <th>min</th>\n",
       "      <td>0.000000</td>\n",
       "      <td>1.000000</td>\n",
       "      <td>0.001000</td>\n",
       "      <td>2010.000000</td>\n",
       "      <td>1.000000</td>\n",
       "      <td>0.000000</td>\n",
       "      <td>0.001000</td>\n",
       "    </tr>\n",
       "    <tr>\n",
       "      <th>25%</th>\n",
       "      <td>101119.750000</td>\n",
       "      <td>2.000000</td>\n",
       "      <td>1.250000</td>\n",
       "      <td>2011.000000</td>\n",
       "      <td>5.000000</td>\n",
       "      <td>1.000000</td>\n",
       "      <td>4.950000</td>\n",
       "    </tr>\n",
       "    <tr>\n",
       "      <th>50%</th>\n",
       "      <td>202424.500000</td>\n",
       "      <td>6.000000</td>\n",
       "      <td>1.950000</td>\n",
       "      <td>2011.000000</td>\n",
       "      <td>8.000000</td>\n",
       "      <td>2.000000</td>\n",
       "      <td>11.900000</td>\n",
       "    </tr>\n",
       "    <tr>\n",
       "      <th>75%</th>\n",
       "      <td>301284.250000</td>\n",
       "      <td>12.000000</td>\n",
       "      <td>3.750000</td>\n",
       "      <td>2011.000000</td>\n",
       "      <td>11.000000</td>\n",
       "      <td>4.000000</td>\n",
       "      <td>19.800000</td>\n",
       "    </tr>\n",
       "    <tr>\n",
       "      <th>max</th>\n",
       "      <td>399806.000000</td>\n",
       "      <td>4800.000000</td>\n",
       "      <td>1599.260000</td>\n",
       "      <td>2011.000000</td>\n",
       "      <td>12.000000</td>\n",
       "      <td>6.000000</td>\n",
       "      <td>38970.000000</td>\n",
       "    </tr>\n",
       "  </tbody>\n",
       "</table>\n",
       "</div>"
      ],
      "text/plain": [
       "           old_index       quantity          price   invoice_year  \\\n",
       "count  365180.000000  365180.000000  365180.000000  365180.000000   \n",
       "mean   201388.280656      12.879829       2.905252    2010.934356   \n",
       "std    115650.296643      43.577928       7.381186       0.247660   \n",
       "min         0.000000       1.000000       0.001000    2010.000000   \n",
       "25%    101119.750000       2.000000       1.250000    2011.000000   \n",
       "50%    202424.500000       6.000000       1.950000    2011.000000   \n",
       "75%    301284.250000      12.000000       3.750000    2011.000000   \n",
       "max    399806.000000    4800.000000    1599.260000    2011.000000   \n",
       "\n",
       "       invoice_month  invoice_weekday  total_order_value  \n",
       "count  365180.000000    365180.000000      365180.000000  \n",
       "mean        7.650090         2.592034          21.919158  \n",
       "std         3.405954         1.920402          95.735167  \n",
       "min         1.000000         0.000000           0.001000  \n",
       "25%         5.000000         1.000000           4.950000  \n",
       "50%         8.000000         2.000000          11.900000  \n",
       "75%        11.000000         4.000000          19.800000  \n",
       "max        12.000000         6.000000       38970.000000  "
      ]
     },
     "execution_count": 51,
     "metadata": {},
     "output_type": "execute_result"
    }
   ],
   "source": [
    "online_trans.describe()"
   ]
  },
  {
   "cell_type": "code",
   "execution_count": 52,
   "id": "84585239-fe31-4cfe-8433-54f00e2405cd",
   "metadata": {},
   "outputs": [
    {
     "data": {
      "image/png": "[encoded data removed]",
      "text/plain": [
       "<Figure size 640x480 with 1 Axes>"
      ]
     },
     "metadata": {},
     "output_type": "display_data"
    }
   ],
   "source": [
    "online_trans[[\"quantity\", \"price\", \"total_order_value\"]].plot.box();"
   ]
  },
  {
   "cell_type": "markdown",
   "id": "992740dc-fa32-4010-8f6d-1d02637c8f84",
   "metadata": {},
   "source": [
    "### We have clear outliers on our numerical variables. The will be normalized for the RFM analysis"
   ]
  },
  {
   "cell_type": "code",
   "execution_count": 53,
   "id": "02541729-9e43-4d20-952c-80141912a3be",
   "metadata": {},
   "outputs": [
    {
     "data": {
      "text/html": [
       "<div>\n",
       "<style scoped>\n",
       "    .dataframe tbody tr th:only-of-type {\n",
       "        vertical-align: middle;\n",
       "    }\n",
       "\n",
       "    .dataframe tbody tr th {\n",
       "        vertical-align: top;\n",
       "    }\n",
       "\n",
       "    .dataframe thead th {\n",
       "        text-align: right;\n",
       "    }\n",
       "</style>\n",
       "<table border=\"1\" class=\"dataframe\">\n",
       "  <thead>\n",
       "    <tr style=\"text-align: right;\">\n",
       "      <th></th>\n",
       "      <th>invoice</th>\n",
       "      <th>stock_code</th>\n",
       "      <th>description</th>\n",
       "      <th>customer_id</th>\n",
       "      <th>country</th>\n",
       "    </tr>\n",
       "  </thead>\n",
       "  <tbody>\n",
       "    <tr>\n",
       "      <th>count</th>\n",
       "      <td>365180</td>\n",
       "      <td>365180</td>\n",
       "      <td>365180</td>\n",
       "      <td>365180</td>\n",
       "      <td>365180</td>\n",
       "    </tr>\n",
       "    <tr>\n",
       "      <th>unique</th>\n",
       "      <td>17553</td>\n",
       "      <td>3634</td>\n",
       "      <td>3599</td>\n",
       "      <td>4247</td>\n",
       "      <td>37</td>\n",
       "    </tr>\n",
       "    <tr>\n",
       "      <th>top</th>\n",
       "      <td>576339</td>\n",
       "      <td>85123A</td>\n",
       "      <td>CREAM HANGING HEART T-LIGHT HOLDER</td>\n",
       "      <td>u17841</td>\n",
       "      <td>United Kingdom</td>\n",
       "    </tr>\n",
       "    <tr>\n",
       "      <th>freq</th>\n",
       "      <td>542</td>\n",
       "      <td>1909</td>\n",
       "      <td>1909</td>\n",
       "      <td>7499</td>\n",
       "      <td>326124</td>\n",
       "    </tr>\n",
       "  </tbody>\n",
       "</table>\n",
       "</div>"
      ],
      "text/plain": [
       "       invoice stock_code                         description customer_id  \\\n",
       "count   365180     365180                              365180      365180   \n",
       "unique   17553       3634                                3599        4247   \n",
       "top     576339     85123A  CREAM HANGING HEART T-LIGHT HOLDER      u17841   \n",
       "freq       542       1909                                1909        7499   \n",
       "\n",
       "               country  \n",
       "count           365180  \n",
       "unique              37  \n",
       "top     United Kingdom  \n",
       "freq            326124  "
      ]
     },
     "execution_count": 53,
     "metadata": {},
     "output_type": "execute_result"
    }
   ],
   "source": [
    "online_trans.describe(include=object)"
   ]
  },
  {
   "cell_type": "markdown",
   "id": "aa2784a6-15a4-42f5-94b9-20a899800fad",
   "metadata": {},
   "source": [
    "### The best seller item across all countries is \"CREAM HANGING HEART T-LIGHT HOLDER\". Most of the transactions are on United Kingdom. The best customer was \"u17841\" with a total of 7499 purchases. "
   ]
  },
  {
   "cell_type": "code",
   "execution_count": 124,
   "id": "62032c74-7eaa-4cb8-b9cc-21332aadf068",
   "metadata": {},
   "outputs": [
    {
     "data": {
      "text/html": [
       "<div>\n",
       "<style scoped>\n",
       "    .dataframe tbody tr th:only-of-type {\n",
       "        vertical-align: middle;\n",
       "    }\n",
       "\n",
       "    .dataframe tbody tr th {\n",
       "        vertical-align: top;\n",
       "    }\n",
       "\n",
       "    .dataframe thead th {\n",
       "        text-align: right;\n",
       "    }\n",
       "</style>\n",
       "<table border=\"1\" class=\"dataframe\">\n",
       "  <thead>\n",
       "    <tr style=\"text-align: right;\">\n",
       "      <th></th>\n",
       "      <th>quantity</th>\n",
       "      <th>price</th>\n",
       "      <th>country</th>\n",
       "    </tr>\n",
       "    <tr>\n",
       "      <th>customer_id</th>\n",
       "      <th></th>\n",
       "      <th></th>\n",
       "      <th></th>\n",
       "    </tr>\n",
       "  </thead>\n",
       "  <tbody>\n",
       "    <tr>\n",
       "      <th>u1237</th>\n",
       "      <td>94</td>\n",
       "      <td>5.50</td>\n",
       "      <td>Cyprus</td>\n",
       "    </tr>\n",
       "    <tr>\n",
       "      <th>u12391</th>\n",
       "      <td>10</td>\n",
       "      <td>2.95</td>\n",
       "      <td>Cyprus</td>\n",
       "    </tr>\n",
       "    <tr>\n",
       "      <th>u12409</th>\n",
       "      <td>32</td>\n",
       "      <td>2.55</td>\n",
       "      <td>Switzerland</td>\n",
       "    </tr>\n",
       "    <tr>\n",
       "      <th>u12428</th>\n",
       "      <td>6</td>\n",
       "      <td>2.95</td>\n",
       "      <td>Finland</td>\n",
       "    </tr>\n",
       "    <tr>\n",
       "      <th>u12455</th>\n",
       "      <td>32</td>\n",
       "      <td>2.55</td>\n",
       "      <td>Cyprus</td>\n",
       "    </tr>\n",
       "    <tr>\n",
       "      <th>...</th>\n",
       "      <td>...</td>\n",
       "      <td>...</td>\n",
       "      <td>...</td>\n",
       "    </tr>\n",
       "    <tr>\n",
       "      <th>u18248</th>\n",
       "      <td>6</td>\n",
       "      <td>2.95</td>\n",
       "      <td>United Kingdom</td>\n",
       "    </tr>\n",
       "    <tr>\n",
       "      <th>u18255</th>\n",
       "      <td>6</td>\n",
       "      <td>2.95</td>\n",
       "      <td>United Kingdom</td>\n",
       "    </tr>\n",
       "    <tr>\n",
       "      <th>u18257</th>\n",
       "      <td>6</td>\n",
       "      <td>2.95</td>\n",
       "      <td>United Kingdom</td>\n",
       "    </tr>\n",
       "    <tr>\n",
       "      <th>u1826</th>\n",
       "      <td>12</td>\n",
       "      <td>2.95</td>\n",
       "      <td>United Kingdom</td>\n",
       "    </tr>\n",
       "    <tr>\n",
       "      <th>u18283</th>\n",
       "      <td>10</td>\n",
       "      <td>11.80</td>\n",
       "      <td>United Kingdom</td>\n",
       "    </tr>\n",
       "  </tbody>\n",
       "</table>\n",
       "<p>824 rows × 3 columns</p>\n",
       "</div>"
      ],
      "text/plain": [
       "             quantity  price         country\n",
       "customer_id                                 \n",
       "u1237              94   5.50          Cyprus\n",
       "u12391             10   2.95          Cyprus\n",
       "u12409             32   2.55     Switzerland\n",
       "u12428              6   2.95         Finland\n",
       "u12455             32   2.55          Cyprus\n",
       "...               ...    ...             ...\n",
       "u18248              6   2.95  United Kingdom\n",
       "u18255              6   2.95  United Kingdom\n",
       "u18257              6   2.95  United Kingdom\n",
       "u1826              12   2.95  United Kingdom\n",
       "u18283             10  11.80  United Kingdom\n",
       "\n",
       "[824 rows x 3 columns]"
      ]
     },
     "execution_count": 124,
     "metadata": {},
     "output_type": "execute_result"
    }
   ],
   "source": [
    "# Let's see the purchases from the best seller item. Country represents the country where the item was sale the most\n",
    "agg_best_seller = {'quantity': 'sum', 'price': 'sum', 'country': lambda x: x.mode()[0]}\n",
    "best_seller_table = online_trans.groupby([\"stock_code\"]).get_group(\"85123A\").groupby('customer_id').agg(agg_best_seller)\n",
    "best_seller_table"
   ]
  },
  {
   "cell_type": "code",
   "execution_count": 128,
   "id": "a41e5a6b-9d64-4721-99d5-b46b2980d1c2",
   "metadata": {},
   "outputs": [
    {
     "name": "stdout",
     "output_type": "stream",
     "text": [
      "The best seller product was purchase for 824 customer on 15 countries\n"
     ]
    }
   ],
   "source": [
    "print(f\"The best seller product was purchase for 824 customer on {best_seller_table['country'].nunique()} countries\")"
   ]
  },
  {
   "cell_type": "code",
   "execution_count": 90,
   "id": "32389112-3f3c-43c6-b062-7d9c6fed7764",
   "metadata": {},
   "outputs": [
    {
     "data": {
      "text/html": [
       "<div>\n",
       "<style scoped>\n",
       "    .dataframe tbody tr th:only-of-type {\n",
       "        vertical-align: middle;\n",
       "    }\n",
       "\n",
       "    .dataframe tbody tr th {\n",
       "        vertical-align: top;\n",
       "    }\n",
       "\n",
       "    .dataframe thead th {\n",
       "        text-align: right;\n",
       "    }\n",
       "</style>\n",
       "<table border=\"1\" class=\"dataframe\">\n",
       "  <thead>\n",
       "    <tr style=\"text-align: right;\">\n",
       "      <th></th>\n",
       "      <th>quantity</th>\n",
       "      <th>price</th>\n",
       "      <th>total_order_value</th>\n",
       "    </tr>\n",
       "    <tr>\n",
       "      <th>stock_code</th>\n",
       "      <th></th>\n",
       "      <th></th>\n",
       "      <th></th>\n",
       "    </tr>\n",
       "  </thead>\n",
       "  <tbody>\n",
       "    <tr>\n",
       "      <th>21983</th>\n",
       "      <td>1</td>\n",
       "      <td>0.29</td>\n",
       "      <td>0.29</td>\n",
       "    </tr>\n",
       "    <tr>\n",
       "      <th>84926A</th>\n",
       "      <td>1</td>\n",
       "      <td>0.29</td>\n",
       "      <td>0.29</td>\n",
       "    </tr>\n",
       "    <tr>\n",
       "      <th>22096</th>\n",
       "      <td>1</td>\n",
       "      <td>0.39</td>\n",
       "      <td>0.39</td>\n",
       "    </tr>\n",
       "    <tr>\n",
       "      <th>23551</th>\n",
       "      <td>1</td>\n",
       "      <td>0.39</td>\n",
       "      <td>0.39</td>\n",
       "    </tr>\n",
       "    <tr>\n",
       "      <th>85071A</th>\n",
       "      <td>1</td>\n",
       "      <td>0.39</td>\n",
       "      <td>0.39</td>\n",
       "    </tr>\n",
       "    <tr>\n",
       "      <th>...</th>\n",
       "      <td>...</td>\n",
       "      <td>...</td>\n",
       "      <td>...</td>\n",
       "    </tr>\n",
       "    <tr>\n",
       "      <th>22475</th>\n",
       "      <td>83</td>\n",
       "      <td>193.95</td>\n",
       "      <td>344.85</td>\n",
       "    </tr>\n",
       "    <tr>\n",
       "      <th>84078A</th>\n",
       "      <td>15</td>\n",
       "      <td>354.55</td>\n",
       "      <td>569.25</td>\n",
       "    </tr>\n",
       "    <tr>\n",
       "      <th>21686</th>\n",
       "      <td>17</td>\n",
       "      <td>274.65</td>\n",
       "      <td>629.15</td>\n",
       "    </tr>\n",
       "    <tr>\n",
       "      <th>22467</th>\n",
       "      <td>270</td>\n",
       "      <td>114.30</td>\n",
       "      <td>639.90</td>\n",
       "    </tr>\n",
       "    <tr>\n",
       "      <th>79321</th>\n",
       "      <td>580</td>\n",
       "      <td>323.70</td>\n",
       "      <td>2754.80</td>\n",
       "    </tr>\n",
       "  </tbody>\n",
       "</table>\n",
       "<p>1305 rows × 3 columns</p>\n",
       "</div>"
      ],
      "text/plain": [
       "            quantity   price  total_order_value\n",
       "stock_code                                     \n",
       "21983              1    0.29               0.29\n",
       "84926A             1    0.29               0.29\n",
       "22096              1    0.39               0.39\n",
       "23551              1    0.39               0.39\n",
       "85071A             1    0.39               0.39\n",
       "...              ...     ...                ...\n",
       "22475             83  193.95             344.85\n",
       "84078A            15  354.55             569.25\n",
       "21686             17  274.65             629.15\n",
       "22467            270  114.30             639.90\n",
       "79321            580  323.70            2754.80\n",
       "\n",
       "[1305 rows x 3 columns]"
      ]
     },
     "execution_count": 90,
     "metadata": {},
     "output_type": "execute_result"
    }
   ],
   "source": [
    "# Let's check the purchases from the best customer\n",
    "agg_best_cust = {'quantity': 'sum', 'price': 'sum', 'total_order_value': 'sum'}\n",
    "online_trans.groupby([\"customer_id\"]).get_group(\"u17841\").groupby('stock_code').agg(agg_best_cust).sort_values(by='total_order_value')"
   ]
  },
  {
   "cell_type": "markdown",
   "id": "3665196f-d9ee-412b-a790-c87d49021b8b",
   "metadata": {},
   "source": [
    "### The best customer of the dataset bought in total 1305 different item  with the highest amount per invoice equal to 2754.80 pounds"
   ]
  },
  {
   "cell_type": "markdown",
   "id": "bd0868cd-2302-4955-a65c-3954490cbb47",
   "metadata": {},
   "source": [
    "## Let's explore now seasonality"
   ]
  },
  {
   "cell_type": "code",
   "execution_count": 129,
   "id": "d06f612d-420c-41f0-b271-4d4287fdc060",
   "metadata": {},
   "outputs": [],
   "source": [
    "# Getting the number of invoices per month and year\n",
    "month_inv = online_trans.groupby([\"invoice_year\", \"invoice_month\"]).count()['invoice'].reset_index()"
   ]
  },
  {
   "cell_type": "code",
   "execution_count": 132,
   "id": "d41dfedc-f911-4545-881e-1f65484f6ccf",
   "metadata": {},
   "outputs": [
    {
     "data": {
      "image/png": "[encoded data removed]",
      "text/plain": [
       "<Figure size 640x480 with 1 Axes>"
      ]
     },
     "metadata": {},
     "output_type": "display_data"
    }
   ],
   "source": [
    "sns.barplot(data=month_inv, x='invoice_month', y='invoice', hue='invoice_year')\n",
    "plt.title(\"Number of invoices per month\")\n",
    "plt.xlabel(\"Month of the year\")\n",
    "plt.ylabel(\"Total number of invoices\")\n",
    "plt.legend(loc='upper left')\n",
    "plt.tight_layout();"
   ]
  },
  {
   "cell_type": "code",
   "execution_count": 60,
   "id": "98ca6422-d210-4166-af21-9d6fe7a2241b",
   "metadata": {},
   "outputs": [
    {
     "name": "stdout",
     "output_type": "stream",
     "text": [
      "The first order on the dataset was purchase on 2010-12-01 08:26:00 and the last one on 2011-12-09 12:50:00\n"
     ]
    }
   ],
   "source": [
    "# 1st and last order on the dataset\n",
    "first_order = online_trans['invoice_date'].min()\n",
    "last_order = online_trans['invoice_date'].max()\n",
    "print(f\"The first order on the dataset was purchase on {first_order} and the last one on {last_order}\")"
   ]
  },
  {
   "cell_type": "markdown",
   "id": "f598ba9b-41cd-48ce-8f8c-f5ab16571320",
   "metadata": {},
   "source": [
    "#### The number of invoices increases throughout the year, with a peak in November. The conclusions about December 2011 is incomplete because the dataset contains transactions till December 9th."
   ]
  },
  {
   "cell_type": "code",
   "execution_count": 61,
   "id": "c6ed85d9-eaf8-4f99-86c8-055571c3bea7",
   "metadata": {},
   "outputs": [],
   "source": [
    "# Let's inspect the transactions on Dec 2010 and 2011 to have an estimation of the total sales on Dec 2011\n",
    "Dec10_trans = online_trans[online_trans['invoice_date'] <= \"2010-12-09 12:50:00\"].groupby([\"invoice_year\", \"invoice_month\"]).count()['invoice'].reset_index()\n",
    "Dec11_trans = online_trans[online_trans['invoice_date'] >= \"2011-12-01 00:00:00\"].groupby([\"invoice_year\", \"invoice_month\"]).count()['invoice'].reset_index()\n",
    "Dec_comp = pd.concat([Dec10_trans, Dec11_trans])"
   ]
  },
  {
   "cell_type": "code",
   "execution_count": 62,
   "id": "3ad29f37-9e0f-4412-ac34-0a3edd2bc8f1",
   "metadata": {},
   "outputs": [
    {
     "data": {
      "image/png": "[encoded data removed]",
      "text/plain": [
       "<Figure size 640x480 with 1 Axes>"
      ]
     },
     "metadata": {},
     "output_type": "display_data"
    }
   ],
   "source": [
    "sns.barplot(data=Dec_comp, x='invoice_year', y='invoice');"
   ]
  },
  {
   "cell_type": "markdown",
   "id": "c13a1d7c-12f2-41a3-87ba-6349afae8f25",
   "metadata": {},
   "source": [
    "#### The last data point recorded on December 2011 was on the 9th. In the previous plot I compare the number of invoices for that same day on 2010 and 2011. Eventhough the course of the invoice on December 2011 is inconclusive, it is clear that it surpassed the number of transactions on December 9th, 2010. we can expect that on Demcember 2011 sales are gonna be above than on Demcember 2010"
   ]
  },
  {
   "cell_type": "markdown",
   "id": "5fc7f39d-39dd-43a6-9a7d-2876f74b5a99",
   "metadata": {},
   "source": [
    "### Let's check seasonality on a daily basis"
   ]
  },
  {
   "cell_type": "code",
   "execution_count": 143,
   "id": "607df8b5-f6ef-4cb0-b73f-5e4fa15f12a4",
   "metadata": {},
   "outputs": [],
   "source": [
    "# Getting the number of invoices per day of the week\n",
    "daily_inv = online_trans.groupby([\"invoice_weekday\"]).count()['invoice'].reset_index()"
   ]
  },
  {
   "cell_type": "code",
   "execution_count": 171,
   "id": "ccd563f9-6952-4dcb-b789-340fe1a84918",
   "metadata": {},
   "outputs": [],
   "source": [
    "# Getting the name of the day\n",
    "weekday_names = online_trans['invoice_dayname'].unique().categories.tolist()\n",
    "del weekday_names[-2] # deleting Saturday from the list"
   ]
  },
  {
   "cell_type": "code",
   "execution_count": 174,
   "id": "edcce7a7-d00d-4fbf-bc7d-5b03f72725ae",
   "metadata": {},
   "outputs": [],
   "source": [
    "# adding the names to daily dataframe\n",
    "daily_inv['invoice_dayname'] =  weekday_names"
   ]
  },
  {
   "cell_type": "code",
   "execution_count": 180,
   "id": "fff7efa1-24d7-48ba-8c16-173f8ba1330e",
   "metadata": {},
   "outputs": [
    {
     "data": {
      "image/png": "[encoded data removed]",
      "text/plain": [
       "<Figure size 640x480 with 1 Axes>"
      ]
     },
     "metadata": {},
     "output_type": "display_data"
    }
   ],
   "source": [
    "sns.barplot(data=daily_inv, x='invoice_dayname', y='invoice')\n",
    "plt.title(\"Number of invoices per day of the week\")\n",
    "plt.xlabel(\"Day of the week\")\n",
    "plt.ylabel(\"Total number of invoices\");"
   ]
  },
  {
   "cell_type": "markdown",
   "id": "45098992-92b1-4dfc-b451-3fe14461e704",
   "metadata": {},
   "source": [
    "### Thursday is the favorite day to shop for our customers.\n",
    "<div class=\"alert alert-block alert-info\">\n",
    "<b>Note:</b> Data for Saturday is not available in this dataset.\n",
    "</div>"
   ]
  },
  {
   "cell_type": "code",
   "execution_count": 212,
   "id": "c1fe51b6-db08-4b0f-ac01-717c8f49d7b4",
   "metadata": {},
   "outputs": [],
   "source": [
    "# Frequency is the total transactions that they purchased"
   ]
  },
  {
   "cell_type": "markdown",
   "id": "37029013-9475-45c0-8fe6-05391b7a3113",
   "metadata": {},
   "source": [
    "### Let's explore the average amount of items order per customer "
   ]
  },
  {
   "cell_type": "code",
   "execution_count": 264,
   "id": "9356d617-bd3e-4df9-bd43-8454505ac37b",
   "metadata": {},
   "outputs": [],
   "source": [
    "# number of stocks per customer per invoice\n",
    "nstock_inv_cust = online_trans.groupby([\"customer_id\", \"invoice\"])['stock_code'].count()"
   ]
  },
  {
   "cell_type": "code",
   "execution_count": 305,
   "id": "fc311d53-7f57-4584-894c-18538e211a85",
   "metadata": {},
   "outputs": [
    {
     "name": "stdout",
     "output_type": "stream",
     "text": [
      "The average stocks per customer per invoice is 22\n"
     ]
    }
   ],
   "source": [
    "# average stocks ordered by customer\n",
    "mean_nstock_cust = nstock_inv_cust.groupby(level=0).mean()\n",
    "print(f\"The average stocks per customer per invoice is {round(mean_nitem_cust.mean())}\")"
   ]
  },
  {
   "cell_type": "code",
   "execution_count": 309,
   "id": "933e9c88-5559-4db2-bb23-d79d17982452",
   "metadata": {},
   "outputs": [],
   "source": [
    "# Let's add the average stock order per invoice per customer on my customer dataset\n",
    "cust_data['mean_nstock'] = mean_nstock_cust"
   ]
  },
  {
   "cell_type": "markdown",
   "id": "ff140b23-aefd-4525-8ce8-fc85c712ffe6",
   "metadata": {},
   "source": [
    "<div class=\"alert alert-block alert-info\">\n",
    "<b>Note:</b> There are some null values corresponding to the users that returned data. At the end of the analysis these customers are gonna be dropped\n",
    "</div>"
   ]
  },
  {
   "cell_type": "code",
   "execution_count": 270,
   "id": "a4e818e2-ecee-44d4-96ef-b8d627f59294",
   "metadata": {},
   "outputs": [
    {
     "data": {
      "text/plain": [
       "loyalty_time      0\n",
       "mean_nitem      115\n",
       "mean_nstock     115\n",
       "dtype: int64"
      ]
     },
     "execution_count": 270,
     "metadata": {},
     "output_type": "execute_result"
    }
   ],
   "source": [
    "cust_data.isnull().sum()"
   ]
  },
  {
   "cell_type": "code",
   "execution_count": 263,
   "id": "c46b638a-3108-4b20-9c22-350e284568df",
   "metadata": {},
   "outputs": [
    {
     "data": {
      "text/plain": [
       "Index(['old_index', 'invoice', 'stock_code', 'description', 'quantity',\n",
       "       'invoice_date', 'price', 'customer_id', 'country', 'invoice_year',\n",
       "       'invoice_month', 'invoice_weekday', 'invoice_dayname',\n",
       "       'total_order_value'],\n",
       "      dtype='object')"
      ]
     },
     "execution_count": 263,
     "metadata": {},
     "output_type": "execute_result"
    }
   ],
   "source": [
    "online_trans.columns"
   ]
  },
  {
   "cell_type": "markdown",
   "id": "02cc0f11-32db-46b6-aa41-e119195a7cba",
   "metadata": {},
   "source": [
    "### Now explore the amount of items purchased by customer by invoice. This will represent the quantity of the previous stocks per invoice per client"
   ]
  },
  {
   "cell_type": "code",
   "execution_count": 304,
   "id": "5b906a4c-f41d-424c-b003-1e7770ffd42e",
   "metadata": {},
   "outputs": [],
   "source": [
    "# Amount of items order per invoice by customer\n",
    "nitem_inv_cust = online_trans.groupby([\"customer_id\", \"invoice\"])['quantity'].sum() #.agg({'quantity': 'sum', 'total_order_value': 'sum'})"
   ]
  },
  {
   "cell_type": "code",
   "execution_count": 306,
   "id": "ece2b612-a614-4fae-b513-d258637238d3",
   "metadata": {},
   "outputs": [
    {
     "name": "stdout",
     "output_type": "stream",
     "text": [
      "The average items per customer per invoice is 225\n"
     ]
    }
   ],
   "source": [
    "# Average amount of items order by customer\n",
    "mean_nitem_cust = nitem_inv_cust.groupby(level=0).mean()\n",
    "print(f\"The average items per customer per invoice is {round(mean_nitem_cust.mean())}\")"
   ]
  },
  {
   "cell_type": "code",
   "execution_count": 310,
   "id": "22df046f-5d3e-461d-87a5-e839dec050de",
   "metadata": {},
   "outputs": [],
   "source": [
    "# Let's add the average amount of items per invoice per customer on my customer dataset\n",
    "cust_data['mean_nitem'] = mean_nitem_cust"
   ]
  },
  {
   "cell_type": "code",
   "execution_count": 311,
   "id": "90146f21-c8af-4310-bc18-6b8ba40c2442",
   "metadata": {},
   "outputs": [
    {
     "data": {
      "text/html": [
       "<div>\n",
       "<style scoped>\n",
       "    .dataframe tbody tr th:only-of-type {\n",
       "        vertical-align: middle;\n",
       "    }\n",
       "\n",
       "    .dataframe tbody tr th {\n",
       "        vertical-align: top;\n",
       "    }\n",
       "\n",
       "    .dataframe thead th {\n",
       "        text-align: right;\n",
       "    }\n",
       "</style>\n",
       "<table border=\"1\" class=\"dataframe\">\n",
       "  <thead>\n",
       "    <tr style=\"text-align: right;\">\n",
       "      <th></th>\n",
       "      <th>loyalty_time</th>\n",
       "      <th>mean_nitem</th>\n",
       "      <th>mean_nstock</th>\n",
       "    </tr>\n",
       "    <tr>\n",
       "      <th>customer_id</th>\n",
       "      <th></th>\n",
       "      <th></th>\n",
       "      <th></th>\n",
       "    </tr>\n",
       "  </thead>\n",
       "  <tbody>\n",
       "    <tr>\n",
       "      <th>u12346</th>\n",
       "      <td>0</td>\n",
       "      <td>NaN</td>\n",
       "      <td>NaN</td>\n",
       "    </tr>\n",
       "    <tr>\n",
       "      <th>u12347</th>\n",
       "      <td>365</td>\n",
       "      <td>351.142857</td>\n",
       "      <td>26.000000</td>\n",
       "    </tr>\n",
       "    <tr>\n",
       "      <th>u12348</th>\n",
       "      <td>282</td>\n",
       "      <td>583.000000</td>\n",
       "      <td>6.750000</td>\n",
       "    </tr>\n",
       "    <tr>\n",
       "      <th>u12349</th>\n",
       "      <td>0</td>\n",
       "      <td>630.000000</td>\n",
       "      <td>72.000000</td>\n",
       "    </tr>\n",
       "    <tr>\n",
       "      <th>u1235</th>\n",
       "      <td>0</td>\n",
       "      <td>196.000000</td>\n",
       "      <td>16.000000</td>\n",
       "    </tr>\n",
       "    <tr>\n",
       "      <th>...</th>\n",
       "      <td>...</td>\n",
       "      <td>...</td>\n",
       "      <td>...</td>\n",
       "    </tr>\n",
       "    <tr>\n",
       "      <th>u1828</th>\n",
       "      <td>0</td>\n",
       "      <td>45.000000</td>\n",
       "      <td>10.000000</td>\n",
       "    </tr>\n",
       "    <tr>\n",
       "      <th>u18281</th>\n",
       "      <td>0</td>\n",
       "      <td>54.000000</td>\n",
       "      <td>7.000000</td>\n",
       "    </tr>\n",
       "    <tr>\n",
       "      <th>u18282</th>\n",
       "      <td>118</td>\n",
       "      <td>51.500000</td>\n",
       "      <td>6.000000</td>\n",
       "    </tr>\n",
       "    <tr>\n",
       "      <th>u18283</th>\n",
       "      <td>333</td>\n",
       "      <td>84.687500</td>\n",
       "      <td>44.937500</td>\n",
       "    </tr>\n",
       "    <tr>\n",
       "      <th>u18287</th>\n",
       "      <td>158</td>\n",
       "      <td>528.666667</td>\n",
       "      <td>23.333333</td>\n",
       "    </tr>\n",
       "  </tbody>\n",
       "</table>\n",
       "<p>4362 rows × 3 columns</p>\n",
       "</div>"
      ],
      "text/plain": [
       "             loyalty_time  mean_nitem  mean_nstock\n",
       "customer_id                                       \n",
       "u12346                  0         NaN          NaN\n",
       "u12347                365  351.142857    26.000000\n",
       "u12348                282  583.000000     6.750000\n",
       "u12349                  0  630.000000    72.000000\n",
       "u1235                   0  196.000000    16.000000\n",
       "...                   ...         ...          ...\n",
       "u1828                   0   45.000000    10.000000\n",
       "u18281                  0   54.000000     7.000000\n",
       "u18282                118   51.500000     6.000000\n",
       "u18283                333   84.687500    44.937500\n",
       "u18287                158  528.666667    23.333333\n",
       "\n",
       "[4362 rows x 3 columns]"
      ]
     },
     "execution_count": 311,
     "metadata": {},
     "output_type": "execute_result"
    }
   ],
   "source": [
    "cust_data"
   ]
  }
 ],
 "metadata": {
  "kernelspec": {
   "display_name": "Python 3 (ipykernel)",
   "language": "python",
   "name": "python3"
  },
  "language_info": {
   "codemirror_mode": {
    "name": "ipython",
    "version": 3
   },
   "file_extension": ".py",
   "mimetype": "text/x-python",
   "name": "python",
   "nbconvert_exporter": "python",
   "pygments_lexer": "ipython3",
   "version": "3.11.3"
  }
 },
 "nbformat": 4,
 "nbformat_minor": 5
}
