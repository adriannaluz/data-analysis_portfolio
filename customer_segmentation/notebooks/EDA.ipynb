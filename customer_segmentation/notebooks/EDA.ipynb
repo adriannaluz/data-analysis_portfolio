{
 "cells": [
  {
   "cell_type": "code",
   "execution_count": 1,
   "id": "2abc1715-f02c-4cf8-ab58-8ec04db15fa4",
   "metadata": {},
   "outputs": [],
   "source": [
    "import os\n",
    "import sys\n",
    "import boto3\n",
    "import warnings\n",
    "import numpy as np\n",
    "import pandas as pd\n",
    "import seaborn as sns\n",
    "import matplotlib.pyplot as plt\n",
    "\n",
    "from pathlib import Path\n",
    "from dotenv import load_dotenv\n",
    "from datetime import datetime\n",
    "\n",
    "# defining functions module path\n",
    "module_path = str(Path.cwd().parents[0] / \"src\")\n",
    "if module_path not in sys.path:\n",
    "    sys.path.append(module_path)\n",
    "\n",
    "from functions import connect_to_redshift, normalize"
   ]
  },
  {
   "cell_type": "code",
   "execution_count": 2,
   "id": "904f6f50-2588-48d4-aaf5-d7626be1c427",
   "metadata": {},
   "outputs": [],
   "source": [
    "# removing warning messages\n",
    "warnings.filterwarnings(\"ignore\")"
   ]
  },
  {
   "cell_type": "code",
   "execution_count": 3,
   "id": "12d19a54-f7aa-4027-8dd0-825346f28f1b",
   "metadata": {},
   "outputs": [
    {
     "data": {
      "text/plain": [
       "True"
      ]
     },
     "execution_count": 3,
     "metadata": {},
     "output_type": "execute_result"
    }
   ],
   "source": [
    "# Loading my .env file\n",
    "load_dotenv()"
   ]
  },
  {
   "cell_type": "code",
   "execution_count": 4,
   "id": "50100d4c-27d9-4051-aa45-46ffae26ec1e",
   "metadata": {},
   "outputs": [],
   "source": [
    "# defining redshift credentials\n",
    "dbname = os.getenv(\"dbname\")\n",
    "host = os.getenv(\"host\")\n",
    "port = os.getenv(\"port\")\n",
    "user = os.getenv(\"user\")\n",
    "password = os.getenv(\"password\")"
   ]
  },
  {
   "cell_type": "code",
   "execution_count": 5,
   "id": "33eda76f-9d7e-442c-b8f2-a2d3d20ef4f6",
   "metadata": {},
   "outputs": [
    {
     "name": "stdout",
     "output_type": "stream",
     "text": [
      "connection to redshift made\n"
     ]
    }
   ],
   "source": [
    "# establishing redshift connection\n",
    "rs_connection = connect_to_redshift(dbname, host, port, user, password)"
   ]
  },
  {
   "cell_type": "code",
   "execution_count": 6,
   "id": "5c5b0c98-f759-4662-ac34-2144558d4f46",
   "metadata": {},
   "outputs": [],
   "source": [
    "query = \"\"\"select *\n",
    "           from bootcamp.online_transactions_fixed\n",
    "        \"\"\""
   ]
  },
  {
   "cell_type": "code",
   "execution_count": 7,
   "id": "7cdd0091-a619-4fce-be01-0edf42a35be0",
   "metadata": {},
   "outputs": [],
   "source": [
    "ot = pd.read_sql(query, rs_connection)"
   ]
  },
  {
   "cell_type": "markdown",
   "id": "f4852d6c-37dc-4fe5-b340-1d4896942ce4",
   "metadata": {},
   "source": [
    "#### From the data exploration is known that:\n",
    "- There are 34 transactions with price = 0. These are gonna be removed because they represent just 0.01% of the total data\n",
    "- There are some transactions with quantity < 0. I divided these transactions on two categories: Transactions with returns on the time interval of the dataset and Returns with the corresponding order outside the time interval of the dataset. Both sets are gonna be removed from the dataset and are gonna be stored in different dataframes to be analyze separately.\n",
    "- \n",
    "### I will perform a customer segmentation considering just the transactions without any return. Therefore, I will create two new datasets. The first one excluding the returned transactions and the second one with just the returned transactions."
   ]
  },
  {
   "cell_type": "code",
   "execution_count": 8,
   "id": "e8fe0b4f-14aa-4346-97a6-6b5867bcacf8",
   "metadata": {},
   "outputs": [],
   "source": [
    "# dropping transactions with price = 0\n",
    "ot.drop(ot[ot['price'] == 0].index, axis=0, inplace=True)\n",
    "ot.reset_index(inplace=True, drop=True)"
   ]
  },
  {
   "cell_type": "code",
   "execution_count": 9,
   "id": "bd040a60-43e3-4964-96e2-f0d7cb87d346",
   "metadata": {},
   "outputs": [],
   "source": [
    "# Grouping the data by customer and stock code to get the transactions with their returns\n",
    "invoice_list = ot.groupby(['customer_id', 'stock_code']).agg({'invoice': list, 'quantity': 'sum'})\n",
    "invoice_list = invoice_list[ot.groupby(['customer_id', 'stock_code'])['quantity'].sum() <= 0].reset_index()"
   ]
  },
  {
   "cell_type": "code",
   "execution_count": 10,
   "id": "ccb8478f-939a-4279-82d0-725ffadfd3e9",
   "metadata": {},
   "outputs": [],
   "source": [
    "invoice_idx = []\n",
    "[invoice_idx.extend(ids) for ids in invoice_list['invoice']];"
   ]
  },
  {
   "cell_type": "code",
   "execution_count": 11,
   "id": "4c1c331e-b6eb-47e6-a974-67a54181c6e5",
   "metadata": {},
   "outputs": [],
   "source": [
    "# Assigning returns whose order is inside the time interval of the dataset\n",
    "returns = ot[ot['invoice'].isin(invoice_idx)]"
   ]
  },
  {
   "cell_type": "code",
   "execution_count": 12,
   "id": "decdfb2e-72ac-44ce-a899-a1b93fce4a2f",
   "metadata": {},
   "outputs": [],
   "source": [
    "# Dataset without returns with order is inside the time interval of the dataset\n",
    "online_trans = ot.drop(returns.index, axis=0).reset_index()"
   ]
  },
  {
   "cell_type": "code",
   "execution_count": 13,
   "id": "5c1b05aa-3620-4aaf-b53a-fc78a32e18ff",
   "metadata": {},
   "outputs": [
    {
     "name": "stdout",
     "output_type": "stream",
     "text": [
      "7.56 % are returns whose transaction were made in the time interval of the data\n"
     ]
    }
   ],
   "source": [
    "print(f\"{round((ot.shape[0] - online_trans.shape[0]) * 100 / ot.shape[0], 2)} % are returns whose transaction were made in the time interval of the data\")"
   ]
  },
  {
   "cell_type": "code",
   "execution_count": 14,
   "id": "bcd073fc-bebe-4370-9313-a6e9031c9b86",
   "metadata": {},
   "outputs": [
    {
     "data": {
      "text/html": [
       "<div>\n",
       "<style scoped>\n",
       "    .dataframe tbody tr th:only-of-type {\n",
       "        vertical-align: middle;\n",
       "    }\n",
       "\n",
       "    .dataframe tbody tr th {\n",
       "        vertical-align: top;\n",
       "    }\n",
       "\n",
       "    .dataframe thead th {\n",
       "        text-align: right;\n",
       "    }\n",
       "</style>\n",
       "<table border=\"1\" class=\"dataframe\">\n",
       "  <thead>\n",
       "    <tr style=\"text-align: right;\">\n",
       "      <th></th>\n",
       "      <th>index</th>\n",
       "      <th>quantity</th>\n",
       "      <th>price</th>\n",
       "      <th>total_order_value</th>\n",
       "    </tr>\n",
       "  </thead>\n",
       "  <tbody>\n",
       "    <tr>\n",
       "      <th>count</th>\n",
       "      <td>369581.000000</td>\n",
       "      <td>369581.000000</td>\n",
       "      <td>369581.000000</td>\n",
       "      <td>369581.000000</td>\n",
       "    </tr>\n",
       "    <tr>\n",
       "      <th>mean</th>\n",
       "      <td>201288.490385</td>\n",
       "      <td>12.594002</td>\n",
       "      <td>2.920241</td>\n",
       "      <td>21.381545</td>\n",
       "    </tr>\n",
       "    <tr>\n",
       "      <th>std</th>\n",
       "      <td>115599.356359</td>\n",
       "      <td>43.843466</td>\n",
       "      <td>7.391403</td>\n",
       "      <td>95.916320</td>\n",
       "    </tr>\n",
       "    <tr>\n",
       "      <th>min</th>\n",
       "      <td>0.000000</td>\n",
       "      <td>-1515.000000</td>\n",
       "      <td>0.001000</td>\n",
       "      <td>-2432.700000</td>\n",
       "    </tr>\n",
       "    <tr>\n",
       "      <th>25%</th>\n",
       "      <td>101084.000000</td>\n",
       "      <td>2.000000</td>\n",
       "      <td>1.250000</td>\n",
       "      <td>4.550000</td>\n",
       "    </tr>\n",
       "    <tr>\n",
       "      <th>50%</th>\n",
       "      <td>202254.000000</td>\n",
       "      <td>6.000000</td>\n",
       "      <td>1.950000</td>\n",
       "      <td>11.800000</td>\n",
       "    </tr>\n",
       "    <tr>\n",
       "      <th>75%</th>\n",
       "      <td>301179.000000</td>\n",
       "      <td>12.000000</td>\n",
       "      <td>3.750000</td>\n",
       "      <td>19.800000</td>\n",
       "    </tr>\n",
       "    <tr>\n",
       "      <th>max</th>\n",
       "      <td>399806.000000</td>\n",
       "      <td>4800.000000</td>\n",
       "      <td>1599.260000</td>\n",
       "      <td>38970.000000</td>\n",
       "    </tr>\n",
       "  </tbody>\n",
       "</table>\n",
       "</div>"
      ],
      "text/plain": [
       "               index       quantity          price  total_order_value\n",
       "count  369581.000000  369581.000000  369581.000000      369581.000000\n",
       "mean   201288.490385      12.594002       2.920241          21.381545\n",
       "std    115599.356359      43.843466       7.391403          95.916320\n",
       "min         0.000000   -1515.000000       0.001000       -2432.700000\n",
       "25%    101084.000000       2.000000       1.250000           4.550000\n",
       "50%    202254.000000       6.000000       1.950000          11.800000\n",
       "75%    301179.000000      12.000000       3.750000          19.800000\n",
       "max    399806.000000    4800.000000    1599.260000       38970.000000"
      ]
     },
     "execution_count": 14,
     "metadata": {},
     "output_type": "execute_result"
    }
   ],
   "source": [
    "# Let's check the general overview of the data\n",
    "online_trans.describe()"
   ]
  },
  {
   "cell_type": "markdown",
   "id": "26a63da0-a9b7-4d20-932e-1b9e9625f99c",
   "metadata": {},
   "source": [
    "#### There are still some values with quantity (therefore total_order_value) smaller than zero. These transactions represent the returns with corresponding order outside the time window of the dataset. They are gonna be removed from the online_trans dataset and placed in a separate dataframe"
   ]
  },
  {
   "cell_type": "code",
   "execution_count": 15,
   "id": "da56d9fc-ba9a-40c5-9f7e-537196fa4b66",
   "metadata": {},
   "outputs": [],
   "source": [
    "# The negative values on the remaining data are considered return whose transactions were done outside the time interval of the data\n",
    "retunr_wt_trans = online_trans[online_trans['quantity']<= 0]"
   ]
  },
  {
   "cell_type": "markdown",
   "id": "6bb51986-1804-4d9e-8c61-2651d415f1f0",
   "metadata": {},
   "source": [
    "#### The negative values on the remaining data are considered return whose transactions were done outside the time interval of the data"
   ]
  },
  {
   "cell_type": "code",
   "execution_count": 16,
   "id": "ae1d12c4-7c58-4690-9fa0-f5b0d45f3305",
   "metadata": {},
   "outputs": [
    {
     "name": "stdout",
     "output_type": "stream",
     "text": [
      "1.1% are returns without equivalent transaction on the time interval of the data\n"
     ]
    }
   ],
   "source": [
    "print(f\"{round(retunr_wt_trans.shape[0] * 100 / ot.shape[0], 2)}% are returns without equivalent transaction on the time interval of the data\")"
   ]
  },
  {
   "cell_type": "code",
   "execution_count": 17,
   "id": "ef98cb7d-98eb-4ece-b33a-b67f23b588f2",
   "metadata": {},
   "outputs": [],
   "source": [
    "# Dropping returned data without transaction on the time interval of the dataframe\n",
    "online_trans.drop(retunr_wt_trans.index, axis=0, inplace=True)"
   ]
  },
  {
   "cell_type": "code",
   "execution_count": 18,
   "id": "fd001614-afba-46ee-ac5d-e96291e96899",
   "metadata": {},
   "outputs": [],
   "source": [
    "# Changing the name of the index column to stress that it is the index of the data with returns\n",
    "online_trans.rename(columns={'index': 'old_index'}, inplace=True)"
   ]
  },
  {
   "cell_type": "markdown",
   "id": "057e7590-1529-4aa8-8df4-f0d756de759c",
   "metadata": {},
   "source": [
    "### The online_trans is gonna be the data that I will use for the customer segmentation analyis. Let's make an deep dive into the data to get to know it better"
   ]
  },
  {
   "cell_type": "code",
   "execution_count": 19,
   "id": "18b5ade6-b03e-49f5-9048-364e7b8339af",
   "metadata": {},
   "outputs": [
    {
     "data": {
      "text/html": [
       "<div>\n",
       "<style scoped>\n",
       "    .dataframe tbody tr th:only-of-type {\n",
       "        vertical-align: middle;\n",
       "    }\n",
       "\n",
       "    .dataframe tbody tr th {\n",
       "        vertical-align: top;\n",
       "    }\n",
       "\n",
       "    .dataframe thead th {\n",
       "        text-align: right;\n",
       "    }\n",
       "</style>\n",
       "<table border=\"1\" class=\"dataframe\">\n",
       "  <thead>\n",
       "    <tr style=\"text-align: right;\">\n",
       "      <th></th>\n",
       "      <th>old_index</th>\n",
       "      <th>quantity</th>\n",
       "      <th>price</th>\n",
       "      <th>total_order_value</th>\n",
       "    </tr>\n",
       "  </thead>\n",
       "  <tbody>\n",
       "    <tr>\n",
       "      <th>count</th>\n",
       "      <td>365180.000000</td>\n",
       "      <td>365180.000000</td>\n",
       "      <td>365180.000000</td>\n",
       "      <td>365180.000000</td>\n",
       "    </tr>\n",
       "    <tr>\n",
       "      <th>mean</th>\n",
       "      <td>201388.969796</td>\n",
       "      <td>12.879829</td>\n",
       "      <td>2.905252</td>\n",
       "      <td>21.919158</td>\n",
       "    </tr>\n",
       "    <tr>\n",
       "      <th>std</th>\n",
       "      <td>115650.548135</td>\n",
       "      <td>43.577928</td>\n",
       "      <td>7.381186</td>\n",
       "      <td>95.735167</td>\n",
       "    </tr>\n",
       "    <tr>\n",
       "      <th>min</th>\n",
       "      <td>0.000000</td>\n",
       "      <td>1.000000</td>\n",
       "      <td>0.001000</td>\n",
       "      <td>0.000000</td>\n",
       "    </tr>\n",
       "    <tr>\n",
       "      <th>25%</th>\n",
       "      <td>101130.750000</td>\n",
       "      <td>2.000000</td>\n",
       "      <td>1.250000</td>\n",
       "      <td>4.950000</td>\n",
       "    </tr>\n",
       "    <tr>\n",
       "      <th>50%</th>\n",
       "      <td>202445.500000</td>\n",
       "      <td>6.000000</td>\n",
       "      <td>1.950000</td>\n",
       "      <td>11.900000</td>\n",
       "    </tr>\n",
       "    <tr>\n",
       "      <th>75%</th>\n",
       "      <td>301319.250000</td>\n",
       "      <td>12.000000</td>\n",
       "      <td>3.750000</td>\n",
       "      <td>19.800000</td>\n",
       "    </tr>\n",
       "    <tr>\n",
       "      <th>max</th>\n",
       "      <td>399806.000000</td>\n",
       "      <td>4800.000000</td>\n",
       "      <td>1599.260000</td>\n",
       "      <td>38970.000000</td>\n",
       "    </tr>\n",
       "  </tbody>\n",
       "</table>\n",
       "</div>"
      ],
      "text/plain": [
       "           old_index       quantity          price  total_order_value\n",
       "count  365180.000000  365180.000000  365180.000000      365180.000000\n",
       "mean   201388.969796      12.879829       2.905252          21.919158\n",
       "std    115650.548135      43.577928       7.381186          95.735167\n",
       "min         0.000000       1.000000       0.001000           0.000000\n",
       "25%    101130.750000       2.000000       1.250000           4.950000\n",
       "50%    202445.500000       6.000000       1.950000          11.900000\n",
       "75%    301319.250000      12.000000       3.750000          19.800000\n",
       "max    399806.000000    4800.000000    1599.260000       38970.000000"
      ]
     },
     "execution_count": 19,
     "metadata": {},
     "output_type": "execute_result"
    }
   ],
   "source": [
    "# Checking numerical variables\n",
    "online_trans.describe()"
   ]
  },
  {
   "cell_type": "code",
   "execution_count": 20,
   "id": "02e41054-7a35-47db-8f54-45e30ce79fbe",
   "metadata": {},
   "outputs": [
    {
     "data": {
      "text/html": [
       "<div>\n",
       "<style scoped>\n",
       "    .dataframe tbody tr th:only-of-type {\n",
       "        vertical-align: middle;\n",
       "    }\n",
       "\n",
       "    .dataframe tbody tr th {\n",
       "        vertical-align: top;\n",
       "    }\n",
       "\n",
       "    .dataframe thead th {\n",
       "        text-align: right;\n",
       "    }\n",
       "</style>\n",
       "<table border=\"1\" class=\"dataframe\">\n",
       "  <thead>\n",
       "    <tr style=\"text-align: right;\">\n",
       "      <th></th>\n",
       "      <th>old_index</th>\n",
       "      <th>invoice</th>\n",
       "      <th>stock_code</th>\n",
       "      <th>description</th>\n",
       "      <th>quantity</th>\n",
       "      <th>invoice_date</th>\n",
       "      <th>price</th>\n",
       "      <th>customer_id</th>\n",
       "      <th>country</th>\n",
       "      <th>total_order_value</th>\n",
       "    </tr>\n",
       "  </thead>\n",
       "  <tbody>\n",
       "    <tr>\n",
       "      <th>72683</th>\n",
       "      <td>79710</td>\n",
       "      <td>550193</td>\n",
       "      <td>PADS</td>\n",
       "      <td>PADS TO MATCH ALL CUSHIONS</td>\n",
       "      <td>1</td>\n",
       "      <td>2011-04-15 09:27:00</td>\n",
       "      <td>0.001</td>\n",
       "      <td>u13952</td>\n",
       "      <td>United Kingdom</td>\n",
       "      <td>0.0</td>\n",
       "    </tr>\n",
       "    <tr>\n",
       "      <th>149561</th>\n",
       "      <td>163606</td>\n",
       "      <td>568200</td>\n",
       "      <td>PADS</td>\n",
       "      <td>PADS TO MATCH ALL CUSHIONS</td>\n",
       "      <td>1</td>\n",
       "      <td>2011-09-25 14:58:00</td>\n",
       "      <td>0.001</td>\n",
       "      <td>u16198</td>\n",
       "      <td>United Kingdom</td>\n",
       "      <td>0.0</td>\n",
       "    </tr>\n",
       "    <tr>\n",
       "      <th>269329</th>\n",
       "      <td>292736</td>\n",
       "      <td>561226</td>\n",
       "      <td>PADS</td>\n",
       "      <td>PADS TO MATCH ALL CUSHIONS</td>\n",
       "      <td>1</td>\n",
       "      <td>2011-07-26 10:13:00</td>\n",
       "      <td>0.001</td>\n",
       "      <td>u15618</td>\n",
       "      <td>United Kingdom</td>\n",
       "      <td>0.0</td>\n",
       "    </tr>\n",
       "  </tbody>\n",
       "</table>\n",
       "</div>"
      ],
      "text/plain": [
       "        old_index invoice stock_code                 description  quantity  \\\n",
       "72683       79710  550193       PADS  PADS TO MATCH ALL CUSHIONS         1   \n",
       "149561     163606  568200       PADS  PADS TO MATCH ALL CUSHIONS         1   \n",
       "269329     292736  561226       PADS  PADS TO MATCH ALL CUSHIONS         1   \n",
       "\n",
       "              invoice_date  price customer_id         country  \\\n",
       "72683  2011-04-15 09:27:00  0.001      u13952  United Kingdom   \n",
       "149561 2011-09-25 14:58:00  0.001      u16198  United Kingdom   \n",
       "269329 2011-07-26 10:13:00  0.001      u15618  United Kingdom   \n",
       "\n",
       "        total_order_value  \n",
       "72683                 0.0  \n",
       "149561                0.0  \n",
       "269329                0.0  "
      ]
     },
     "execution_count": 20,
     "metadata": {},
     "output_type": "execute_result"
    }
   ],
   "source": [
    "# There are some values with total_order_value = 0\n",
    "online_trans[online_trans[\"total_order_value\"] == 0]"
   ]
  },
  {
   "cell_type": "markdown",
   "id": "19b8960f-f616-4076-a8d6-2c49512c682d",
   "metadata": {},
   "source": [
    "### I will replace the total_order_value column coming from the reshift data base by the total order value calculated by myself and round it to 3 decimal points in order to avoid the zero entries that we see in the cell above"
   ]
  },
  {
   "cell_type": "code",
   "execution_count": 21,
   "id": "ed426350-61c9-4696-a3e1-8bd888359198",
   "metadata": {},
   "outputs": [],
   "source": [
    "online_trans['total_order_value'] = online_trans['price'] * online_trans['quantity']"
   ]
  },
  {
   "cell_type": "markdown",
   "id": "3541720c-b47e-4264-a373-c949f0ce6285",
   "metadata": {},
   "source": [
    "### Let's check outliers"
   ]
  },
  {
   "cell_type": "code",
   "execution_count": 22,
   "id": "395bcb6c-0c44-4aae-83d8-987a5a765a06",
   "metadata": {},
   "outputs": [
    {
     "data": {
      "image/png": "[encoded data removed]",
      "text/plain": [
       "<Figure size 640x480 with 1 Axes>"
      ]
     },
     "metadata": {},
     "output_type": "display_data"
    }
   ],
   "source": [
    "sns.boxplot(online_trans[[\"quantity\", \"price\", \"total_order_value\"]]);"
   ]
  },
  {
   "cell_type": "markdown",
   "id": "ae864c36-3743-4cc8-88fb-4b8040cb0226",
   "metadata": {},
   "source": [
    "#### There are lots of outliers. I will take care of that during the data preparation process for the customer segmentation analysis"
   ]
  },
  {
   "cell_type": "code",
   "execution_count": 23,
   "id": "f0791659-503a-4c7d-8146-6aa32180a1b7",
   "metadata": {},
   "outputs": [
    {
     "data": {
      "text/html": [
       "<div>\n",
       "<style scoped>\n",
       "    .dataframe tbody tr th:only-of-type {\n",
       "        vertical-align: middle;\n",
       "    }\n",
       "\n",
       "    .dataframe tbody tr th {\n",
       "        vertical-align: top;\n",
       "    }\n",
       "\n",
       "    .dataframe thead th {\n",
       "        text-align: right;\n",
       "    }\n",
       "</style>\n",
       "<table border=\"1\" class=\"dataframe\">\n",
       "  <thead>\n",
       "    <tr style=\"text-align: right;\">\n",
       "      <th></th>\n",
       "      <th>invoice</th>\n",
       "      <th>stock_code</th>\n",
       "      <th>description</th>\n",
       "      <th>customer_id</th>\n",
       "      <th>country</th>\n",
       "    </tr>\n",
       "  </thead>\n",
       "  <tbody>\n",
       "    <tr>\n",
       "      <th>count</th>\n",
       "      <td>365180</td>\n",
       "      <td>365180</td>\n",
       "      <td>365180</td>\n",
       "      <td>365180</td>\n",
       "      <td>365180</td>\n",
       "    </tr>\n",
       "    <tr>\n",
       "      <th>unique</th>\n",
       "      <td>17553</td>\n",
       "      <td>3634</td>\n",
       "      <td>3599</td>\n",
       "      <td>4247</td>\n",
       "      <td>37</td>\n",
       "    </tr>\n",
       "    <tr>\n",
       "      <th>top</th>\n",
       "      <td>576339</td>\n",
       "      <td>85123A</td>\n",
       "      <td>CREAM HANGING HEART T-LIGHT HOLDER</td>\n",
       "      <td>u17841</td>\n",
       "      <td>United Kingdom</td>\n",
       "    </tr>\n",
       "    <tr>\n",
       "      <th>freq</th>\n",
       "      <td>542</td>\n",
       "      <td>1909</td>\n",
       "      <td>1909</td>\n",
       "      <td>7499</td>\n",
       "      <td>326124</td>\n",
       "    </tr>\n",
       "  </tbody>\n",
       "</table>\n",
       "</div>"
      ],
      "text/plain": [
       "       invoice stock_code                         description customer_id  \\\n",
       "count   365180     365180                              365180      365180   \n",
       "unique   17553       3634                                3599        4247   \n",
       "top     576339     85123A  CREAM HANGING HEART T-LIGHT HOLDER      u17841   \n",
       "freq       542       1909                                1909        7499   \n",
       "\n",
       "               country  \n",
       "count           365180  \n",
       "unique              37  \n",
       "top     United Kingdom  \n",
       "freq            326124  "
      ]
     },
     "execution_count": 23,
     "metadata": {},
     "output_type": "execute_result"
    }
   ],
   "source": [
    "# Checking categorical variables\n",
    "online_trans.describe(include=object)"
   ]
  },
  {
   "cell_type": "markdown",
   "id": "6abf5258-c68c-45c1-80df-2d431772ec2a",
   "metadata": {},
   "source": [
    "#### From this dataset, the best seller product across all countries is \"CREAM HANGING HEART T-LIGHT HOLDER\" sold almost 2000 times"
   ]
  },
  {
   "cell_type": "markdown",
   "id": "652b648f-07a0-40f8-a2f5-27dbd9073696",
   "metadata": {},
   "source": [
    "### Let's explore seasonality in the data"
   ]
  },
  {
   "cell_type": "code",
   "execution_count": 24,
   "id": "7e0d28ee-8fb1-4c2b-ad3f-cf1d6e7652d1",
   "metadata": {},
   "outputs": [],
   "source": [
    "# Setting up monthly, yearly, daily data\n",
    "online_trans['invoice_year'] = online_trans['invoice_date'].dt.year\n",
    "online_trans['invoice_month'] = online_trans['invoice_date'].dt.month\n",
    "online_trans['invoice_day'] = online_trans['invoice_date'].dt.day\n",
    "online_trans['invoice_weekday'] = online_trans['invoice_date'].dt.dayofweek\n",
    "online_trans['invoice_dayname'] = online_trans['invoice_date'].dt.day_name()"
   ]
  },
  {
   "cell_type": "code",
   "execution_count": 25,
   "id": "f5c90f3a-d91c-42e8-b3d7-7ef69e731edb",
   "metadata": {},
   "outputs": [],
   "source": [
    "# Defining color palette for plots\n",
    "palette = sns.color_palette(\"tab10\")"
   ]
  },
  {
   "cell_type": "code",
   "execution_count": 26,
   "id": "c5e2a3e1-666e-402f-a29d-de452c01b8ed",
   "metadata": {},
   "outputs": [],
   "source": [
    "# Number of invoices per month\n",
    "monthly_data = online_trans.groupby([\"invoice_month\", \"invoice_year\"]).count()['invoice'].reset_index()"
   ]
  },
  {
   "cell_type": "code",
   "execution_count": 27,
   "id": "f6c2fda8-3d0f-4ffe-9a7d-c241f99bb4cf",
   "metadata": {},
   "outputs": [],
   "source": [
    "# to plot the month with the name instead of the number\n",
    "month_labels = ['Jan', 'Feb', 'Mar', 'Apr', 'May', 'Jun', 'Jul', 'Aug', 'Sep', 'Oct', 'Nov', 'Dec']"
   ]
  },
  {
   "cell_type": "code",
   "execution_count": 28,
   "id": "a7c6edbb-7271-4d47-859d-b5705a240ed5",
   "metadata": {},
   "outputs": [
    {
     "data": {
      "image/png": "[encoded data removed]",
      "text/plain": [
       "<Figure size 640x480 with 1 Axes>"
      ]
     },
     "metadata": {},
     "output_type": "display_data"
    }
   ],
   "source": [
    "# Distribution of invoices per month\n",
    "ax = sns.barplot(data=monthly_data, x=\"invoice_month\", y=\"invoice\", hue=\"invoice_year\")\n",
    "plt.title(\"Number of invoices per month\")\n",
    "plt.xlabel(\"Month of the year\")\n",
    "plt.ylabel(\"Total number of invoices\")\n",
    "ax.set_xticks(range(12))  # Set the locations of the ticks on the x-axis\n",
    "ax.set_xticklabels(month_labels)  # Set the labels for the ticks\n",
    "plt.xticks(rotation=45) # Rotates the ticks on the x-axis\n",
    "plt.legend(loc='upper left')\n",
    "plt.savefig(\"../visualizations/invoice_month.png\")"
   ]
  },
  {
   "cell_type": "code",
   "execution_count": 29,
   "id": "8d93f701-319d-4e7d-8ef2-de4ad9d80ded",
   "metadata": {},
   "outputs": [
    {
     "name": "stdout",
     "output_type": "stream",
     "text": [
      "The first order on the dataset was purchase on 2010-12-01 08:26:00 and the last one on 2011-12-09 12:50:00\n"
     ]
    }
   ],
   "source": [
    "# 1st and last order on the dataset\n",
    "first_order = online_trans['invoice_date'].min()\n",
    "last_order = online_trans['invoice_date'].max()\n",
    "print(f\"The first order on the dataset was purchase on {first_order} and the last one on {last_order}\")"
   ]
  },
  {
   "cell_type": "markdown",
   "id": "c3a835c1-a959-44a6-ada4-30906d9f3ce4",
   "metadata": {},
   "source": [
    "#### The number of invoices increases throughout the year, with a peak in November. The conclusions about December 2011 is incomplete because the dataset contains transactions till December 9th."
   ]
  },
  {
   "cell_type": "code",
   "execution_count": 30,
   "id": "c3654e54-61af-439d-aab4-c52dd5d2df3c",
   "metadata": {},
   "outputs": [],
   "source": [
    "# Let's inspect the transactions on Dec 2010 and 2011 to have an estimation of the total sales on Dec 2011\n",
    "Dec10_trans = online_trans[online_trans['invoice_date'] <= \"2010-12-09 12:50:00\"].groupby([\"invoice_year\", \"invoice_month\"]).count()['invoice'].reset_index()\n",
    "Dec11_trans = online_trans[online_trans['invoice_date'] >= \"2011-12-01 00:00:00\"].groupby([\"invoice_year\", \"invoice_month\"]).count()['invoice'].reset_index()\n",
    "Dec_comp = pd.concat([Dec10_trans, Dec11_trans])"
   ]
  },
  {
   "cell_type": "code",
   "execution_count": 31,
   "id": "ef4a7b15-2c29-47f9-9403-5a8efedebd75",
   "metadata": {},
   "outputs": [
    {
     "data": {
      "image/png": "[encoded data removed]",
      "text/plain": [
       "<Figure size 640x480 with 1 Axes>"
      ]
     },
     "metadata": {},
     "output_type": "display_data"
    }
   ],
   "source": [
    "# Distribution of invoices on December 2010 and 2011\n",
    "sns.barplot(data=Dec_comp, x='invoice_year', y='invoice')\n",
    "plt.xlabel(\"Invoice year\")\n",
    "plt.ylabel(\"Total number of invoices\")\n",
    "plt.title(\"Number of invoices on December 2010 and 2011\");"
   ]
  },
  {
   "cell_type": "markdown",
   "id": "0ed5db21-e222-4a52-9285-2c4ef46c858a",
   "metadata": {},
   "source": [
    "#### The last data point recorded on December 2011 was on the 9th. In the previous plot I compare the number of invoices for that same day on 2010 and 2011. Eventhough the course of the invoice on December 2011 is inconclusive, it is clear that it surpassed the number of transactions on December 9th, 2010. we can expect that on Demcember 2011 sales are gonna be above than on Demcember 2010"
   ]
  },
  {
   "cell_type": "markdown",
   "id": "aaa71ee6-a90d-498c-a5d2-5625e52c57e7",
   "metadata": {},
   "source": [
    "### Let's check seasonality on a day-week basis"
   ]
  },
  {
   "cell_type": "code",
   "execution_count": 32,
   "id": "57f52059-e950-42c5-bc3b-128a01dec70d",
   "metadata": {},
   "outputs": [
    {
     "data": {
      "text/plain": [
       "array(['Wednesday', 'Thursday', 'Friday', 'Sunday', 'Monday', 'Tuesday'],\n",
       "      dtype=object)"
      ]
     },
     "execution_count": 32,
     "metadata": {},
     "output_type": "execute_result"
    }
   ],
   "source": [
    "# Checking the days of the week on he dataset \n",
    "online_trans['invoice_dayname'].unique()"
   ]
  },
  {
   "cell_type": "markdown",
   "id": "89ee9d6e-2765-461e-9539-a950ddc89775",
   "metadata": {},
   "source": [
    "<div class=\"alert alert-block alert-info\">\n",
    "<b>Note:</b> Data for Saturday is not available in this dataset.\n",
    "</div>"
   ]
  },
  {
   "cell_type": "code",
   "execution_count": 33,
   "id": "c2849715-b297-411f-87f6-5b94f84b4af6",
   "metadata": {},
   "outputs": [],
   "source": [
    "# To plot the days in order\n",
    "day_order = ['Monday', 'Tuesday', 'Wednesday', 'Thursday', 'Friday', 'Sunday']\n",
    "online_trans['invoice_dayname'] = pd.Categorical(online_trans['invoice_date'].dt.day_name(), categories=day_order, ordered=True)"
   ]
  },
  {
   "cell_type": "code",
   "execution_count": 34,
   "id": "df2be36a-fb67-4237-a1d9-c2acb3eec2f3",
   "metadata": {},
   "outputs": [],
   "source": [
    "# Getting the number of invoices per day of the week\n",
    "weekly_inv = online_trans.groupby([\"invoice_weekday\"]).count()['invoice'].reset_index()"
   ]
  },
  {
   "cell_type": "code",
   "execution_count": 35,
   "id": "86597253-e5f7-42bd-b9fe-3d788899284d",
   "metadata": {},
   "outputs": [],
   "source": [
    "# adding the names to daily dataframe\n",
    "weekly_inv['invoice_dayname'] =  day_order"
   ]
  },
  {
   "cell_type": "code",
   "execution_count": 36,
   "id": "6d9df711-0599-41d4-b56c-f50b82d07bca",
   "metadata": {},
   "outputs": [
    {
     "data": {
      "image/png": "[encoded data removed]",
      "text/plain": [
       "<Figure size 640x480 with 1 Axes>"
      ]
     },
     "metadata": {},
     "output_type": "display_data"
    }
   ],
   "source": [
    "sns.barplot(data=weekly_inv, x='invoice_dayname', y='invoice')\n",
    "plt.title(\"Number of invoices per day of the week\")\n",
    "plt.xlabel(\"Day of the week\")\n",
    "plt.ylabel(\"Total number of invoices\")\n",
    "plt.xticks(rotation=45); # Rotates the ticks on the x-axis"
   ]
  },
  {
   "cell_type": "markdown",
   "id": "b89fb86c-d47c-49ed-9664-d11fc8370f23",
   "metadata": {},
   "source": [
    "### The number of invoice has a peak on Thursdays. The day with least orders is Friday"
   ]
  },
  {
   "cell_type": "markdown",
   "id": "a6b6e4f4-75f1-4c5f-b0be-fa07237b5675",
   "metadata": {},
   "source": [
    "### Let's check seasonality on a day-month basis"
   ]
  },
  {
   "cell_type": "code",
   "execution_count": 37,
   "id": "9efbc0f5-59e3-4076-8eb8-e32d889133c5",
   "metadata": {},
   "outputs": [],
   "source": [
    "daily_inv = online_trans.groupby(\"invoice_day\").count()['invoice'].reset_index()"
   ]
  },
  {
   "cell_type": "code",
   "execution_count": 38,
   "id": "599cded5-f7f9-4cbd-890a-240648ed6f0b",
   "metadata": {},
   "outputs": [
    {
     "data": {
      "image/png": "[encoded data removed]",
      "text/plain": [
       "<Figure size 640x480 with 1 Axes>"
      ]
     },
     "metadata": {},
     "output_type": "display_data"
    }
   ],
   "source": [
    "sns.lineplot(data=daily_inv, x='invoice_day', y='invoice', marker='o')\n",
    "plt.title(\"Number of invoices per day of the month\")\n",
    "plt.xlabel(\"Day of the month\")\n",
    "plt.ylabel(\"Total of invoices\");"
   ]
  },
  {
   "cell_type": "markdown",
   "id": "3e00dd1c-53d7-412a-b2be-b3086dc5c1cc",
   "metadata": {},
   "source": [
    "#### Customers are more likely to buy on the middle of the first week of the month. From week 2 to week 3 the number of invoices keeps steady until decreasing on week 4 "
   ]
  },
  {
   "cell_type": "markdown",
   "id": "ffb9649f-82d0-4812-8048-a491ea65ecf5",
   "metadata": {},
   "source": [
    "## Let's explore some KPIs"
   ]
  },
  {
   "cell_type": "code",
   "execution_count": 39,
   "id": "160f45e6-f44f-467a-ae9d-8cae837c93be",
   "metadata": {},
   "outputs": [
    {
     "name": "stdout",
     "output_type": "stream",
     "text": [
      "On average, there are 21 stock codes per invoice\n"
     ]
    }
   ],
   "source": [
    "# Line Items (Number of products per invoice)\n",
    "line_items = online_trans.groupby(\"invoice\")['stock_code'].count()\n",
    "print(f\"On average, there are {round(line_items.mean())} stock codes per invoice\")"
   ]
  },
  {
   "cell_type": "code",
   "execution_count": 40,
   "id": "7f62472e-f373-4835-b451-d4af68a8e676",
   "metadata": {},
   "outputs": [
    {
     "name": "stdout",
     "output_type": "stream",
     "text": [
      "The average purchase per invoice is 456.02 pounds\n"
     ]
    }
   ],
   "source": [
    "# Average order value per invoice\n",
    "avg_order = online_trans.groupby(\"invoice\").sum()['total_order_value']\n",
    "print(f\"The average purchase per invoice is {round(avg_order.mean(), 2)} pounds\")"
   ]
  },
  {
   "cell_type": "code",
   "execution_count": 41,
   "id": "6b36b5fc-8414-4716-b192-311dcbfcdf09",
   "metadata": {},
   "outputs": [
    {
     "name": "stdout",
     "output_type": "stream",
     "text": [
      "In average the customer spent 1884.73 pounds from December 2010 to December 2011\n"
     ]
    }
   ],
   "source": [
    "# Average order value per customer\n",
    "cust_spent = online_trans.groupby(\"customer_id\").sum()['total_order_value']\n",
    "print(f\"In average the customer spent {round(cust_spent.mean(),2)} pounds from December 2010 to December 2011\")"
   ]
  },
  {
   "cell_type": "code",
   "execution_count": 42,
   "id": "ed0b6097-a599-4a35-865a-d9aac09c58a5",
   "metadata": {},
   "outputs": [
    {
     "name": "stdout",
     "output_type": "stream",
     "text": [
      "There are 866 customers (out of 4362) who spent more than the average customers\n"
     ]
    }
   ],
   "source": [
    "# Number of customers who spent more than the average\n",
    "cust_above_avg = (cust_spent > cust_spent.mean()).sum() \n",
    "print(f\"There are {cust_above_avg} customers (out of {ot['customer_id'].nunique()}) who spent more than the average customers\")"
   ]
  },
  {
   "cell_type": "code",
   "execution_count": 43,
   "id": "ed000403-7d3c-463f-8e4d-982faa7539b8",
   "metadata": {},
   "outputs": [
    {
     "name": "stdout",
     "output_type": "stream",
     "text": [
      "The customers made on average 86 purchases\n"
     ]
    }
   ],
   "source": [
    "# Average invoices per customer\n",
    "inv_cust = online_trans.groupby('customer_id').count()['invoice']\n",
    "print(f\"The customers made on average {round(inv_cust.mean())} purchases\")"
   ]
  },
  {
   "cell_type": "code",
   "execution_count": 44,
   "id": "e468c005-ceb7-4199-8aa2-3ac1608dd8ca",
   "metadata": {},
   "outputs": [
    {
     "name": "stdout",
     "output_type": "stream",
     "text": [
      "There are 1157 customers who made more purchases than the average\n"
     ]
    }
   ],
   "source": [
    "# How many customers are above the average invoice per customer?\n",
    "print(f\"There are {(inv_cust > inv_cust.mean()).sum()} customers who made more purchases than the average\")"
   ]
  },
  {
   "cell_type": "markdown",
   "id": "8e3cd259-79e7-4770-9074-b76b81849e13",
   "metadata": {},
   "source": [
    "### Let's explore the data grouped by customer"
   ]
  },
  {
   "cell_type": "code",
   "execution_count": 45,
   "id": "7dc1fcf6-9764-477e-993a-e5b572f6017f",
   "metadata": {},
   "outputs": [],
   "source": [
    "cust_data = pd.DataFrame()\n",
    "cust_group = ot.groupby('customer_id')"
   ]
  },
  {
   "cell_type": "code",
   "execution_count": 46,
   "id": "d632718d-5dff-450e-ba38-f30131e54132",
   "metadata": {},
   "outputs": [],
   "source": [
    "# Let's define customer loyalty as the difference in time between the 1st and the last purchase\n",
    "delta_date = (ot.groupby('customer_id').first()['invoice_date'] - ot.groupby('customer_id').last()['invoice_date']).abs()\n",
    "cust_data['loyalty_time'] = delta_date.dt.days"
   ]
  },
  {
   "cell_type": "code",
   "execution_count": 47,
   "id": "01009083-3c9f-4e4d-b224-722f03b70507",
   "metadata": {},
   "outputs": [
    {
     "name": "stdout",
     "output_type": "stream",
     "text": [
      "There are 1548 customer with less than 1 day of loyalty. This represent 35% of the total clients\n"
     ]
    }
   ],
   "source": [
    "once_cust = cust_data[cust_data['loyalty_time'] == 0].shape[0]\n",
    "print(f\"There are {once_cust} customer with less than 1 day of loyalty. This represent {round(once_cust *100 / cust_data.shape[0])}% of the total clients\")"
   ]
  },
  {
   "cell_type": "code",
   "execution_count": 48,
   "id": "bc9338af-7711-4d4e-a666-8e7989027496",
   "metadata": {},
   "outputs": [
    {
     "name": "stdout",
     "output_type": "stream",
     "text": [
      "The average loyalty time of the clients is 130 days\n"
     ]
    }
   ],
   "source": [
    "print(f\"The average loyalty time of the clients is {round(cust_data['loyalty_time'].mean())} days\")"
   ]
  },
  {
   "cell_type": "code",
   "execution_count": 49,
   "id": "ccf846c6-f949-4b8d-9a6b-4a4c3b8e6ae9",
   "metadata": {},
   "outputs": [
    {
     "name": "stdout",
     "output_type": "stream",
     "text": [
      "The are 1956 clients that are above the average loyalty time. This represent 45% of the total clients\n"
     ]
    }
   ],
   "source": [
    "# customers with loyalty time above the average\n",
    "cust_above_lt = cust_data[cust_data['loyalty_time'] >= cust_data['loyalty_time'].mean()].shape[0]\n",
    "print(f\"The are {cust_above_lt} clients that are above the average loyalty time. This represent {round(cust_above_lt *100 / cust_data.shape[0])}% of the total clients\")"
   ]
  },
  {
   "cell_type": "code",
   "execution_count": 50,
   "id": "56042a89-44d3-4352-ad72-720ca8bdc1fb",
   "metadata": {},
   "outputs": [
    {
     "data": {
      "image/png": "[encoded data removed]",
      "text/plain": [
       "<Figure size 640x480 with 1 Axes>"
      ]
     },
     "metadata": {},
     "output_type": "display_data"
    }
   ],
   "source": [
    "# Let's plot the loyalty distribution\n",
    "plt.hist(cust_data['loyalty_time'])\n",
    "plt.title(\"Loyalty days distribution\")\n",
    "plt.xlabel(\"Days of loyalty\")\n",
    "plt.ylabel(\"Number of clients\")\n",
    "plt.tight_layout()\n",
    "plt.savefig(\"../visualizations/loyalty_distribution_cust_onlyonce.png\")"
   ]
  },
  {
   "cell_type": "markdown",
   "id": "d9a9eb03-9ff1-4c53-a847-bdc0850215c0",
   "metadata": {},
   "source": [
    "### Excluding the once in a life time clients the distribution of loyalty days is shown below"
   ]
  },
  {
   "cell_type": "code",
   "execution_count": 51,
   "id": "733f36b0-0b5d-4233-bd6f-e20d984b8408",
   "metadata": {},
   "outputs": [
    {
     "data": {
      "image/png": "[encoded data removed]",
      "text/plain": [
       "<Figure size 640x480 with 1 Axes>"
      ]
     },
     "metadata": {},
     "output_type": "display_data"
    }
   ],
   "source": [
    "# Loyalty distribution excluding clients ith loyalty = 0\n",
    "plt.hist(cust_data['loyalty_time'][cust_data.sort_values(by='loyalty_time', ascending=False)['loyalty_time']>0])\n",
    "plt.title(\"Customer loyalty distribution\")\n",
    "plt.xlabel(\"Days of loyalty\")\n",
    "plt.ylabel(\"Number of clients\")\n",
    "plt.tight_layout();"
   ]
  },
  {
   "cell_type": "markdown",
   "id": "99632110-f772-41aa-bd36-809dd9836320",
   "metadata": {},
   "source": [
    "### The number of clients keep constant with the number of loyalty days except those customers having almost a year of loyalty"
   ]
  },
  {
   "cell_type": "markdown",
   "id": "37029013-9475-45c0-8fe6-05391b7a3113",
   "metadata": {},
   "source": [
    "### Let's explore the average amount of items order per customer "
   ]
  },
  {
   "cell_type": "code",
   "execution_count": 52,
   "id": "9356d617-bd3e-4df9-bd43-8454505ac37b",
   "metadata": {},
   "outputs": [],
   "source": [
    "# number of stocks per customer per invoice\n",
    "nstock_inv_cust = online_trans.groupby([\"customer_id\", \"invoice\"])['stock_code'].count()"
   ]
  },
  {
   "cell_type": "code",
   "execution_count": 53,
   "id": "fc311d53-7f57-4584-894c-18538e211a85",
   "metadata": {},
   "outputs": [
    {
     "name": "stdout",
     "output_type": "stream",
     "text": [
      "The average stocks per customer per invoice is 22\n"
     ]
    }
   ],
   "source": [
    "# average stocks ordered by customer\n",
    "mean_nstock_cust = nstock_inv_cust.groupby(level=0).mean()\n",
    "print(f\"The average stocks per customer per invoice is {round(mean_nstock_cust.mean())}\")"
   ]
  },
  {
   "cell_type": "code",
   "execution_count": 54,
   "id": "933e9c88-5559-4db2-bb23-d79d17982452",
   "metadata": {},
   "outputs": [],
   "source": [
    "# Let's add the average stock order per invoice per customer on my customer dataset\n",
    "cust_data['mean_nstock'] = mean_nstock_cust"
   ]
  },
  {
   "cell_type": "code",
   "execution_count": 55,
   "id": "a4e818e2-ecee-44d4-96ef-b8d627f59294",
   "metadata": {},
   "outputs": [
    {
     "data": {
      "text/plain": [
       "loyalty_time      0\n",
       "mean_nstock     115\n",
       "dtype: int64"
      ]
     },
     "execution_count": 55,
     "metadata": {},
     "output_type": "execute_result"
    }
   ],
   "source": [
    "cust_data.isnull().sum()"
   ]
  },
  {
   "cell_type": "markdown",
   "id": "ff140b23-aefd-4525-8ce8-fc85c712ffe6",
   "metadata": {},
   "source": [
    "<div class=\"alert alert-block alert-info\">\n",
    "<b>Note:</b> There are some null values corresponding to the users that returned data. At the end of the analysis these customers are gonna be dropped\n",
    "</div>"
   ]
  },
  {
   "cell_type": "code",
   "execution_count": 56,
   "id": "cbed62a1",
   "metadata": {},
   "outputs": [
    {
     "data": {
      "text/html": [
       "<div>\n",
       "<style scoped>\n",
       "    .dataframe tbody tr th:only-of-type {\n",
       "        vertical-align: middle;\n",
       "    }\n",
       "\n",
       "    .dataframe tbody tr th {\n",
       "        vertical-align: top;\n",
       "    }\n",
       "\n",
       "    .dataframe thead th {\n",
       "        text-align: right;\n",
       "    }\n",
       "</style>\n",
       "<table border=\"1\" class=\"dataframe\">\n",
       "  <thead>\n",
       "    <tr style=\"text-align: right;\">\n",
       "      <th></th>\n",
       "      <th>loyalty_time</th>\n",
       "      <th>mean_nstock</th>\n",
       "    </tr>\n",
       "    <tr>\n",
       "      <th>customer_id</th>\n",
       "      <th></th>\n",
       "      <th></th>\n",
       "    </tr>\n",
       "  </thead>\n",
       "  <tbody>\n",
       "    <tr>\n",
       "      <th>u12346</th>\n",
       "      <td>0</td>\n",
       "      <td>NaN</td>\n",
       "    </tr>\n",
       "    <tr>\n",
       "      <th>u12347</th>\n",
       "      <td>365</td>\n",
       "      <td>26.000000</td>\n",
       "    </tr>\n",
       "    <tr>\n",
       "      <th>u12348</th>\n",
       "      <td>282</td>\n",
       "      <td>6.750000</td>\n",
       "    </tr>\n",
       "    <tr>\n",
       "      <th>u12349</th>\n",
       "      <td>0</td>\n",
       "      <td>72.000000</td>\n",
       "    </tr>\n",
       "    <tr>\n",
       "      <th>u1235</th>\n",
       "      <td>0</td>\n",
       "      <td>16.000000</td>\n",
       "    </tr>\n",
       "    <tr>\n",
       "      <th>...</th>\n",
       "      <td>...</td>\n",
       "      <td>...</td>\n",
       "    </tr>\n",
       "    <tr>\n",
       "      <th>u1828</th>\n",
       "      <td>0</td>\n",
       "      <td>10.000000</td>\n",
       "    </tr>\n",
       "    <tr>\n",
       "      <th>u18281</th>\n",
       "      <td>0</td>\n",
       "      <td>7.000000</td>\n",
       "    </tr>\n",
       "    <tr>\n",
       "      <th>u18282</th>\n",
       "      <td>114</td>\n",
       "      <td>6.000000</td>\n",
       "    </tr>\n",
       "    <tr>\n",
       "      <th>u18283</th>\n",
       "      <td>333</td>\n",
       "      <td>44.937500</td>\n",
       "    </tr>\n",
       "    <tr>\n",
       "      <th>u18287</th>\n",
       "      <td>158</td>\n",
       "      <td>23.333333</td>\n",
       "    </tr>\n",
       "  </tbody>\n",
       "</table>\n",
       "<p>4362 rows × 2 columns</p>\n",
       "</div>"
      ],
      "text/plain": [
       "             loyalty_time  mean_nstock\n",
       "customer_id                           \n",
       "u12346                  0          NaN\n",
       "u12347                365    26.000000\n",
       "u12348                282     6.750000\n",
       "u12349                  0    72.000000\n",
       "u1235                   0    16.000000\n",
       "...                   ...          ...\n",
       "u1828                   0    10.000000\n",
       "u18281                  0     7.000000\n",
       "u18282                114     6.000000\n",
       "u18283                333    44.937500\n",
       "u18287                158    23.333333\n",
       "\n",
       "[4362 rows x 2 columns]"
      ]
     },
     "execution_count": 56,
     "metadata": {},
     "output_type": "execute_result"
    }
   ],
   "source": [
    "cust_data"
   ]
  },
  {
   "cell_type": "markdown",
   "id": "02cc0f11-32db-46b6-aa41-e119195a7cba",
   "metadata": {},
   "source": [
    "### Now explore the amount of items purchased by customer by invoice. This will represent the quantity of the previous stocks per invoice per client"
   ]
  },
  {
   "cell_type": "code",
   "execution_count": 57,
   "id": "5b906a4c-f41d-424c-b003-1e7770ffd42e",
   "metadata": {},
   "outputs": [],
   "source": [
    "# Amount of items order per invoice by customer\n",
    "nitem_inv_cust = online_trans.groupby([\"customer_id\", \"invoice\"])['quantity'].sum()"
   ]
  },
  {
   "cell_type": "code",
   "execution_count": 58,
   "id": "ece2b612-a614-4fae-b513-d258637238d3",
   "metadata": {},
   "outputs": [
    {
     "name": "stdout",
     "output_type": "stream",
     "text": [
      "The average items per customer per invoice is 225\n"
     ]
    }
   ],
   "source": [
    "# Average amount of items order by customer\n",
    "mean_nitem_cust = nitem_inv_cust.groupby(level=0).mean()\n",
    "print(f\"The average items per customer per invoice is {round(mean_nitem_cust.mean())}\")"
   ]
  },
  {
   "cell_type": "code",
   "execution_count": 59,
   "id": "22df046f-5d3e-461d-87a5-e839dec050de",
   "metadata": {},
   "outputs": [],
   "source": [
    "# Let's add the average amount of items per invoice per customer on my customer dataset\n",
    "cust_data['mean_nitem'] = mean_nitem_cust"
   ]
  },
  {
   "cell_type": "code",
   "execution_count": 60,
   "id": "c1fe51b6-db08-4b0f-ac01-717c8f49d7b4",
   "metadata": {},
   "outputs": [],
   "source": [
    "# Frequency is the total transactions that they purchased"
   ]
  },
  {
   "cell_type": "markdown",
   "id": "f8a5c0a1-b9cb-448a-a3f0-9297bb125515",
   "metadata": {},
   "source": [
    "<div class=\"alert alert-block alert-info\">\n",
    "<b>TO DO!:</b> For the top 5 customers/products check the purchases on time.\n",
    "</div>"
   ]
  },
  {
   "cell_type": "code",
   "execution_count": 61,
   "id": "50cddc93-5ded-429d-8e01-53e74edff569",
   "metadata": {},
   "outputs": [],
   "source": [
    "# Let's check what was the avergage total order value (tov) per client\n",
    "tov_inv_cust = online_trans.groupby([\"customer_id\", \"invoice\"])['total_order_value'].sum()"
   ]
  },
  {
   "cell_type": "code",
   "execution_count": 62,
   "id": "5b12f8b6-0a33-45ef-86d9-1ffc09f2fcce",
   "metadata": {},
   "outputs": [
    {
     "name": "stdout",
     "output_type": "stream",
     "text": [
      "The average total order value per customer per invoice is 371 pounds\n"
     ]
    }
   ],
   "source": [
    "mean_tov_cust = tov_inv_cust.groupby(level=0).mean()\n",
    "print(f\"The average total order value per customer per invoice is {round(mean_tov_cust.mean())} pounds\")"
   ]
  },
  {
   "cell_type": "code",
   "execution_count": 63,
   "id": "dc52e735",
   "metadata": {},
   "outputs": [],
   "source": [
    "# Let's add the average total order value per invoice per customer on my customer dataset. \n",
    "# For the RFM anylsis this represents the monetary value\n",
    "cust_data['mon_value'] = mean_tov_cust"
   ]
  },
  {
   "cell_type": "code",
   "execution_count": 64,
   "id": "7b24c22a-87d5-4fa5-aeff-e9064fc660c3",
   "metadata": {},
   "outputs": [],
   "source": [
    "# Let's define the frequency as the total number of invoices per customer\n",
    "cust_data['frequency'] = online_trans.groupby([\"customer_id\"]).count()['invoice']"
   ]
  },
  {
   "cell_type": "code",
   "execution_count": 65,
   "id": "73297c5f-00cf-4d15-a887-7b02b574348f",
   "metadata": {},
   "outputs": [],
   "source": [
    "# Let's calculate the recency\n",
    "today_date = datetime.today().date() # Getting today's date\n",
    "cust_data['recency'] = (pd.to_datetime(today_date) - cust_group['invoice_date'].max()).dt.days"
   ]
  },
  {
   "cell_type": "code",
   "execution_count": 66,
   "id": "bcd60d5a-daea-4bf4-89cb-171874896b41",
   "metadata": {},
   "outputs": [],
   "source": [
    "for col in cust_data:\n",
    "    norm = normalize(cust_data[f\"{col}\"])\n",
    "    col_name = col + \"_norm\"\n",
    "    cust_data[f\"{col_name}\"] = norm"
   ]
  },
  {
   "cell_type": "code",
   "execution_count": 68,
   "id": "de215fff-4df8-4a06-93fd-63a94f2976ae",
   "metadata": {},
   "outputs": [
    {
     "data": {
      "text/html": [
       "<div>\n",
       "<style scoped>\n",
       "    .dataframe tbody tr th:only-of-type {\n",
       "        vertical-align: middle;\n",
       "    }\n",
       "\n",
       "    .dataframe tbody tr th {\n",
       "        vertical-align: top;\n",
       "    }\n",
       "\n",
       "    .dataframe thead th {\n",
       "        text-align: right;\n",
       "    }\n",
       "</style>\n",
       "<table border=\"1\" class=\"dataframe\">\n",
       "  <thead>\n",
       "    <tr style=\"text-align: right;\">\n",
       "      <th></th>\n",
       "      <th>loyalty_time</th>\n",
       "      <th>mean_nstock</th>\n",
       "      <th>mean_nitem</th>\n",
       "      <th>mon_value</th>\n",
       "      <th>frequency</th>\n",
       "      <th>recency</th>\n",
       "      <th>loyalty_time_norm</th>\n",
       "      <th>mean_nstock_norm</th>\n",
       "      <th>mean_nitem_norm</th>\n",
       "      <th>mon_value_norm</th>\n",
       "      <th>frequency_norm</th>\n",
       "      <th>recency_norm</th>\n",
       "    </tr>\n",
       "  </thead>\n",
       "  <tbody>\n",
       "    <tr>\n",
       "      <th>count</th>\n",
       "      <td>4362.000000</td>\n",
       "      <td>4247.000000</td>\n",
       "      <td>4247.000000</td>\n",
       "      <td>4247.000000</td>\n",
       "      <td>4247.000000</td>\n",
       "      <td>4362.000000</td>\n",
       "      <td>4362.000000</td>\n",
       "      <td>4247.000000</td>\n",
       "      <td>4247.000000</td>\n",
       "      <td>4247.000000</td>\n",
       "      <td>4247.000000</td>\n",
       "      <td>4362.000000</td>\n",
       "    </tr>\n",
       "    <tr>\n",
       "      <th>mean</th>\n",
       "      <td>130.497937</td>\n",
       "      <td>21.560731</td>\n",
       "      <td>224.903868</td>\n",
       "      <td>371.234784</td>\n",
       "      <td>85.985401</td>\n",
       "      <td>4540.707703</td>\n",
       "      <td>0.349860</td>\n",
       "      <td>0.068616</td>\n",
       "      <td>0.028621</td>\n",
       "      <td>0.024952</td>\n",
       "      <td>0.011334</td>\n",
       "      <td>0.245865</td>\n",
       "    </tr>\n",
       "    <tr>\n",
       "      <th>std</th>\n",
       "      <td>132.437263</td>\n",
       "      <td>19.285931</td>\n",
       "      <td>305.002619</td>\n",
       "      <td>501.708956</td>\n",
       "      <td>215.913912</td>\n",
       "      <td>100.972922</td>\n",
       "      <td>0.355060</td>\n",
       "      <td>0.064362</td>\n",
       "      <td>0.038988</td>\n",
       "      <td>0.033799</td>\n",
       "      <td>0.028796</td>\n",
       "      <td>0.270705</td>\n",
       "    </tr>\n",
       "    <tr>\n",
       "      <th>min</th>\n",
       "      <td>0.000000</td>\n",
       "      <td>1.000000</td>\n",
       "      <td>1.000000</td>\n",
       "      <td>0.850000</td>\n",
       "      <td>1.000000</td>\n",
       "      <td>4449.000000</td>\n",
       "      <td>0.000000</td>\n",
       "      <td>0.000000</td>\n",
       "      <td>0.000000</td>\n",
       "      <td>0.000000</td>\n",
       "      <td>0.000000</td>\n",
       "      <td>0.000000</td>\n",
       "    </tr>\n",
       "    <tr>\n",
       "      <th>25%</th>\n",
       "      <td>0.000000</td>\n",
       "      <td>9.041667</td>\n",
       "      <td>90.583333</td>\n",
       "      <td>174.022000</td>\n",
       "      <td>16.000000</td>\n",
       "      <td>4465.000000</td>\n",
       "      <td>0.000000</td>\n",
       "      <td>0.026837</td>\n",
       "      <td>0.011451</td>\n",
       "      <td>0.011666</td>\n",
       "      <td>0.002001</td>\n",
       "      <td>0.042895</td>\n",
       "    </tr>\n",
       "    <tr>\n",
       "      <th>50%</th>\n",
       "      <td>91.000000</td>\n",
       "      <td>16.500000</td>\n",
       "      <td>158.235294</td>\n",
       "      <td>283.120000</td>\n",
       "      <td>39.000000</td>\n",
       "      <td>4499.000000</td>\n",
       "      <td>0.243968</td>\n",
       "      <td>0.051728</td>\n",
       "      <td>0.020099</td>\n",
       "      <td>0.019016</td>\n",
       "      <td>0.005068</td>\n",
       "      <td>0.134048</td>\n",
       "    </tr>\n",
       "    <tr>\n",
       "      <th>75%</th>\n",
       "      <td>252.000000</td>\n",
       "      <td>28.000000</td>\n",
       "      <td>265.483333</td>\n",
       "      <td>419.060500</td>\n",
       "      <td>94.000000</td>\n",
       "      <td>4592.000000</td>\n",
       "      <td>0.675603</td>\n",
       "      <td>0.090106</td>\n",
       "      <td>0.033808</td>\n",
       "      <td>0.028174</td>\n",
       "      <td>0.012403</td>\n",
       "      <td>0.383378</td>\n",
       "    </tr>\n",
       "    <tr>\n",
       "      <th>max</th>\n",
       "      <td>373.000000</td>\n",
       "      <td>300.647059</td>\n",
       "      <td>7824.000000</td>\n",
       "      <td>14844.766667</td>\n",
       "      <td>7499.000000</td>\n",
       "      <td>4822.000000</td>\n",
       "      <td>1.000000</td>\n",
       "      <td>1.000000</td>\n",
       "      <td>1.000000</td>\n",
       "      <td>1.000000</td>\n",
       "      <td>1.000000</td>\n",
       "      <td>1.000000</td>\n",
       "    </tr>\n",
       "  </tbody>\n",
       "</table>\n",
       "</div>"
      ],
      "text/plain": [
       "       loyalty_time  mean_nstock   mean_nitem     mon_value    frequency  \\\n",
       "count   4362.000000  4247.000000  4247.000000   4247.000000  4247.000000   \n",
       "mean     130.497937    21.560731   224.903868    371.234784    85.985401   \n",
       "std      132.437263    19.285931   305.002619    501.708956   215.913912   \n",
       "min        0.000000     1.000000     1.000000      0.850000     1.000000   \n",
       "25%        0.000000     9.041667    90.583333    174.022000    16.000000   \n",
       "50%       91.000000    16.500000   158.235294    283.120000    39.000000   \n",
       "75%      252.000000    28.000000   265.483333    419.060500    94.000000   \n",
       "max      373.000000   300.647059  7824.000000  14844.766667  7499.000000   \n",
       "\n",
       "           recency  loyalty_time_norm  mean_nstock_norm  mean_nitem_norm  \\\n",
       "count  4362.000000        4362.000000       4247.000000      4247.000000   \n",
       "mean   4540.707703           0.349860          0.068616         0.028621   \n",
       "std     100.972922           0.355060          0.064362         0.038988   \n",
       "min    4449.000000           0.000000          0.000000         0.000000   \n",
       "25%    4465.000000           0.000000          0.026837         0.011451   \n",
       "50%    4499.000000           0.243968          0.051728         0.020099   \n",
       "75%    4592.000000           0.675603          0.090106         0.033808   \n",
       "max    4822.000000           1.000000          1.000000         1.000000   \n",
       "\n",
       "       mon_value_norm  frequency_norm  recency_norm  \n",
       "count     4247.000000     4247.000000   4362.000000  \n",
       "mean         0.024952        0.011334      0.245865  \n",
       "std          0.033799        0.028796      0.270705  \n",
       "min          0.000000        0.000000      0.000000  \n",
       "25%          0.011666        0.002001      0.042895  \n",
       "50%          0.019016        0.005068      0.134048  \n",
       "75%          0.028174        0.012403      0.383378  \n",
       "max          1.000000        1.000000      1.000000  "
      ]
     },
     "execution_count": 68,
     "metadata": {},
     "output_type": "execute_result"
    }
   ],
   "source": [
    "cust_data.describe()"
   ]
  }
 ],
 "metadata": {
  "kernelspec": {
   "display_name": "Python 3 (ipykernel)",
   "language": "python",
   "name": "python3"
  },
  "language_info": {
   "codemirror_mode": {
    "name": "ipython",
    "version": 3
   },
   "file_extension": ".py",
   "mimetype": "text/x-python",
   "name": "python",
   "nbconvert_exporter": "python",
   "pygments_lexer": "ipython3",
   "version": "3.11.3"
  }
 },
 "nbformat": 4,
 "nbformat_minor": 5
}
