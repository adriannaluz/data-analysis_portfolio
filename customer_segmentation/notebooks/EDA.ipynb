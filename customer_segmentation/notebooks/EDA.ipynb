{
 "cells": [
  {
   "cell_type": "code",
   "execution_count": 1,
   "id": "2abc1715-f02c-4cf8-ab58-8ec04db15fa4",
   "metadata": {},
   "outputs": [],
   "source": [
    "import os\n",
    "import sys\n",
    "import boto3\n",
    "import warnings\n",
    "import numpy as np\n",
    "import pandas as pd\n",
    "import seaborn as sns\n",
    "import matplotlib.pyplot as plt\n",
    "\n",
    "from pathlib import Path\n",
    "from dotenv import load_dotenv\n",
    "from sklearn.cluster import KMeans\n",
    "\n",
    "# defining functions module path\n",
    "module_path = str(Path.cwd().parents[0] / \"src\")\n",
    "if module_path not in sys.path:\n",
    "    sys.path.append(module_path)\n",
    "\n",
    "from functions import connect_to_redshift"
   ]
  },
  {
   "cell_type": "code",
   "execution_count": 2,
   "id": "904f6f50-2588-48d4-aaf5-d7626be1c427",
   "metadata": {},
   "outputs": [],
   "source": [
    "# removing warning messages\n",
    "warnings.filterwarnings(\"ignore\")"
   ]
  },
  {
   "cell_type": "code",
   "execution_count": 3,
   "id": "12d19a54-f7aa-4027-8dd0-825346f28f1b",
   "metadata": {},
   "outputs": [
    {
     "data": {
      "text/plain": [
       "True"
      ]
     },
     "execution_count": 3,
     "metadata": {},
     "output_type": "execute_result"
    }
   ],
   "source": [
    "# Loading my .env file\n",
    "load_dotenv()"
   ]
  },
  {
   "cell_type": "code",
   "execution_count": 4,
   "id": "50100d4c-27d9-4051-aa45-46ffae26ec1e",
   "metadata": {},
   "outputs": [],
   "source": [
    "# defining redshift credentials\n",
    "dbname = os.getenv(\"dbname\")\n",
    "host = os.getenv(\"host\")\n",
    "port = os.getenv(\"port\")\n",
    "user = os.getenv(\"user\")\n",
    "password = os.getenv(\"password\")"
   ]
  },
  {
   "cell_type": "code",
   "execution_count": 5,
   "id": "33eda76f-9d7e-442c-b8f2-a2d3d20ef4f6",
   "metadata": {},
   "outputs": [
    {
     "name": "stdout",
     "output_type": "stream",
     "text": [
      "connection to redshift made\n"
     ]
    }
   ],
   "source": [
    "# establishing redshift connection\n",
    "rs_connection = connect_to_redshift(dbname, host, port, user, password)"
   ]
  },
  {
   "cell_type": "code",
   "execution_count": 6,
   "id": "5c5b0c98-f759-4662-ac34-2144558d4f46",
   "metadata": {},
   "outputs": [],
   "source": [
    "query = \"\"\"select *\n",
    "           from bootcamp.online_transactions_cleaned\n",
    "        \"\"\""
   ]
  },
  {
   "cell_type": "code",
   "execution_count": 7,
   "id": "7cdd0091-a619-4fce-be01-0edf42a35be0",
   "metadata": {},
   "outputs": [],
   "source": [
    "ot = pd.read_sql(query, rs_connection)"
   ]
  },
  {
   "cell_type": "code",
   "execution_count": 8,
   "id": "773df69d-1152-4016-94b4-81729bc61b6e",
   "metadata": {},
   "outputs": [
    {
     "name": "stdout",
     "output_type": "stream",
     "text": [
      "There are 0 duplicated rows in the dataset\n"
     ]
    }
   ],
   "source": [
    "print(f\"There are {ot.duplicated().sum()} duplicated rows in the dataset\")"
   ]
  },
  {
   "cell_type": "code",
   "execution_count": 9,
   "id": "e49dc6d6-cb76-4cc6-8ecf-3bd3fc60f819",
   "metadata": {},
   "outputs": [
    {
     "name": "stdout",
     "output_type": "stream",
     "text": [
      "<class 'pandas.core.frame.DataFrame'>\n",
      "RangeIndex: 399841 entries, 0 to 399840\n",
      "Data columns (total 9 columns):\n",
      " #   Column             Non-Null Count   Dtype         \n",
      "---  ------             --------------   -----         \n",
      " 0   invoice            399841 non-null  object        \n",
      " 1   stock_code         399841 non-null  object        \n",
      " 2   description        399841 non-null  object        \n",
      " 3   price              399841 non-null  float64       \n",
      " 4   quantity           399841 non-null  int64         \n",
      " 5   total_order_value  399841 non-null  float64       \n",
      " 6   invoice_date       399841 non-null  datetime64[ns]\n",
      " 7   customer_id        399841 non-null  object        \n",
      " 8   country            399841 non-null  object        \n",
      "dtypes: datetime64[ns](1), float64(2), int64(1), object(5)\n",
      "memory usage: 27.5+ MB\n",
      "None\n"
     ]
    }
   ],
   "source": [
    "print(ot.info())"
   ]
  },
  {
   "cell_type": "code",
   "execution_count": 10,
   "id": "a02dad01-5d9f-4003-b57a-a21b26a732cd",
   "metadata": {},
   "outputs": [
    {
     "data": {
      "text/html": [
       "<div>\n",
       "<style scoped>\n",
       "    .dataframe tbody tr th:only-of-type {\n",
       "        vertical-align: middle;\n",
       "    }\n",
       "\n",
       "    .dataframe tbody tr th {\n",
       "        vertical-align: top;\n",
       "    }\n",
       "\n",
       "    .dataframe thead th {\n",
       "        text-align: right;\n",
       "    }\n",
       "</style>\n",
       "<table border=\"1\" class=\"dataframe\">\n",
       "  <thead>\n",
       "    <tr style=\"text-align: right;\">\n",
       "      <th></th>\n",
       "      <th>price</th>\n",
       "      <th>quantity</th>\n",
       "      <th>total_order_value</th>\n",
       "    </tr>\n",
       "  </thead>\n",
       "  <tbody>\n",
       "    <tr>\n",
       "      <th>count</th>\n",
       "      <td>399841.000000</td>\n",
       "      <td>399841.000000</td>\n",
       "      <td>399841.000000</td>\n",
       "    </tr>\n",
       "    <tr>\n",
       "      <th>mean</th>\n",
       "      <td>2.952914</td>\n",
       "      <td>12.224359</td>\n",
       "      <td>20.716904</td>\n",
       "    </tr>\n",
       "    <tr>\n",
       "      <th>std</th>\n",
       "      <td>7.317593</td>\n",
       "      <td>250.788860</td>\n",
       "      <td>425.471765</td>\n",
       "    </tr>\n",
       "    <tr>\n",
       "      <th>min</th>\n",
       "      <td>0.000000</td>\n",
       "      <td>-80995.000000</td>\n",
       "      <td>-168469.600000</td>\n",
       "    </tr>\n",
       "    <tr>\n",
       "      <th>25%</th>\n",
       "      <td>1.250000</td>\n",
       "      <td>2.000000</td>\n",
       "      <td>4.250000</td>\n",
       "    </tr>\n",
       "    <tr>\n",
       "      <th>50%</th>\n",
       "      <td>1.950000</td>\n",
       "      <td>5.000000</td>\n",
       "      <td>11.580000</td>\n",
       "    </tr>\n",
       "    <tr>\n",
       "      <th>75%</th>\n",
       "      <td>3.750000</td>\n",
       "      <td>12.000000</td>\n",
       "      <td>19.500000</td>\n",
       "    </tr>\n",
       "    <tr>\n",
       "      <th>max</th>\n",
       "      <td>1599.260000</td>\n",
       "      <td>80995.000000</td>\n",
       "      <td>168469.600000</td>\n",
       "    </tr>\n",
       "  </tbody>\n",
       "</table>\n",
       "</div>"
      ],
      "text/plain": [
       "               price       quantity  total_order_value\n",
       "count  399841.000000  399841.000000      399841.000000\n",
       "mean        2.952914      12.224359          20.716904\n",
       "std         7.317593     250.788860         425.471765\n",
       "min         0.000000  -80995.000000     -168469.600000\n",
       "25%         1.250000       2.000000           4.250000\n",
       "50%         1.950000       5.000000          11.580000\n",
       "75%         3.750000      12.000000          19.500000\n",
       "max      1599.260000   80995.000000      168469.600000"
      ]
     },
     "execution_count": 10,
     "metadata": {},
     "output_type": "execute_result"
    }
   ],
   "source": [
    "ot.describe()"
   ]
  },
  {
   "cell_type": "code",
   "execution_count": 11,
   "id": "672b1089-11ae-4fcb-95d2-fa192b1df3ac",
   "metadata": {},
   "outputs": [
    {
     "data": {
      "text/html": [
       "<div>\n",
       "<style scoped>\n",
       "    .dataframe tbody tr th:only-of-type {\n",
       "        vertical-align: middle;\n",
       "    }\n",
       "\n",
       "    .dataframe tbody tr th {\n",
       "        vertical-align: top;\n",
       "    }\n",
       "\n",
       "    .dataframe thead th {\n",
       "        text-align: right;\n",
       "    }\n",
       "</style>\n",
       "<table border=\"1\" class=\"dataframe\">\n",
       "  <thead>\n",
       "    <tr style=\"text-align: right;\">\n",
       "      <th></th>\n",
       "      <th>invoice</th>\n",
       "      <th>stock_code</th>\n",
       "      <th>description</th>\n",
       "      <th>customer_id</th>\n",
       "      <th>country</th>\n",
       "    </tr>\n",
       "  </thead>\n",
       "  <tbody>\n",
       "    <tr>\n",
       "      <th>count</th>\n",
       "      <td>399841</td>\n",
       "      <td>399841</td>\n",
       "      <td>399841</td>\n",
       "      <td>399841</td>\n",
       "      <td>399841</td>\n",
       "    </tr>\n",
       "    <tr>\n",
       "      <th>unique</th>\n",
       "      <td>21791</td>\n",
       "      <td>3679</td>\n",
       "      <td>3644</td>\n",
       "      <td>4363</td>\n",
       "      <td>37</td>\n",
       "    </tr>\n",
       "    <tr>\n",
       "      <th>top</th>\n",
       "      <td>576339</td>\n",
       "      <td>85123A</td>\n",
       "      <td>CREAM HANGING HEART T-LIGHT HOLDER</td>\n",
       "      <td>u17841</td>\n",
       "      <td>United Kingdom</td>\n",
       "    </tr>\n",
       "    <tr>\n",
       "      <th>freq</th>\n",
       "      <td>542</td>\n",
       "      <td>2065</td>\n",
       "      <td>2065</td>\n",
       "      <td>7800</td>\n",
       "      <td>356158</td>\n",
       "    </tr>\n",
       "  </tbody>\n",
       "</table>\n",
       "</div>"
      ],
      "text/plain": [
       "       invoice stock_code                         description customer_id  \\\n",
       "count   399841     399841                              399841      399841   \n",
       "unique   21791       3679                                3644        4363   \n",
       "top     576339     85123A  CREAM HANGING HEART T-LIGHT HOLDER      u17841   \n",
       "freq       542       2065                                2065        7800   \n",
       "\n",
       "               country  \n",
       "count           399841  \n",
       "unique              37  \n",
       "top     United Kingdom  \n",
       "freq            356158  "
      ]
     },
     "execution_count": 11,
     "metadata": {},
     "output_type": "execute_result"
    }
   ],
   "source": [
    "ot.describe(include=object)"
   ]
  },
  {
   "cell_type": "markdown",
   "id": "7aa63b21-dac7-4afb-8ebb-ba2ab3885ceb",
   "metadata": {},
   "source": [
    "### Let's explore the outliers"
   ]
  },
  {
   "cell_type": "code",
   "execution_count": 12,
   "id": "a2f62371-0399-480a-b5ab-d23912fb95f2",
   "metadata": {},
   "outputs": [
    {
     "data": {
      "text/plain": [
       "<Axes: >"
      ]
     },
     "execution_count": 12,
     "metadata": {},
     "output_type": "execute_result"
    },
    {
     "data": {
      "image/png": "[encoded data removed]",
      "text/plain": [
       "<Figure size 640x480 with 1 Axes>"
      ]
     },
     "metadata": {},
     "output_type": "display_data"
    }
   ],
   "source": [
    "ot['price'].plot.box()"
   ]
  },
  {
   "cell_type": "markdown",
   "id": "8be5792f-35f2-4a82-8e98-70f8d079ef99",
   "metadata": {},
   "source": [
    "### It is clear that there are outliers on the price column. Let's check how many transactions are with price equal to zero"
   ]
  },
  {
   "cell_type": "code",
   "execution_count": 13,
   "id": "df9978c7-5d57-468d-9a4f-260476eaa75e",
   "metadata": {},
   "outputs": [
    {
     "name": "stdout",
     "output_type": "stream",
     "text": [
      "There are 34 transactions with price zero. That represents 0.01 % of the data, therefore they are gonna be removed from the dataset.\n"
     ]
    }
   ],
   "source": [
    "# Number of transactions with price equal to zero\n",
    "n_price_zero = ot[ot['price'] == 0].shape[0]\n",
    "print(f\"There are {n_price_zero} transactions with price zero. That represents {round(n_price_zero * 100 / ot.shape[0], 2)} % of the data, therefore they are gonna be removed from the dataset.\")"
   ]
  },
  {
   "cell_type": "code",
   "execution_count": 14,
   "id": "e8fe0b4f-14aa-4346-97a6-6b5867bcacf8",
   "metadata": {},
   "outputs": [],
   "source": [
    "ot.drop(ot[ot['price'] == 0].index, axis=0, inplace=True)\n",
    "ot.reset_index(inplace=True, drop=True)"
   ]
  },
  {
   "cell_type": "code",
   "execution_count": 15,
   "id": "10a53e20-1a8d-4f54-9d6a-fae4264e38b1",
   "metadata": {},
   "outputs": [],
   "source": [
    "# Let's start by exploring the outliers in the price column\n",
    "_, mean_price, std_price, min_price, Q1_price, Q2_price, Q3_price, max_price = ot.price.describe()\n",
    "IQR_price = Q3_price - Q1_price\n",
    "low_lim_price = Q1_price - 1.5 * IQR_price\n",
    "up_lim_price = Q3_price + 1.5 * IQR_price"
   ]
  },
  {
   "cell_type": "code",
   "execution_count": 16,
   "id": "bfbcad21-0127-4e4b-a82d-2d990a0cac1f",
   "metadata": {},
   "outputs": [
    {
     "data": {
      "text/plain": [
       "Text(0.5, 23.52222222222222, 'Price (pounds)')"
      ]
     },
     "execution_count": 16,
     "metadata": {},
     "output_type": "execute_result"
    },
    {
     "data": {
      "image/png": "[encoded data removed]",
      "text/plain": [
       "<Figure size 640x480 with 1 Axes>"
      ]
     },
     "metadata": {},
     "output_type": "display_data"
    }
   ],
   "source": [
    "# Price histogram plotting\n",
    "plt.hist(ot.price[ot['price'] < up_lim_price])\n",
    "plt.axvline(x=Q2_price, color='red', label='median')\n",
    "plt.axvline(x=up_lim_price, color='green', label='outlier upper limit')\n",
    "plt.title(\"Price distribution without outliers\")\n",
    "plt.legend(loc='upper right')\n",
    "plt.tight_layout()\n",
    "plt.xlabel('Price (pounds)')"
   ]
  },
  {
   "cell_type": "code",
   "execution_count": 17,
   "id": "21f04d40-643b-4f7e-8f17-159cc6ca36bd",
   "metadata": {},
   "outputs": [
    {
     "name": "stdout",
     "output_type": "stream",
     "text": [
      "8.75 % of my data are outliers on the price variable\n"
     ]
    }
   ],
   "source": [
    "outlier_perc = round(ot[ot['price'] >= up_lim_price].shape[0] * 100 / ot.shape[0], 2)\n",
    "print(f\"{outlier_perc} % of my data are outliers on the price variable\")"
   ]
  },
  {
   "cell_type": "markdown",
   "id": "90bdf27e-3fd4-4a45-8cc2-07b7131682ab",
   "metadata": {},
   "source": [
    "## To appling the k-means to segment my data I must handle the outliers because they affect the centroids' calculation from the method"
   ]
  },
  {
   "cell_type": "markdown",
   "id": "652b648f-07a0-40f8-a2f5-27dbd9073696",
   "metadata": {},
   "source": [
    "### Let's explore seasonality in the data"
   ]
  },
  {
   "cell_type": "code",
   "execution_count": 18,
   "id": "7e0d28ee-8fb1-4c2b-ad3f-cf1d6e7652d1",
   "metadata": {},
   "outputs": [],
   "source": [
    "# Setting up monthly, yearly, daily data\n",
    "ot['invoice_year'] = ot['invoice_date'].dt.year\n",
    "ot['invoice_month'] = ot['invoice_date'].dt.month\n",
    "ot['invoice_weekday'] = ot['invoice_date'].dt.dayofweek\n",
    "ot['invoice_dayname'] = ot['invoice_date'].dt.day_name()"
   ]
  },
  {
   "cell_type": "code",
   "execution_count": 19,
   "id": "f5c90f3a-d91c-42e8-b3d7-7ef69e731edb",
   "metadata": {},
   "outputs": [],
   "source": [
    "# Defining color palette for plots\n",
    "palette = sns.color_palette(\"tab10\")"
   ]
  },
  {
   "cell_type": "code",
   "execution_count": 20,
   "id": "aa5709a6-3f9f-4cc1-baba-0a2958e7b0c1",
   "metadata": {},
   "outputs": [
    {
     "data": {
      "image/png": "[encoded data removed]",
      "text/plain": [
       "<Figure size 640x480 with 1 Axes>"
      ]
     },
     "metadata": {},
     "output_type": "display_data"
    }
   ],
   "source": [
    "# Distribution of invoices per month\n",
    "sns.histplot(data=ot, x='invoice_month', hue='invoice_year', bins=12, kde=False, palette=palette)\n",
    "plt.title(\"Number of invoices per month\")\n",
    "plt.xlabel(\"Month of the year\")\n",
    "plt.tight_layout()\n",
    "plt.savefig(\"../visualizations/invoice_month.png\")"
   ]
  },
  {
   "cell_type": "markdown",
   "id": "c3a835c1-a959-44a6-ada4-30906d9f3ce4",
   "metadata": {},
   "source": [
    "### The number of invoice has a boost from September on, having a peak on November (presumably because of Black Friday) reachig its lowest point on December 2011."
   ]
  },
  {
   "cell_type": "code",
   "execution_count": 21,
   "id": "c2849715-b297-411f-87f6-5b94f84b4af6",
   "metadata": {},
   "outputs": [],
   "source": [
    "# To plot the days in order\n",
    "day_order = ['Monday', 'Tuesday', 'Wednesday', 'Thursday', 'Friday', 'Saturday', 'Sunday']\n",
    "ot['invoice_dayname'] = pd.Categorical(ot['invoice_date'].dt.day_name(), categories=day_order, ordered=True)"
   ]
  },
  {
   "cell_type": "code",
   "execution_count": 22,
   "id": "b4b3f8b2-55cb-4665-aa75-fb787de8b74e",
   "metadata": {},
   "outputs": [
    {
     "data": {
      "image/png": "[encoded data removed]",
      "text/plain": [
       "<Figure size 640x480 with 1 Axes>"
      ]
     },
     "metadata": {},
     "output_type": "display_data"
    }
   ],
   "source": [
    "# Distributions of invoices per day of the week\n",
    "sns.histplot(data=ot, x='invoice_dayname', multiple='stack', bins=12, kde=False)\n",
    "plt.title(\"Number of invoices per day of the week\")\n",
    "plt.xlabel(\"Day of the week\")\n",
    "plt.xticks(rotation=45)\n",
    "plt.tight_layout()\n",
    "plt.savefig(\"../visualizations/invoice_weekday.png\")"
   ]
  },
  {
   "cell_type": "code",
   "execution_count": 23,
   "id": "128eb724-733c-4e1a-a255-7a191bb67fd1",
   "metadata": {},
   "outputs": [
    {
     "data": {
      "text/plain": [
       "['Wednesday', 'Thursday', 'Friday', 'Sunday', 'Monday', 'Tuesday']\n",
       "Categories (7, object): ['Monday' < 'Tuesday' < 'Wednesday' < 'Thursday' < 'Friday' < 'Saturday' < 'Sunday']"
      ]
     },
     "execution_count": 23,
     "metadata": {},
     "output_type": "execute_result"
    }
   ],
   "source": [
    "ot['invoice_dayname'].unique()"
   ]
  },
  {
   "cell_type": "markdown",
   "id": "b89fb86c-d47c-49ed-9664-d11fc8370f23",
   "metadata": {},
   "source": [
    "### The number of invoice has a peak on Thursdays. It is interesting that there is no data available for Saturdays"
   ]
  },
  {
   "cell_type": "markdown",
   "id": "ffb9649f-82d0-4812-8048-a491ea65ecf5",
   "metadata": {},
   "source": [
    "## Let's explore some KPIs"
   ]
  },
  {
   "cell_type": "code",
   "execution_count": 24,
   "id": "160f45e6-f44f-467a-ae9d-8cae837c93be",
   "metadata": {},
   "outputs": [
    {
     "name": "stdout",
     "output_type": "stream",
     "text": [
      "On average, there are 18 stock codes per invoice\n"
     ]
    }
   ],
   "source": [
    "# Line Items (Number of products per invoice)\n",
    "line_items = ot.groupby(\"invoice\")['stock_code'].count()\n",
    "print(f\"On average, there are {round(line_items.mean())} stock codes per invoice\")"
   ]
  },
  {
   "cell_type": "code",
   "execution_count": 25,
   "id": "7f62472e-f373-4835-b451-d4af68a8e676",
   "metadata": {},
   "outputs": [
    {
     "name": "stdout",
     "output_type": "stream",
     "text": [
      "The average purchase per invoice is 380.18 pounds\n"
     ]
    }
   ],
   "source": [
    "# Average order value per invoice\n",
    "avg_order = ot.groupby(\"invoice\").sum()['total_order_value']\n",
    "print(f\"The average purchase per invoice is {round(avg_order.mean(), 2)} pounds\")"
   ]
  },
  {
   "cell_type": "code",
   "execution_count": 26,
   "id": "6b36b5fc-8414-4716-b192-311dcbfcdf09",
   "metadata": {},
   "outputs": [
    {
     "name": "stdout",
     "output_type": "stream",
     "text": [
      "In average the customer spent 1899.01 pounds from December 2010 to December 2011\n"
     ]
    }
   ],
   "source": [
    "# Average order value per customer\n",
    "cust_spent = ot.groupby(\"customer_id\").sum()['total_order_value']\n",
    "print(f\"In average the customer spent {round(cust_spent.mean(),2)} pounds from December 2010 to December 2011\")"
   ]
  },
  {
   "cell_type": "code",
   "execution_count": 27,
   "id": "ed0b6097-a599-4a35-865a-d9aac09c58a5",
   "metadata": {},
   "outputs": [
    {
     "name": "stdout",
     "output_type": "stream",
     "text": [
      "There are 901 customers (out of 4362) who spent more than the average customers\n"
     ]
    }
   ],
   "source": [
    "# Number of customers who spent more than the average\n",
    "cust_above_avg = (cust_spent > cust_spent.mean()).sum() \n",
    "print(f\"There are {cust_above_avg} customers (out of {ot['customer_id'].nunique()}) who spent more than the average customers\")"
   ]
  },
  {
   "cell_type": "code",
   "execution_count": 28,
   "id": "ed000403-7d3c-463f-8e4d-982faa7539b8",
   "metadata": {},
   "outputs": [
    {
     "name": "stdout",
     "output_type": "stream",
     "text": [
      "The customers made on average 92 purchases\n"
     ]
    }
   ],
   "source": [
    "# Average invoices per customer\n",
    "inv_cust = ot.groupby('customer_id').count()['invoice']\n",
    "print(f\"The customers made on average {round(inv_cust.mean())} purchases\")"
   ]
  },
  {
   "cell_type": "code",
   "execution_count": 29,
   "id": "e468c005-ceb7-4199-8aa2-3ac1608dd8ca",
   "metadata": {},
   "outputs": [
    {
     "name": "stdout",
     "output_type": "stream",
     "text": [
      "There are 1192 customers who made more purchases than the average\n"
     ]
    }
   ],
   "source": [
    "# How many customers are above the average invoice per customer?\n",
    "print(f\"There are {(inv_cust > inv_cust.mean()).sum()} customers who made more purchases than the average\")"
   ]
  },
  {
   "cell_type": "code",
   "execution_count": 30,
   "id": "0d82be3b-e3b7-4f1f-8403-bdecb0d4c754",
   "metadata": {},
   "outputs": [
    {
     "data": {
      "text/html": [
       "<div>\n",
       "<style scoped>\n",
       "    .dataframe tbody tr th:only-of-type {\n",
       "        vertical-align: middle;\n",
       "    }\n",
       "\n",
       "    .dataframe tbody tr th {\n",
       "        vertical-align: top;\n",
       "    }\n",
       "\n",
       "    .dataframe thead th {\n",
       "        text-align: right;\n",
       "    }\n",
       "</style>\n",
       "<table border=\"1\" class=\"dataframe\">\n",
       "  <thead>\n",
       "    <tr style=\"text-align: right;\">\n",
       "      <th></th>\n",
       "      <th>invoice</th>\n",
       "      <th>stock_code</th>\n",
       "    </tr>\n",
       "    <tr>\n",
       "      <th>customer_id</th>\n",
       "      <th></th>\n",
       "      <th></th>\n",
       "    </tr>\n",
       "  </thead>\n",
       "  <tbody>\n",
       "    <tr>\n",
       "      <th>u14096</th>\n",
       "      <td>1894</td>\n",
       "      <td>836</td>\n",
       "    </tr>\n",
       "    <tr>\n",
       "      <th>u12748</th>\n",
       "      <td>1598</td>\n",
       "      <td>885</td>\n",
       "    </tr>\n",
       "    <tr>\n",
       "      <th>u17841</th>\n",
       "      <td>1369</td>\n",
       "      <td>579</td>\n",
       "    </tr>\n",
       "    <tr>\n",
       "      <th>u14911</th>\n",
       "      <td>937</td>\n",
       "      <td>568</td>\n",
       "    </tr>\n",
       "    <tr>\n",
       "      <th>u16549</th>\n",
       "      <td>502</td>\n",
       "      <td>303</td>\n",
       "    </tr>\n",
       "    <tr>\n",
       "      <th>...</th>\n",
       "      <td>...</td>\n",
       "      <td>...</td>\n",
       "    </tr>\n",
       "    <tr>\n",
       "      <th>u14235</th>\n",
       "      <td>1</td>\n",
       "      <td>1</td>\n",
       "    </tr>\n",
       "    <tr>\n",
       "      <th>u1808</th>\n",
       "      <td>1</td>\n",
       "      <td>1</td>\n",
       "    </tr>\n",
       "    <tr>\n",
       "      <th>u14292</th>\n",
       "      <td>1</td>\n",
       "      <td>1</td>\n",
       "    </tr>\n",
       "    <tr>\n",
       "      <th>u12603</th>\n",
       "      <td>1</td>\n",
       "      <td>1</td>\n",
       "    </tr>\n",
       "    <tr>\n",
       "      <th>u17929</th>\n",
       "      <td>1</td>\n",
       "      <td>1</td>\n",
       "    </tr>\n",
       "  </tbody>\n",
       "</table>\n",
       "<p>1705 rows × 2 columns</p>\n",
       "</div>"
      ],
      "text/plain": [
       "             invoice  stock_code\n",
       "customer_id                     \n",
       "u14096          1894         836\n",
       "u12748          1598         885\n",
       "u17841          1369         579\n",
       "u14911           937         568\n",
       "u16549           502         303\n",
       "...              ...         ...\n",
       "u14235             1           1\n",
       "u1808              1           1\n",
       "u14292             1           1\n",
       "u12603             1           1\n",
       "u17929             1           1\n",
       "\n",
       "[1705 rows x 2 columns]"
      ]
     },
     "execution_count": 30,
     "metadata": {},
     "output_type": "execute_result"
    }
   ],
   "source": [
    "# filtering the data by month and year\n",
    "idx_month_year = (ot['invoice_month'] == 11) & (ot['invoice_year'] == 2011) \n",
    "ot[idx_month_year].groupby(\"customer_id\").agg({'invoice': 'count', 'stock_code': 'nunique'}).sort_values(by='invoice', ascending=False)"
   ]
  },
  {
   "cell_type": "markdown",
   "id": "e9f77a53-2c84-488d-bc8f-5dbec28284b7",
   "metadata": {},
   "source": [
    "### For the top 5 customers/products check the purchases on time."
   ]
  },
  {
   "cell_type": "markdown",
   "id": "8e3cd259-79e7-4770-9074-b76b81849e13",
   "metadata": {},
   "source": [
    "### Let's explore the data grouped by customer"
   ]
  },
  {
   "cell_type": "code",
   "execution_count": 31,
   "id": "7dc1fcf6-9764-477e-993a-e5b572f6017f",
   "metadata": {},
   "outputs": [],
   "source": [
    "cust_data = pd.DataFrame()\n",
    "cust_group = ot.groupby('customer_id')"
   ]
  },
  {
   "cell_type": "code",
   "execution_count": 32,
   "id": "d632718d-5dff-450e-ba38-f30131e54132",
   "metadata": {},
   "outputs": [],
   "source": [
    "# Let's define customer loyalty as the difference in time between the 1st and the last purchase\n",
    "delta_date = (ot.groupby('customer_id').first()['invoice_date'] - ot.groupby('customer_id').last()['invoice_date']).abs()\n",
    "cust_data['loyalty_time'] = delta_date.dt.days"
   ]
  },
  {
   "cell_type": "code",
   "execution_count": 33,
   "id": "01009083-3c9f-4e4d-b224-722f03b70507",
   "metadata": {},
   "outputs": [
    {
     "name": "stdout",
     "output_type": "stream",
     "text": [
      "There are 1629 customer with less than 1 day of loyalty. This represent 37% of the total clients\n"
     ]
    }
   ],
   "source": [
    "once_cust = cust_data[cust_data['loyalty_time'] == 0].shape[0]\n",
    "print(f\"There are {once_cust} customer with less than 1 day of loyalty. This represent {round(once_cust *100 / cust_data.shape[0])}% of the total clients\")"
   ]
  },
  {
   "cell_type": "code",
   "execution_count": 34,
   "id": "bc9338af-7711-4d4e-a666-8e7989027496",
   "metadata": {},
   "outputs": [
    {
     "name": "stdout",
     "output_type": "stream",
     "text": [
      "The average loyalty time of the clients is 128 days\n"
     ]
    },
    {
     "data": {
      "text/plain": [
       "(0, 373)"
      ]
     },
     "execution_count": 34,
     "metadata": {},
     "output_type": "execute_result"
    }
   ],
   "source": [
    "print(f\"The average loyalty time of the clients is {round(cust_data['loyalty_time'].mean())} days\")\n",
    "round(cust_data['loyalty_time'].min()), round(cust_data['loyalty_time'].max())"
   ]
  },
  {
   "cell_type": "code",
   "execution_count": 35,
   "id": "56042a89-44d3-4352-ad72-720ca8bdc1fb",
   "metadata": {},
   "outputs": [
    {
     "data": {
      "image/png": "[encoded data removed]",
      "text/plain": [
       "<Figure size 640x480 with 1 Axes>"
      ]
     },
     "metadata": {},
     "output_type": "display_data"
    }
   ],
   "source": [
    "plt.hist(cust_data['loyalty_time'])\n",
    "plt.title(\"Loyalty days distribution\")\n",
    "plt.xlabel(\"Days of loyalty\")\n",
    "plt.ylabel(\"Number of clients\")\n",
    "plt.tight_layout()\n",
    "plt.savefig(\"../visualizations/loyalty_distribution_cust_onlyonce.png\")"
   ]
  },
  {
   "cell_type": "markdown",
   "id": "d9a9eb03-9ff1-4c53-a847-bdc0850215c0",
   "metadata": {},
   "source": [
    "### Excluding the once in a life time clients the distribution of loyalty days is shown below"
   ]
  },
  {
   "cell_type": "code",
   "execution_count": 36,
   "id": "733f36b0-0b5d-4233-bd6f-e20d984b8408",
   "metadata": {},
   "outputs": [
    {
     "data": {
      "image/png": "[encoded data removed]",
      "text/plain": [
       "<Figure size 640x480 with 1 Axes>"
      ]
     },
     "metadata": {},
     "output_type": "display_data"
    }
   ],
   "source": [
    "plt.hist(cust_data['loyalty_time'][cust_data.sort_values(by='loyalty_time', ascending=False)['loyalty_time']>0])\n",
    "plt.title(\"Loyalty days distribution\")\n",
    "plt.xlabel(\"Days of loyalty\")\n",
    "plt.ylabel(\"Number of clients\")\n",
    "plt.tight_layout()\n",
    "plt.savefig(\"../visualizations/loyalty_distribution.png\")"
   ]
  },
  {
   "cell_type": "code",
   "execution_count": 84,
   "id": "7963d7fb-8bad-4e77-9698-84b4bbbf5124",
   "metadata": {},
   "outputs": [
    {
     "data": {
      "text/plain": [
       "42"
      ]
     },
     "execution_count": 84,
     "metadata": {},
     "output_type": "execute_result"
    }
   ],
   "source": [
    "return_dict = {'total_order_value': 'sum', 'invoice_year': 'unique'}\n",
    "custid_return = cust_group.sum()[cust_group['quantity'].sum()<=0]\n",
    "custid_return.shape[0]"
   ]
  },
  {
   "cell_type": "markdown",
   "id": "9ed43f74-6349-4c54-9f65-39044c10ba60",
   "metadata": {},
   "source": [
    "### There 42 customers with quantity less than or equal to  0. That can be either because the returns were processed on the data's time-window but the transactions were done before, or because the transaction and the return were processed on the data's time-window. In the next cell, the table showcase every invoice for every customer with at least one return"
   ]
  },
  {
   "cell_type": "code",
   "execution_count": 125,
   "id": "75c9b2d2-e251-4566-ba1a-0b24a6578b44",
   "metadata": {},
   "outputs": [
    {
     "data": {
      "text/html": [
       "<div>\n",
       "<style scoped>\n",
       "    .dataframe tbody tr th:only-of-type {\n",
       "        vertical-align: middle;\n",
       "    }\n",
       "\n",
       "    .dataframe tbody tr th {\n",
       "        vertical-align: top;\n",
       "    }\n",
       "\n",
       "    .dataframe thead th {\n",
       "        text-align: right;\n",
       "    }\n",
       "</style>\n",
       "<table border=\"1\" class=\"dataframe\">\n",
       "  <thead>\n",
       "    <tr style=\"text-align: right;\">\n",
       "      <th></th>\n",
       "      <th></th>\n",
       "      <th>price</th>\n",
       "      <th>quantity</th>\n",
       "      <th>total_order_value</th>\n",
       "      <th>invoice_year</th>\n",
       "      <th>invoice_month</th>\n",
       "      <th>invoice_weekday</th>\n",
       "    </tr>\n",
       "    <tr>\n",
       "      <th>customer_id</th>\n",
       "      <th>invoice</th>\n",
       "      <th></th>\n",
       "      <th></th>\n",
       "      <th></th>\n",
       "      <th></th>\n",
       "      <th></th>\n",
       "      <th></th>\n",
       "    </tr>\n",
       "  </thead>\n",
       "  <tbody>\n",
       "    <tr>\n",
       "      <th rowspan=\"2\" valign=\"top\">u12346</th>\n",
       "      <th>541431</th>\n",
       "      <td>1.04</td>\n",
       "      <td>74215</td>\n",
       "      <td>77183.60</td>\n",
       "      <td>2011</td>\n",
       "      <td>1</td>\n",
       "      <td>1</td>\n",
       "    </tr>\n",
       "    <tr>\n",
       "      <th>C541433</th>\n",
       "      <td>1.04</td>\n",
       "      <td>-74215</td>\n",
       "      <td>-77183.60</td>\n",
       "      <td>2011</td>\n",
       "      <td>1</td>\n",
       "      <td>1</td>\n",
       "    </tr>\n",
       "    <tr>\n",
       "      <th rowspan=\"3\" valign=\"top\">u12347</th>\n",
       "      <th>537626</th>\n",
       "      <td>89.59</td>\n",
       "      <td>319</td>\n",
       "      <td>711.79</td>\n",
       "      <td>62310</td>\n",
       "      <td>372</td>\n",
       "      <td>31</td>\n",
       "    </tr>\n",
       "    <tr>\n",
       "      <th>542237</th>\n",
       "      <td>73.17</td>\n",
       "      <td>315</td>\n",
       "      <td>475.39</td>\n",
       "      <td>58319</td>\n",
       "      <td>29</td>\n",
       "      <td>58</td>\n",
       "    </tr>\n",
       "    <tr>\n",
       "      <th>549222</th>\n",
       "      <td>62.29</td>\n",
       "      <td>483</td>\n",
       "      <td>636.25</td>\n",
       "      <td>48264</td>\n",
       "      <td>96</td>\n",
       "      <td>72</td>\n",
       "    </tr>\n",
       "    <tr>\n",
       "      <th>...</th>\n",
       "      <th>...</th>\n",
       "      <td>...</td>\n",
       "      <td>...</td>\n",
       "      <td>...</td>\n",
       "      <td>...</td>\n",
       "      <td>...</td>\n",
       "      <td>...</td>\n",
       "    </tr>\n",
       "    <tr>\n",
       "      <th rowspan=\"2\" valign=\"top\">u18283</th>\n",
       "      <th>579673</th>\n",
       "      <td>81.78</td>\n",
       "      <td>132</td>\n",
       "      <td>220.31</td>\n",
       "      <td>100550</td>\n",
       "      <td>550</td>\n",
       "      <td>100</td>\n",
       "    </tr>\n",
       "    <tr>\n",
       "      <th>580872</th>\n",
       "      <td>65.38</td>\n",
       "      <td>142</td>\n",
       "      <td>208.00</td>\n",
       "      <td>100550</td>\n",
       "      <td>600</td>\n",
       "      <td>50</td>\n",
       "    </tr>\n",
       "    <tr>\n",
       "      <th rowspan=\"3\" valign=\"top\">u18287</th>\n",
       "      <th>554065</th>\n",
       "      <td>56.92</td>\n",
       "      <td>488</td>\n",
       "      <td>765.28</td>\n",
       "      <td>58319</td>\n",
       "      <td>145</td>\n",
       "      <td>174</td>\n",
       "    </tr>\n",
       "    <tr>\n",
       "      <th>570715</th>\n",
       "      <td>45.70</td>\n",
       "      <td>990</td>\n",
       "      <td>1001.32</td>\n",
       "      <td>76418</td>\n",
       "      <td>380</td>\n",
       "      <td>76</td>\n",
       "    </tr>\n",
       "    <tr>\n",
       "      <th>573167</th>\n",
       "      <td>1.93</td>\n",
       "      <td>108</td>\n",
       "      <td>70.68</td>\n",
       "      <td>6033</td>\n",
       "      <td>30</td>\n",
       "      <td>12</td>\n",
       "    </tr>\n",
       "  </tbody>\n",
       "</table>\n",
       "<p>21788 rows × 6 columns</p>\n",
       "</div>"
      ],
      "text/plain": [
       "                     price  quantity  total_order_value  invoice_year  \\\n",
       "customer_id invoice                                                     \n",
       "u12346      541431    1.04     74215           77183.60          2011   \n",
       "            C541433   1.04    -74215          -77183.60          2011   \n",
       "u12347      537626   89.59       319             711.79         62310   \n",
       "            542237   73.17       315             475.39         58319   \n",
       "            549222   62.29       483             636.25         48264   \n",
       "...                    ...       ...                ...           ...   \n",
       "u18283      579673   81.78       132             220.31        100550   \n",
       "            580872   65.38       142             208.00        100550   \n",
       "u18287      554065   56.92       488             765.28         58319   \n",
       "            570715   45.70       990            1001.32         76418   \n",
       "            573167    1.93       108              70.68          6033   \n",
       "\n",
       "                     invoice_month  invoice_weekday  \n",
       "customer_id invoice                                  \n",
       "u12346      541431               1                1  \n",
       "            C541433              1                1  \n",
       "u12347      537626             372               31  \n",
       "            542237              29               58  \n",
       "            549222              96               72  \n",
       "...                            ...              ...  \n",
       "u18283      579673             550              100  \n",
       "            580872             600               50  \n",
       "u18287      554065             145              174  \n",
       "            570715             380               76  \n",
       "            573167              30               12  \n",
       "\n",
       "[21788 rows x 6 columns]"
      ]
     },
     "execution_count": 125,
     "metadata": {},
     "output_type": "execute_result"
    }
   ],
   "source": [
    "grouped = ot.groupby([\"customer_id\", \"invoice\"]).sum()\n",
    "grouped"
   ]
  },
  {
   "cell_type": "code",
   "execution_count": 118,
   "id": "1803375b-6885-41cb-be08-3910c64ae546",
   "metadata": {},
   "outputs": [
    {
     "data": {
      "text/html": [
       "<div>\n",
       "<style scoped>\n",
       "    .dataframe tbody tr th:only-of-type {\n",
       "        vertical-align: middle;\n",
       "    }\n",
       "\n",
       "    .dataframe tbody tr th {\n",
       "        vertical-align: top;\n",
       "    }\n",
       "\n",
       "    .dataframe thead th {\n",
       "        text-align: right;\n",
       "    }\n",
       "</style>\n",
       "<table border=\"1\" class=\"dataframe\">\n",
       "  <thead>\n",
       "    <tr style=\"text-align: right;\">\n",
       "      <th></th>\n",
       "      <th></th>\n",
       "      <th>price</th>\n",
       "      <th>quantity</th>\n",
       "      <th>total_order_value</th>\n",
       "      <th>invoice_year</th>\n",
       "      <th>invoice_month</th>\n",
       "      <th>invoice_weekday</th>\n",
       "    </tr>\n",
       "    <tr>\n",
       "      <th>customer_id</th>\n",
       "      <th>invoice</th>\n",
       "      <th></th>\n",
       "      <th></th>\n",
       "      <th></th>\n",
       "      <th></th>\n",
       "      <th></th>\n",
       "      <th></th>\n",
       "    </tr>\n",
       "  </thead>\n",
       "  <tbody>\n",
       "    <tr>\n",
       "      <th>u12346</th>\n",
       "      <th>C541433</th>\n",
       "      <td>1.04</td>\n",
       "      <td>-74215</td>\n",
       "      <td>-77183.60</td>\n",
       "      <td>2011</td>\n",
       "      <td>1</td>\n",
       "      <td>1</td>\n",
       "    </tr>\n",
       "    <tr>\n",
       "      <th>u12352</th>\n",
       "      <th>C547388</th>\n",
       "      <td>16.69</td>\n",
       "      <td>-63</td>\n",
       "      <td>-120.33</td>\n",
       "      <td>14077</td>\n",
       "      <td>21</td>\n",
       "      <td>7</td>\n",
       "    </tr>\n",
       "    <tr>\n",
       "      <th rowspan=\"2\" valign=\"top\">u12359</th>\n",
       "      <th>C549955</th>\n",
       "      <td>17.90</td>\n",
       "      <td>-4</td>\n",
       "      <td>-35.80</td>\n",
       "      <td>4022</td>\n",
       "      <td>8</td>\n",
       "      <td>4</td>\n",
       "    </tr>\n",
       "    <tr>\n",
       "      <th>C580165</th>\n",
       "      <td>69.35</td>\n",
       "      <td>-6</td>\n",
       "      <td>-91.25</td>\n",
       "      <td>8044</td>\n",
       "      <td>48</td>\n",
       "      <td>16</td>\n",
       "    </tr>\n",
       "    <tr>\n",
       "      <th>u12362</th>\n",
       "      <th>C544902</th>\n",
       "      <td>4.90</td>\n",
       "      <td>-2</td>\n",
       "      <td>-4.90</td>\n",
       "      <td>4022</td>\n",
       "      <td>4</td>\n",
       "      <td>6</td>\n",
       "    </tr>\n",
       "    <tr>\n",
       "      <th>...</th>\n",
       "      <th>...</th>\n",
       "      <td>...</td>\n",
       "      <td>...</td>\n",
       "      <td>...</td>\n",
       "      <td>...</td>\n",
       "      <td>...</td>\n",
       "      <td>...</td>\n",
       "    </tr>\n",
       "    <tr>\n",
       "      <th>u18274</th>\n",
       "      <th>C577832</th>\n",
       "      <td>40.39</td>\n",
       "      <td>-88</td>\n",
       "      <td>-175.92</td>\n",
       "      <td>22121</td>\n",
       "      <td>121</td>\n",
       "      <td>11</td>\n",
       "    </tr>\n",
       "    <tr>\n",
       "      <th rowspan=\"2\" valign=\"top\">u18276</th>\n",
       "      <th>C577386</th>\n",
       "      <td>6.25</td>\n",
       "      <td>-1</td>\n",
       "      <td>-6.25</td>\n",
       "      <td>2011</td>\n",
       "      <td>11</td>\n",
       "      <td>4</td>\n",
       "    </tr>\n",
       "    <tr>\n",
       "      <th>C577390</th>\n",
       "      <td>6.25</td>\n",
       "      <td>-1</td>\n",
       "      <td>-6.25</td>\n",
       "      <td>2011</td>\n",
       "      <td>11</td>\n",
       "      <td>4</td>\n",
       "    </tr>\n",
       "    <tr>\n",
       "      <th>u18277</th>\n",
       "      <th>C542086</th>\n",
       "      <td>12.75</td>\n",
       "      <td>-1</td>\n",
       "      <td>-12.75</td>\n",
       "      <td>2011</td>\n",
       "      <td>1</td>\n",
       "      <td>1</td>\n",
       "    </tr>\n",
       "    <tr>\n",
       "      <th>u18282</th>\n",
       "      <th>C562808</th>\n",
       "      <td>0.29</td>\n",
       "      <td>-5</td>\n",
       "      <td>-1.45</td>\n",
       "      <td>2011</td>\n",
       "      <td>8</td>\n",
       "      <td>1</td>\n",
       "    </tr>\n",
       "  </tbody>\n",
       "</table>\n",
       "<p>3383 rows × 6 columns</p>\n",
       "</div>"
      ],
      "text/plain": [
       "                     price  quantity  total_order_value  invoice_year  \\\n",
       "customer_id invoice                                                     \n",
       "u12346      C541433   1.04    -74215          -77183.60          2011   \n",
       "u12352      C547388  16.69       -63            -120.33         14077   \n",
       "u12359      C549955  17.90        -4             -35.80          4022   \n",
       "            C580165  69.35        -6             -91.25          8044   \n",
       "u12362      C544902   4.90        -2              -4.90          4022   \n",
       "...                    ...       ...                ...           ...   \n",
       "u18274      C577832  40.39       -88            -175.92         22121   \n",
       "u18276      C577386   6.25        -1              -6.25          2011   \n",
       "            C577390   6.25        -1              -6.25          2011   \n",
       "u18277      C542086  12.75        -1             -12.75          2011   \n",
       "u18282      C562808   0.29        -5              -1.45          2011   \n",
       "\n",
       "                     invoice_month  invoice_weekday  \n",
       "customer_id invoice                                  \n",
       "u12346      C541433              1                1  \n",
       "u12352      C547388             21                7  \n",
       "u12359      C549955              8                4  \n",
       "            C580165             48               16  \n",
       "u12362      C544902              4                6  \n",
       "...                            ...              ...  \n",
       "u18274      C577832            121               11  \n",
       "u18276      C577386             11                4  \n",
       "            C577390             11                4  \n",
       "u18277      C542086              1                1  \n",
       "u18282      C562808              8                1  \n",
       "\n",
       "[3383 rows x 6 columns]"
      ]
     },
     "execution_count": 118,
     "metadata": {},
     "output_type": "execute_result"
    }
   ],
   "source": [
    "grouped = ot[ot['quantity'] <= 0].groupby([\"customer_id\", \"invoice\"]).sum()\n",
    "grouped"
   ]
  },
  {
   "cell_type": "markdown",
   "id": "de8f87ae-f81a-4572-814d-48ea9eda9932",
   "metadata": {},
   "source": [
    "# Why there are just 42 customers out of 1534 (from data exploration notebook) that returned at least once? "
   ]
  },
  {
   "cell_type": "code",
   "execution_count": 67,
   "id": "554cd04e-c032-401c-9bb0-d1b168f669db",
   "metadata": {},
   "outputs": [
    {
     "data": {
      "text/html": [
       "<div>\n",
       "<style scoped>\n",
       "    .dataframe tbody tr th:only-of-type {\n",
       "        vertical-align: middle;\n",
       "    }\n",
       "\n",
       "    .dataframe tbody tr th {\n",
       "        vertical-align: top;\n",
       "    }\n",
       "\n",
       "    .dataframe thead th {\n",
       "        text-align: right;\n",
       "    }\n",
       "</style>\n",
       "<table border=\"1\" class=\"dataframe\">\n",
       "  <thead>\n",
       "    <tr style=\"text-align: right;\">\n",
       "      <th></th>\n",
       "      <th></th>\n",
       "      <th>quantity</th>\n",
       "      <th>total_order_value</th>\n",
       "      <th>invoice_year</th>\n",
       "      <th>invoice_month</th>\n",
       "    </tr>\n",
       "    <tr>\n",
       "      <th>customer_id</th>\n",
       "      <th>invoice</th>\n",
       "      <th></th>\n",
       "      <th></th>\n",
       "      <th></th>\n",
       "      <th></th>\n",
       "    </tr>\n",
       "  </thead>\n",
       "  <tbody>\n",
       "    <tr>\n",
       "      <th rowspan=\"2\" valign=\"top\">u12346</th>\n",
       "      <th>541431</th>\n",
       "      <td>74215</td>\n",
       "      <td>77183.60</td>\n",
       "      <td>[2011]</td>\n",
       "      <td>[1]</td>\n",
       "    </tr>\n",
       "    <tr>\n",
       "      <th>C541433</th>\n",
       "      <td>-74215</td>\n",
       "      <td>-77183.60</td>\n",
       "      <td>[2011]</td>\n",
       "      <td>[1]</td>\n",
       "    </tr>\n",
       "    <tr>\n",
       "      <th rowspan=\"2\" valign=\"top\">u12454</th>\n",
       "      <th>571255</th>\n",
       "      <td>1006</td>\n",
       "      <td>3528.34</td>\n",
       "      <td>[2011]</td>\n",
       "      <td>[10]</td>\n",
       "    </tr>\n",
       "    <tr>\n",
       "      <th>C571499</th>\n",
       "      <td>-1006</td>\n",
       "      <td>-3528.34</td>\n",
       "      <td>[2011]</td>\n",
       "      <td>[10]</td>\n",
       "    </tr>\n",
       "    <tr>\n",
       "      <th>u12558</th>\n",
       "      <th>580158</th>\n",
       "      <td>196</td>\n",
       "      <td>269.96</td>\n",
       "      <td>[2011]</td>\n",
       "      <td>[12]</td>\n",
       "    </tr>\n",
       "    <tr>\n",
       "      <th>...</th>\n",
       "      <th>...</th>\n",
       "      <td>...</td>\n",
       "      <td>...</td>\n",
       "      <td>...</td>\n",
       "      <td>...</td>\n",
       "    </tr>\n",
       "    <tr>\n",
       "      <th>u18256</th>\n",
       "      <th>C539486</th>\n",
       "      <td>-70</td>\n",
       "      <td>-50.10</td>\n",
       "      <td>[2010]</td>\n",
       "      <td>[12]</td>\n",
       "    </tr>\n",
       "    <tr>\n",
       "      <th rowspan=\"2\" valign=\"top\">u18268</th>\n",
       "      <th>561680</th>\n",
       "      <td>2</td>\n",
       "      <td>25.50</td>\n",
       "      <td>[2011]</td>\n",
       "      <td>[7]</td>\n",
       "    </tr>\n",
       "    <tr>\n",
       "      <th>C561590</th>\n",
       "      <td>-2</td>\n",
       "      <td>-25.50</td>\n",
       "      <td>[2011]</td>\n",
       "      <td>[7]</td>\n",
       "    </tr>\n",
       "    <tr>\n",
       "      <th rowspan=\"2\" valign=\"top\">u18274</th>\n",
       "      <th>575485</th>\n",
       "      <td>88</td>\n",
       "      <td>175.92</td>\n",
       "      <td>[2011]</td>\n",
       "      <td>[11]</td>\n",
       "    </tr>\n",
       "    <tr>\n",
       "      <th>C577832</th>\n",
       "      <td>-88</td>\n",
       "      <td>-175.92</td>\n",
       "      <td>[2011]</td>\n",
       "      <td>[11]</td>\n",
       "    </tr>\n",
       "  </tbody>\n",
       "</table>\n",
       "<p>64 rows × 4 columns</p>\n",
       "</div>"
      ],
      "text/plain": [
       "                     quantity  total_order_value invoice_year invoice_month\n",
       "customer_id invoice                                                        \n",
       "u12346      541431      74215           77183.60       [2011]           [1]\n",
       "            C541433    -74215          -77183.60       [2011]           [1]\n",
       "u12454      571255       1006            3528.34       [2011]          [10]\n",
       "            C571499     -1006           -3528.34       [2011]          [10]\n",
       "u12558      580158        196             269.96       [2011]          [12]\n",
       "...                       ...                ...          ...           ...\n",
       "u18256      C539486       -70             -50.10       [2010]          [12]\n",
       "u18268      561680          2              25.50       [2011]           [7]\n",
       "            C561590        -2             -25.50       [2011]           [7]\n",
       "u18274      575485         88             175.92       [2011]          [11]\n",
       "            C577832       -88            -175.92       [2011]          [11]\n",
       "\n",
       "[64 rows x 4 columns]"
      ]
     },
     "execution_count": 67,
     "metadata": {},
     "output_type": "execute_result"
    }
   ],
   "source": [
    "return_dict = {'quantity': 'sum', 'total_order_value': 'sum', 'invoice_year': 'unique', 'invoice_month': 'unique'}\n",
    "ot[ot['customer_id'].isin(custid_return.index)].groupby(['customer_id', 'invoice']).agg(return_dict)"
   ]
  },
  {
   "cell_type": "code",
   "execution_count": 70,
   "id": "94c92061-ef1c-4fee-acf8-de42332c49ab",
   "metadata": {},
   "outputs": [
    {
     "data": {
      "text/html": [
       "<div>\n",
       "<style scoped>\n",
       "    .dataframe tbody tr th:only-of-type {\n",
       "        vertical-align: middle;\n",
       "    }\n",
       "\n",
       "    .dataframe tbody tr th {\n",
       "        vertical-align: top;\n",
       "    }\n",
       "\n",
       "    .dataframe thead th {\n",
       "        text-align: right;\n",
       "    }\n",
       "</style>\n",
       "<table border=\"1\" class=\"dataframe\">\n",
       "  <thead>\n",
       "    <tr style=\"text-align: right;\">\n",
       "      <th></th>\n",
       "      <th>invoice</th>\n",
       "      <th>stock_code</th>\n",
       "      <th>description</th>\n",
       "      <th>price</th>\n",
       "      <th>quantity</th>\n",
       "      <th>total_order_value</th>\n",
       "      <th>invoice_date</th>\n",
       "      <th>customer_id</th>\n",
       "      <th>country</th>\n",
       "      <th>invoice_year</th>\n",
       "      <th>invoice_month</th>\n",
       "      <th>invoice_weekday</th>\n",
       "      <th>invoice_dayname</th>\n",
       "    </tr>\n",
       "  </thead>\n",
       "  <tbody>\n",
       "    <tr>\n",
       "      <th>205</th>\n",
       "      <td>C536850</td>\n",
       "      <td>22942</td>\n",
       "      <td>CHRISTMAS LIGHTS 10 SANTAS</td>\n",
       "      <td>7.65</td>\n",
       "      <td>-48</td>\n",
       "      <td>-367.20</td>\n",
       "      <td>2010-12-03 09:47:00</td>\n",
       "      <td>u14213</td>\n",
       "      <td>United Kingdom</td>\n",
       "      <td>2010</td>\n",
       "      <td>12</td>\n",
       "      <td>4</td>\n",
       "      <td>Friday</td>\n",
       "    </tr>\n",
       "    <tr>\n",
       "      <th>269</th>\n",
       "      <td>C536812</td>\n",
       "      <td>22595</td>\n",
       "      <td>CHRISTMAS GINGHAM HEART</td>\n",
       "      <td>0.72</td>\n",
       "      <td>-144</td>\n",
       "      <td>-103.68</td>\n",
       "      <td>2010-12-02 16:58:00</td>\n",
       "      <td>u16546</td>\n",
       "      <td>United Kingdom</td>\n",
       "      <td>2010</td>\n",
       "      <td>12</td>\n",
       "      <td>3</td>\n",
       "      <td>Thursday</td>\n",
       "    </tr>\n",
       "    <tr>\n",
       "      <th>605</th>\n",
       "      <td>C538100</td>\n",
       "      <td>84798A</td>\n",
       "      <td>PINK FOXGLOVE ARTIIFCIAL FLOWER</td>\n",
       "      <td>2.55</td>\n",
       "      <td>-12</td>\n",
       "      <td>-30.60</td>\n",
       "      <td>2010-12-09 15:00:00</td>\n",
       "      <td>u16579</td>\n",
       "      <td>United Kingdom</td>\n",
       "      <td>2010</td>\n",
       "      <td>12</td>\n",
       "      <td>3</td>\n",
       "      <td>Thursday</td>\n",
       "    </tr>\n",
       "    <tr>\n",
       "      <th>779</th>\n",
       "      <td>C537860</td>\n",
       "      <td>22637</td>\n",
       "      <td>PIGGY BANK RETROSPOT</td>\n",
       "      <td>2.55</td>\n",
       "      <td>-6</td>\n",
       "      <td>-15.30</td>\n",
       "      <td>2010-12-08 16:15:00</td>\n",
       "      <td>u16252</td>\n",
       "      <td>United Kingdom</td>\n",
       "      <td>2010</td>\n",
       "      <td>12</td>\n",
       "      <td>2</td>\n",
       "      <td>Wednesday</td>\n",
       "    </tr>\n",
       "    <tr>\n",
       "      <th>1321</th>\n",
       "      <td>C538123</td>\n",
       "      <td>22956</td>\n",
       "      <td>36 FOIL HEART CAKE CASES</td>\n",
       "      <td>2.10</td>\n",
       "      <td>-2</td>\n",
       "      <td>-4.20</td>\n",
       "      <td>2010-12-09 15:41:00</td>\n",
       "      <td>u12605</td>\n",
       "      <td>Germany</td>\n",
       "      <td>2010</td>\n",
       "      <td>12</td>\n",
       "      <td>3</td>\n",
       "      <td>Thursday</td>\n",
       "    </tr>\n",
       "    <tr>\n",
       "      <th>...</th>\n",
       "      <td>...</td>\n",
       "      <td>...</td>\n",
       "      <td>...</td>\n",
       "      <td>...</td>\n",
       "      <td>...</td>\n",
       "      <td>...</td>\n",
       "      <td>...</td>\n",
       "      <td>...</td>\n",
       "      <td>...</td>\n",
       "      <td>...</td>\n",
       "      <td>...</td>\n",
       "      <td>...</td>\n",
       "      <td>...</td>\n",
       "    </tr>\n",
       "    <tr>\n",
       "      <th>390005</th>\n",
       "      <td>575485</td>\n",
       "      <td>84988</td>\n",
       "      <td>SET OF 72 PINK HEART PAPER DOILIES</td>\n",
       "      <td>1.45</td>\n",
       "      <td>12</td>\n",
       "      <td>17.40</td>\n",
       "      <td>2011-11-09 17:03:00</td>\n",
       "      <td>u18274</td>\n",
       "      <td>United Kingdom</td>\n",
       "      <td>2011</td>\n",
       "      <td>11</td>\n",
       "      <td>2</td>\n",
       "      <td>Wednesday</td>\n",
       "    </tr>\n",
       "    <tr>\n",
       "      <th>391335</th>\n",
       "      <td>580158</td>\n",
       "      <td>22712</td>\n",
       "      <td>CARD DOLLY GIRL</td>\n",
       "      <td>0.42</td>\n",
       "      <td>12</td>\n",
       "      <td>5.04</td>\n",
       "      <td>2011-12-02 10:41:00</td>\n",
       "      <td>u12558</td>\n",
       "      <td>USA</td>\n",
       "      <td>2011</td>\n",
       "      <td>12</td>\n",
       "      <td>4</td>\n",
       "      <td>Friday</td>\n",
       "    </tr>\n",
       "    <tr>\n",
       "      <th>397643</th>\n",
       "      <td>580158</td>\n",
       "      <td>23158</td>\n",
       "      <td>SET OF 5 LUCKY CAT MAGNETS</td>\n",
       "      <td>2.08</td>\n",
       "      <td>36</td>\n",
       "      <td>74.88</td>\n",
       "      <td>2011-12-02 10:41:00</td>\n",
       "      <td>u12558</td>\n",
       "      <td>USA</td>\n",
       "      <td>2011</td>\n",
       "      <td>12</td>\n",
       "      <td>4</td>\n",
       "      <td>Friday</td>\n",
       "    </tr>\n",
       "    <tr>\n",
       "      <th>398815</th>\n",
       "      <td>C581229</td>\n",
       "      <td>23158</td>\n",
       "      <td>SET OF 5 LUCKY CAT MAGNETS</td>\n",
       "      <td>2.08</td>\n",
       "      <td>-36</td>\n",
       "      <td>-74.88</td>\n",
       "      <td>2011-12-08 10:14:00</td>\n",
       "      <td>u12558</td>\n",
       "      <td>USA</td>\n",
       "      <td>2011</td>\n",
       "      <td>12</td>\n",
       "      <td>3</td>\n",
       "      <td>Thursday</td>\n",
       "    </tr>\n",
       "    <tr>\n",
       "      <th>399245</th>\n",
       "      <td>C581229</td>\n",
       "      <td>21508</td>\n",
       "      <td>VINTAGE KID DOLLY CARD</td>\n",
       "      <td>0.42</td>\n",
       "      <td>-12</td>\n",
       "      <td>-5.04</td>\n",
       "      <td>2011-12-08 10:14:00</td>\n",
       "      <td>u12558</td>\n",
       "      <td>USA</td>\n",
       "      <td>2011</td>\n",
       "      <td>12</td>\n",
       "      <td>3</td>\n",
       "      <td>Thursday</td>\n",
       "    </tr>\n",
       "  </tbody>\n",
       "</table>\n",
       "<p>518 rows × 13 columns</p>\n",
       "</div>"
      ],
      "text/plain": [
       "        invoice stock_code                         description  price  \\\n",
       "205     C536850      22942         CHRISTMAS LIGHTS 10 SANTAS    7.65   \n",
       "269     C536812      22595             CHRISTMAS GINGHAM HEART   0.72   \n",
       "605     C538100     84798A     PINK FOXGLOVE ARTIIFCIAL FLOWER   2.55   \n",
       "779     C537860      22637               PIGGY BANK RETROSPOT    2.55   \n",
       "1321    C538123      22956            36 FOIL HEART CAKE CASES   2.10   \n",
       "...         ...        ...                                 ...    ...   \n",
       "390005   575485      84988  SET OF 72 PINK HEART PAPER DOILIES   1.45   \n",
       "391335   580158      22712                    CARD DOLLY GIRL    0.42   \n",
       "397643   580158      23158         SET OF 5 LUCKY CAT MAGNETS    2.08   \n",
       "398815  C581229      23158         SET OF 5 LUCKY CAT MAGNETS    2.08   \n",
       "399245  C581229      21508             VINTAGE KID DOLLY CARD    0.42   \n",
       "\n",
       "        quantity  total_order_value        invoice_date customer_id  \\\n",
       "205          -48            -367.20 2010-12-03 09:47:00      u14213   \n",
       "269         -144            -103.68 2010-12-02 16:58:00      u16546   \n",
       "605          -12             -30.60 2010-12-09 15:00:00      u16579   \n",
       "779           -6             -15.30 2010-12-08 16:15:00      u16252   \n",
       "1321          -2              -4.20 2010-12-09 15:41:00      u12605   \n",
       "...          ...                ...                 ...         ...   \n",
       "390005        12              17.40 2011-11-09 17:03:00      u18274   \n",
       "391335        12               5.04 2011-12-02 10:41:00      u12558   \n",
       "397643        36              74.88 2011-12-02 10:41:00      u12558   \n",
       "398815       -36             -74.88 2011-12-08 10:14:00      u12558   \n",
       "399245       -12              -5.04 2011-12-08 10:14:00      u12558   \n",
       "\n",
       "               country  invoice_year  invoice_month  invoice_weekday  \\\n",
       "205     United Kingdom          2010             12                4   \n",
       "269     United Kingdom          2010             12                3   \n",
       "605     United Kingdom          2010             12                3   \n",
       "779     United Kingdom          2010             12                2   \n",
       "1321           Germany          2010             12                3   \n",
       "...                ...           ...            ...              ...   \n",
       "390005  United Kingdom          2011             11                2   \n",
       "391335             USA          2011             12                4   \n",
       "397643             USA          2011             12                4   \n",
       "398815             USA          2011             12                3   \n",
       "399245             USA          2011             12                3   \n",
       "\n",
       "       invoice_dayname  \n",
       "205             Friday  \n",
       "269           Thursday  \n",
       "605           Thursday  \n",
       "779          Wednesday  \n",
       "1321          Thursday  \n",
       "...                ...  \n",
       "390005       Wednesday  \n",
       "391335          Friday  \n",
       "397643          Friday  \n",
       "398815        Thursday  \n",
       "399245        Thursday  \n",
       "\n",
       "[518 rows x 13 columns]"
      ]
     },
     "execution_count": 70,
     "metadata": {},
     "output_type": "execute_result"
    }
   ],
   "source": [
    "ot[ot['customer_id'].isin(custid_return.index)]#.groupby(['customer_id']).sum()['quantity']\n",
    "for transaction in ot[ot['customer_id'].isin(custid_return.index)]:"
   ]
  },
  {
   "cell_type": "markdown",
   "id": "a0bcf9bb-d901-4670-abab-3c176b98e874",
   "metadata": {},
   "source": [
    "### I will perform a customer segmentation considering just the transactions without any return. Therefore, I will create two new datasets. The first one excluding the returned transactions and the second one with just the returned transactions."
   ]
  },
  {
   "cell_type": "code",
   "execution_count": 64,
   "id": "160d72fb-7546-478e-be5f-72b115bb542b",
   "metadata": {},
   "outputs": [
    {
     "data": {
      "text/html": [
       "<div>\n",
       "<style scoped>\n",
       "    .dataframe tbody tr th:only-of-type {\n",
       "        vertical-align: middle;\n",
       "    }\n",
       "\n",
       "    .dataframe tbody tr th {\n",
       "        vertical-align: top;\n",
       "    }\n",
       "\n",
       "    .dataframe thead th {\n",
       "        text-align: right;\n",
       "    }\n",
       "</style>\n",
       "<table border=\"1\" class=\"dataframe\">\n",
       "  <thead>\n",
       "    <tr style=\"text-align: right;\">\n",
       "      <th></th>\n",
       "      <th>invoice</th>\n",
       "      <th>stock_code</th>\n",
       "      <th>description</th>\n",
       "      <th>price</th>\n",
       "      <th>quantity</th>\n",
       "      <th>total_order_value</th>\n",
       "      <th>invoice_date</th>\n",
       "      <th>customer_id</th>\n",
       "      <th>country</th>\n",
       "      <th>invoice_year</th>\n",
       "      <th>invoice_month</th>\n",
       "      <th>invoice_weekday</th>\n",
       "      <th>invoice_dayname</th>\n",
       "    </tr>\n",
       "  </thead>\n",
       "  <tbody>\n",
       "    <tr>\n",
       "      <th>205</th>\n",
       "      <td>C536850</td>\n",
       "      <td>22942</td>\n",
       "      <td>CHRISTMAS LIGHTS 10 SANTAS</td>\n",
       "      <td>7.65</td>\n",
       "      <td>-48</td>\n",
       "      <td>-367.20</td>\n",
       "      <td>2010-12-03 09:47:00</td>\n",
       "      <td>u14213</td>\n",
       "      <td>United Kingdom</td>\n",
       "      <td>2010</td>\n",
       "      <td>12</td>\n",
       "      <td>4</td>\n",
       "      <td>Friday</td>\n",
       "    </tr>\n",
       "    <tr>\n",
       "      <th>269</th>\n",
       "      <td>C536812</td>\n",
       "      <td>22595</td>\n",
       "      <td>CHRISTMAS GINGHAM HEART</td>\n",
       "      <td>0.72</td>\n",
       "      <td>-144</td>\n",
       "      <td>-103.68</td>\n",
       "      <td>2010-12-02 16:58:00</td>\n",
       "      <td>u16546</td>\n",
       "      <td>United Kingdom</td>\n",
       "      <td>2010</td>\n",
       "      <td>12</td>\n",
       "      <td>3</td>\n",
       "      <td>Thursday</td>\n",
       "    </tr>\n",
       "    <tr>\n",
       "      <th>605</th>\n",
       "      <td>C538100</td>\n",
       "      <td>84798A</td>\n",
       "      <td>PINK FOXGLOVE ARTIIFCIAL FLOWER</td>\n",
       "      <td>2.55</td>\n",
       "      <td>-12</td>\n",
       "      <td>-30.60</td>\n",
       "      <td>2010-12-09 15:00:00</td>\n",
       "      <td>u16579</td>\n",
       "      <td>United Kingdom</td>\n",
       "      <td>2010</td>\n",
       "      <td>12</td>\n",
       "      <td>3</td>\n",
       "      <td>Thursday</td>\n",
       "    </tr>\n",
       "    <tr>\n",
       "      <th>779</th>\n",
       "      <td>C537860</td>\n",
       "      <td>22637</td>\n",
       "      <td>PIGGY BANK RETROSPOT</td>\n",
       "      <td>2.55</td>\n",
       "      <td>-6</td>\n",
       "      <td>-15.30</td>\n",
       "      <td>2010-12-08 16:15:00</td>\n",
       "      <td>u16252</td>\n",
       "      <td>United Kingdom</td>\n",
       "      <td>2010</td>\n",
       "      <td>12</td>\n",
       "      <td>2</td>\n",
       "      <td>Wednesday</td>\n",
       "    </tr>\n",
       "    <tr>\n",
       "      <th>1321</th>\n",
       "      <td>C538123</td>\n",
       "      <td>22956</td>\n",
       "      <td>36 FOIL HEART CAKE CASES</td>\n",
       "      <td>2.10</td>\n",
       "      <td>-2</td>\n",
       "      <td>-4.20</td>\n",
       "      <td>2010-12-09 15:41:00</td>\n",
       "      <td>u12605</td>\n",
       "      <td>Germany</td>\n",
       "      <td>2010</td>\n",
       "      <td>12</td>\n",
       "      <td>3</td>\n",
       "      <td>Thursday</td>\n",
       "    </tr>\n",
       "    <tr>\n",
       "      <th>...</th>\n",
       "      <td>...</td>\n",
       "      <td>...</td>\n",
       "      <td>...</td>\n",
       "      <td>...</td>\n",
       "      <td>...</td>\n",
       "      <td>...</td>\n",
       "      <td>...</td>\n",
       "      <td>...</td>\n",
       "      <td>...</td>\n",
       "      <td>...</td>\n",
       "      <td>...</td>\n",
       "      <td>...</td>\n",
       "      <td>...</td>\n",
       "    </tr>\n",
       "    <tr>\n",
       "      <th>390005</th>\n",
       "      <td>575485</td>\n",
       "      <td>84988</td>\n",
       "      <td>SET OF 72 PINK HEART PAPER DOILIES</td>\n",
       "      <td>1.45</td>\n",
       "      <td>12</td>\n",
       "      <td>17.40</td>\n",
       "      <td>2011-11-09 17:03:00</td>\n",
       "      <td>u18274</td>\n",
       "      <td>United Kingdom</td>\n",
       "      <td>2011</td>\n",
       "      <td>11</td>\n",
       "      <td>2</td>\n",
       "      <td>Wednesday</td>\n",
       "    </tr>\n",
       "    <tr>\n",
       "      <th>391335</th>\n",
       "      <td>580158</td>\n",
       "      <td>22712</td>\n",
       "      <td>CARD DOLLY GIRL</td>\n",
       "      <td>0.42</td>\n",
       "      <td>12</td>\n",
       "      <td>5.04</td>\n",
       "      <td>2011-12-02 10:41:00</td>\n",
       "      <td>u12558</td>\n",
       "      <td>USA</td>\n",
       "      <td>2011</td>\n",
       "      <td>12</td>\n",
       "      <td>4</td>\n",
       "      <td>Friday</td>\n",
       "    </tr>\n",
       "    <tr>\n",
       "      <th>397643</th>\n",
       "      <td>580158</td>\n",
       "      <td>23158</td>\n",
       "      <td>SET OF 5 LUCKY CAT MAGNETS</td>\n",
       "      <td>2.08</td>\n",
       "      <td>36</td>\n",
       "      <td>74.88</td>\n",
       "      <td>2011-12-02 10:41:00</td>\n",
       "      <td>u12558</td>\n",
       "      <td>USA</td>\n",
       "      <td>2011</td>\n",
       "      <td>12</td>\n",
       "      <td>4</td>\n",
       "      <td>Friday</td>\n",
       "    </tr>\n",
       "    <tr>\n",
       "      <th>398815</th>\n",
       "      <td>C581229</td>\n",
       "      <td>23158</td>\n",
       "      <td>SET OF 5 LUCKY CAT MAGNETS</td>\n",
       "      <td>2.08</td>\n",
       "      <td>-36</td>\n",
       "      <td>-74.88</td>\n",
       "      <td>2011-12-08 10:14:00</td>\n",
       "      <td>u12558</td>\n",
       "      <td>USA</td>\n",
       "      <td>2011</td>\n",
       "      <td>12</td>\n",
       "      <td>3</td>\n",
       "      <td>Thursday</td>\n",
       "    </tr>\n",
       "    <tr>\n",
       "      <th>399245</th>\n",
       "      <td>C581229</td>\n",
       "      <td>21508</td>\n",
       "      <td>VINTAGE KID DOLLY CARD</td>\n",
       "      <td>0.42</td>\n",
       "      <td>-12</td>\n",
       "      <td>-5.04</td>\n",
       "      <td>2011-12-08 10:14:00</td>\n",
       "      <td>u12558</td>\n",
       "      <td>USA</td>\n",
       "      <td>2011</td>\n",
       "      <td>12</td>\n",
       "      <td>3</td>\n",
       "      <td>Thursday</td>\n",
       "    </tr>\n",
       "  </tbody>\n",
       "</table>\n",
       "<p>518 rows × 13 columns</p>\n",
       "</div>"
      ],
      "text/plain": [
       "        invoice stock_code                         description  price  \\\n",
       "205     C536850      22942         CHRISTMAS LIGHTS 10 SANTAS    7.65   \n",
       "269     C536812      22595             CHRISTMAS GINGHAM HEART   0.72   \n",
       "605     C538100     84798A     PINK FOXGLOVE ARTIIFCIAL FLOWER   2.55   \n",
       "779     C537860      22637               PIGGY BANK RETROSPOT    2.55   \n",
       "1321    C538123      22956            36 FOIL HEART CAKE CASES   2.10   \n",
       "...         ...        ...                                 ...    ...   \n",
       "390005   575485      84988  SET OF 72 PINK HEART PAPER DOILIES   1.45   \n",
       "391335   580158      22712                    CARD DOLLY GIRL    0.42   \n",
       "397643   580158      23158         SET OF 5 LUCKY CAT MAGNETS    2.08   \n",
       "398815  C581229      23158         SET OF 5 LUCKY CAT MAGNETS    2.08   \n",
       "399245  C581229      21508             VINTAGE KID DOLLY CARD    0.42   \n",
       "\n",
       "        quantity  total_order_value        invoice_date customer_id  \\\n",
       "205          -48            -367.20 2010-12-03 09:47:00      u14213   \n",
       "269         -144            -103.68 2010-12-02 16:58:00      u16546   \n",
       "605          -12             -30.60 2010-12-09 15:00:00      u16579   \n",
       "779           -6             -15.30 2010-12-08 16:15:00      u16252   \n",
       "1321          -2              -4.20 2010-12-09 15:41:00      u12605   \n",
       "...          ...                ...                 ...         ...   \n",
       "390005        12              17.40 2011-11-09 17:03:00      u18274   \n",
       "391335        12               5.04 2011-12-02 10:41:00      u12558   \n",
       "397643        36              74.88 2011-12-02 10:41:00      u12558   \n",
       "398815       -36             -74.88 2011-12-08 10:14:00      u12558   \n",
       "399245       -12              -5.04 2011-12-08 10:14:00      u12558   \n",
       "\n",
       "               country  invoice_year  invoice_month  invoice_weekday  \\\n",
       "205     United Kingdom          2010             12                4   \n",
       "269     United Kingdom          2010             12                3   \n",
       "605     United Kingdom          2010             12                3   \n",
       "779     United Kingdom          2010             12                2   \n",
       "1321           Germany          2010             12                3   \n",
       "...                ...           ...            ...              ...   \n",
       "390005  United Kingdom          2011             11                2   \n",
       "391335             USA          2011             12                4   \n",
       "397643             USA          2011             12                4   \n",
       "398815             USA          2011             12                3   \n",
       "399245             USA          2011             12                3   \n",
       "\n",
       "       invoice_dayname  \n",
       "205             Friday  \n",
       "269           Thursday  \n",
       "605           Thursday  \n",
       "779          Wednesday  \n",
       "1321          Thursday  \n",
       "...                ...  \n",
       "390005       Wednesday  \n",
       "391335          Friday  \n",
       "397643          Friday  \n",
       "398815        Thursday  \n",
       "399245        Thursday  \n",
       "\n",
       "[518 rows x 13 columns]"
      ]
     },
     "execution_count": 64,
     "metadata": {},
     "output_type": "execute_result"
    }
   ],
   "source": [
    "ot[ot['customer_id'].isin(custid_return.index)]"
   ]
  }
 ],
 "metadata": {
  "kernelspec": {
   "display_name": "Python 3 (ipykernel)",
   "language": "python",
   "name": "python3"
  },
  "language_info": {
   "codemirror_mode": {
    "name": "ipython",
    "version": 3
   },
   "file_extension": ".py",
   "mimetype": "text/x-python",
   "name": "python",
   "nbconvert_exporter": "python",
   "pygments_lexer": "ipython3",
   "version": "3.11.3"
  }
 },
 "nbformat": 4,
 "nbformat_minor": 5
}
