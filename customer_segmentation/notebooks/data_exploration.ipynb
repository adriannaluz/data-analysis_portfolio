{
 "cells": [
  {
   "cell_type": "code",
   "execution_count": 1,
   "id": "c661cd33-0e67-4c0e-a1a1-71cc93b4e185",
   "metadata": {},
   "outputs": [],
   "source": [
    "import os\n",
    "import sys\n",
    "import boto3\n",
    "import warnings\n",
    "import numpy as np\n",
    "import pandas as pd\n",
    "import seaborn as sns\n",
    "import matplotlib.pyplot as plt\n",
    "\n",
    "from pathlib import Path\n",
    "from dotenv import load_dotenv\n",
    "\n",
    "# defining functions module path\n",
    "module_path = str(Path.cwd().parents[0] / \"src\")\n",
    "if module_path not in sys.path:\n",
    "    sys.path.append(module_path)\n",
    "\n",
    "from functions import connect_to_redshift"
   ]
  },
  {
   "cell_type": "code",
   "execution_count": 2,
   "id": "7ec49d55-dd8e-40a9-b1d5-11e1216694ad",
   "metadata": {},
   "outputs": [],
   "source": [
    "# removing warning messages\n",
    "warnings.filterwarnings(\"ignore\")"
   ]
  },
  {
   "cell_type": "code",
   "execution_count": 3,
   "id": "efdd0b4a-4dce-4592-a97e-db69252b1cab",
   "metadata": {},
   "outputs": [
    {
     "data": {
      "text/plain": [
       "True"
      ]
     },
     "execution_count": 3,
     "metadata": {},
     "output_type": "execute_result"
    }
   ],
   "source": [
    "# Loading my .env file\n",
    "load_dotenv()"
   ]
  },
  {
   "cell_type": "code",
   "execution_count": 4,
   "id": "ad3ff1f1-db17-48f9-bf2c-605c2d9cf347",
   "metadata": {},
   "outputs": [],
   "source": [
    "# defining redshift credentials\n",
    "dbname = os.getenv(\"dbname\")\n",
    "host = os.getenv(\"host\")\n",
    "port = os.getenv(\"port\")\n",
    "user = os.getenv(\"user\")\n",
    "password = os.getenv(\"password\")"
   ]
  },
  {
   "cell_type": "code",
   "execution_count": 5,
   "id": "b273b652-97eb-4b49-85dc-d43d7d2b4552",
   "metadata": {},
   "outputs": [
    {
     "name": "stdout",
     "output_type": "stream",
     "text": [
      "connection to redshift made\n"
     ]
    }
   ],
   "source": [
    "# establishing redshift connection\n",
    "rs_connection = connect_to_redshift(dbname, host, port, user, password)"
   ]
  },
  {
   "cell_type": "code",
   "execution_count": 6,
   "id": "84eb2fe6-f287-4cc7-acd6-8bad6538b786",
   "metadata": {},
   "outputs": [],
   "source": [
    "query = \"\"\"select *\n",
    "           from bootcamp.online_transactions_fixed\n",
    "        \"\"\""
   ]
  },
  {
   "cell_type": "code",
   "execution_count": 7,
   "id": "89c4884d-3030-4d19-9b75-f1622a393e3c",
   "metadata": {},
   "outputs": [],
   "source": [
    "ot_cleaned = pd.read_sql(query, rs_connection)"
   ]
  },
  {
   "cell_type": "code",
   "execution_count": 8,
   "id": "8d888d7a-ed1a-4f51-910a-62c74c7e0327",
   "metadata": {},
   "outputs": [],
   "source": [
    "ot = ot_cleaned.copy()"
   ]
  },
  {
   "cell_type": "code",
   "execution_count": 9,
   "id": "5622ae1d-150b-4195-818d-191f5b0fc642",
   "metadata": {},
   "outputs": [
    {
     "name": "stdout",
     "output_type": "stream",
     "text": [
      "<class 'pandas.core.frame.DataFrame'>\n",
      "RangeIndex: 399841 entries, 0 to 399840\n",
      "Data columns (total 9 columns):\n",
      " #   Column             Non-Null Count   Dtype         \n",
      "---  ------             --------------   -----         \n",
      " 0   invoice            399841 non-null  object        \n",
      " 1   stock_code         399841 non-null  object        \n",
      " 2   description        399841 non-null  object        \n",
      " 3   quantity           399841 non-null  int64         \n",
      " 4   invoice_date       399841 non-null  datetime64[ns]\n",
      " 5   price              399841 non-null  float64       \n",
      " 6   customer_id        399841 non-null  object        \n",
      " 7   country            399841 non-null  object        \n",
      " 8   total_order_value  399841 non-null  float64       \n",
      "dtypes: datetime64[ns](1), float64(2), int64(1), object(5)\n",
      "memory usage: 27.5+ MB\n"
     ]
    }
   ],
   "source": [
    "ot_cleaned.info()"
   ]
  },
  {
   "cell_type": "code",
   "execution_count": 10,
   "id": "1a40da9c-c375-41db-8a20-1c4f217616f9",
   "metadata": {},
   "outputs": [
    {
     "data": {
      "text/html": [
       "<div>\n",
       "<style scoped>\n",
       "    .dataframe tbody tr th:only-of-type {\n",
       "        vertical-align: middle;\n",
       "    }\n",
       "\n",
       "    .dataframe tbody tr th {\n",
       "        vertical-align: top;\n",
       "    }\n",
       "\n",
       "    .dataframe thead th {\n",
       "        text-align: right;\n",
       "    }\n",
       "</style>\n",
       "<table border=\"1\" class=\"dataframe\">\n",
       "  <thead>\n",
       "    <tr style=\"text-align: right;\">\n",
       "      <th></th>\n",
       "      <th>quantity</th>\n",
       "      <th>price</th>\n",
       "      <th>total_order_value</th>\n",
       "    </tr>\n",
       "  </thead>\n",
       "  <tbody>\n",
       "    <tr>\n",
       "      <th>count</th>\n",
       "      <td>399841.000000</td>\n",
       "      <td>399841.000000</td>\n",
       "      <td>399841.000000</td>\n",
       "    </tr>\n",
       "    <tr>\n",
       "      <th>mean</th>\n",
       "      <td>12.224359</td>\n",
       "      <td>2.952914</td>\n",
       "      <td>20.716904</td>\n",
       "    </tr>\n",
       "    <tr>\n",
       "      <th>std</th>\n",
       "      <td>250.788860</td>\n",
       "      <td>7.317593</td>\n",
       "      <td>425.471765</td>\n",
       "    </tr>\n",
       "    <tr>\n",
       "      <th>min</th>\n",
       "      <td>-80995.000000</td>\n",
       "      <td>0.000000</td>\n",
       "      <td>-168469.600000</td>\n",
       "    </tr>\n",
       "    <tr>\n",
       "      <th>25%</th>\n",
       "      <td>2.000000</td>\n",
       "      <td>1.250000</td>\n",
       "      <td>4.250000</td>\n",
       "    </tr>\n",
       "    <tr>\n",
       "      <th>50%</th>\n",
       "      <td>5.000000</td>\n",
       "      <td>1.950000</td>\n",
       "      <td>11.580000</td>\n",
       "    </tr>\n",
       "    <tr>\n",
       "      <th>75%</th>\n",
       "      <td>12.000000</td>\n",
       "      <td>3.750000</td>\n",
       "      <td>19.500000</td>\n",
       "    </tr>\n",
       "    <tr>\n",
       "      <th>max</th>\n",
       "      <td>80995.000000</td>\n",
       "      <td>1599.260000</td>\n",
       "      <td>168469.600000</td>\n",
       "    </tr>\n",
       "  </tbody>\n",
       "</table>\n",
       "</div>"
      ],
      "text/plain": [
       "            quantity          price  total_order_value\n",
       "count  399841.000000  399841.000000      399841.000000\n",
       "mean       12.224359       2.952914          20.716904\n",
       "std       250.788860       7.317593         425.471765\n",
       "min    -80995.000000       0.000000     -168469.600000\n",
       "25%         2.000000       1.250000           4.250000\n",
       "50%         5.000000       1.950000          11.580000\n",
       "75%        12.000000       3.750000          19.500000\n",
       "max     80995.000000    1599.260000      168469.600000"
      ]
     },
     "execution_count": 10,
     "metadata": {},
     "output_type": "execute_result"
    }
   ],
   "source": [
    "ot_cleaned.describe()"
   ]
  },
  {
   "cell_type": "code",
   "execution_count": 15,
   "id": "104237be-c8ea-42f0-a4be-8623c6f9aaff",
   "metadata": {},
   "outputs": [
    {
     "name": "stdout",
     "output_type": "stream",
     "text": [
      "There are 34 transactions with price zero. That represents 0.01 % of the total data\n"
     ]
    }
   ],
   "source": [
    "# Checking how many transactions are having price equal or less than 0\n",
    "no_price_stock = ot_cleaned[ot_cleaned.price <= 0]['stock_code'].unique()\n",
    "no_price = ot_cleaned[ot_cleaned.price <= 0]\n",
    "\n",
    "print(f\"There are {no_price.shape[0]} transactions with price zero. That represents {round(no_price.shape[0] * 100 / ot.shape[0], 2)} % of the total data\")\n"
   ]
  },
  {
   "cell_type": "code",
   "execution_count": 16,
   "id": "74239c00-8cbd-4731-8623-eaebc5a69c5a",
   "metadata": {},
   "outputs": [
    {
     "data": {
      "text/html": [
       "<div>\n",
       "<style scoped>\n",
       "    .dataframe tbody tr th:only-of-type {\n",
       "        vertical-align: middle;\n",
       "    }\n",
       "\n",
       "    .dataframe tbody tr th {\n",
       "        vertical-align: top;\n",
       "    }\n",
       "\n",
       "    .dataframe thead th {\n",
       "        text-align: right;\n",
       "    }\n",
       "</style>\n",
       "<table border=\"1\" class=\"dataframe\">\n",
       "  <thead>\n",
       "    <tr style=\"text-align: right;\">\n",
       "      <th></th>\n",
       "      <th>invoice</th>\n",
       "      <th>stock_code</th>\n",
       "      <th>description</th>\n",
       "      <th>quantity</th>\n",
       "      <th>invoice_date</th>\n",
       "      <th>price</th>\n",
       "      <th>customer_id</th>\n",
       "      <th>country</th>\n",
       "      <th>total_order_value</th>\n",
       "    </tr>\n",
       "  </thead>\n",
       "  <tbody>\n",
       "    <tr>\n",
       "      <th>12082</th>\n",
       "      <td>537197</td>\n",
       "      <td>22841</td>\n",
       "      <td>ROUND CAKE TIN VINTAGE GREEN</td>\n",
       "      <td>1</td>\n",
       "      <td>2010-12-05 14:02:00</td>\n",
       "      <td>0.0</td>\n",
       "      <td>u12647</td>\n",
       "      <td>Germany</td>\n",
       "      <td>0.0</td>\n",
       "    </tr>\n",
       "    <tr>\n",
       "      <th>16519</th>\n",
       "      <td>540372</td>\n",
       "      <td>22553</td>\n",
       "      <td>PLASTERS IN TIN SKULLS</td>\n",
       "      <td>24</td>\n",
       "      <td>2011-01-06 16:41:00</td>\n",
       "      <td>0.0</td>\n",
       "      <td>u13081</td>\n",
       "      <td>United Kingdom</td>\n",
       "      <td>0.0</td>\n",
       "    </tr>\n",
       "    <tr>\n",
       "      <th>23249</th>\n",
       "      <td>540372</td>\n",
       "      <td>22090</td>\n",
       "      <td>PAPER BUNTING RETROSPOT</td>\n",
       "      <td>24</td>\n",
       "      <td>2011-01-06 16:41:00</td>\n",
       "      <td>0.0</td>\n",
       "      <td>u13081</td>\n",
       "      <td>United Kingdom</td>\n",
       "      <td>0.0</td>\n",
       "    </tr>\n",
       "    <tr>\n",
       "      <th>28960</th>\n",
       "      <td>539722</td>\n",
       "      <td>22423</td>\n",
       "      <td>REGENCY CAKESTAND 3 TIER</td>\n",
       "      <td>10</td>\n",
       "      <td>2010-12-21 13:45:00</td>\n",
       "      <td>0.0</td>\n",
       "      <td>u14911</td>\n",
       "      <td>EIRE</td>\n",
       "      <td>0.0</td>\n",
       "    </tr>\n",
       "    <tr>\n",
       "      <th>41276</th>\n",
       "      <td>550188</td>\n",
       "      <td>22636</td>\n",
       "      <td>CHILDS BREAKFAST SET CIRCUS PARADE</td>\n",
       "      <td>1</td>\n",
       "      <td>2011-04-14 18:57:00</td>\n",
       "      <td>0.0</td>\n",
       "      <td>u12457</td>\n",
       "      <td>Switzerland</td>\n",
       "      <td>0.0</td>\n",
       "    </tr>\n",
       "  </tbody>\n",
       "</table>\n",
       "</div>"
      ],
      "text/plain": [
       "      invoice stock_code                         description  quantity  \\\n",
       "12082  537197      22841        ROUND CAKE TIN VINTAGE GREEN         1   \n",
       "16519  540372      22553              PLASTERS IN TIN SKULLS        24   \n",
       "23249  540372      22090             PAPER BUNTING RETROSPOT        24   \n",
       "28960  539722      22423            REGENCY CAKESTAND 3 TIER        10   \n",
       "41276  550188      22636  CHILDS BREAKFAST SET CIRCUS PARADE         1   \n",
       "\n",
       "             invoice_date  price customer_id         country  \\\n",
       "12082 2010-12-05 14:02:00    0.0      u12647         Germany   \n",
       "16519 2011-01-06 16:41:00    0.0      u13081  United Kingdom   \n",
       "23249 2011-01-06 16:41:00    0.0      u13081  United Kingdom   \n",
       "28960 2010-12-21 13:45:00    0.0      u14911            EIRE   \n",
       "41276 2011-04-14 18:57:00    0.0      u12457     Switzerland   \n",
       "\n",
       "       total_order_value  \n",
       "12082                0.0  \n",
       "16519                0.0  \n",
       "23249                0.0  \n",
       "28960                0.0  \n",
       "41276                0.0  "
      ]
     },
     "execution_count": 16,
     "metadata": {},
     "output_type": "execute_result"
    }
   ],
   "source": [
    "no_price.head()"
   ]
  },
  {
   "cell_type": "code",
   "execution_count": 17,
   "id": "52e46c06-59cd-4ab9-8f4f-89155b3fe264",
   "metadata": {},
   "outputs": [
    {
     "data": {
      "text/html": [
       "<div>\n",
       "<style scoped>\n",
       "    .dataframe tbody tr th:only-of-type {\n",
       "        vertical-align: middle;\n",
       "    }\n",
       "\n",
       "    .dataframe tbody tr th {\n",
       "        vertical-align: top;\n",
       "    }\n",
       "\n",
       "    .dataframe thead th {\n",
       "        text-align: right;\n",
       "    }\n",
       "</style>\n",
       "<table border=\"1\" class=\"dataframe\">\n",
       "  <thead>\n",
       "    <tr style=\"text-align: right;\">\n",
       "      <th></th>\n",
       "      <th>invoice</th>\n",
       "      <th>stock_code</th>\n",
       "      <th>description</th>\n",
       "      <th>customer_id</th>\n",
       "      <th>country</th>\n",
       "    </tr>\n",
       "  </thead>\n",
       "  <tbody>\n",
       "    <tr>\n",
       "      <th>count</th>\n",
       "      <td>34</td>\n",
       "      <td>34</td>\n",
       "      <td>34</td>\n",
       "      <td>34</td>\n",
       "      <td>34</td>\n",
       "    </tr>\n",
       "    <tr>\n",
       "      <th>unique</th>\n",
       "      <td>28</td>\n",
       "      <td>34</td>\n",
       "      <td>34</td>\n",
       "      <td>25</td>\n",
       "      <td>8</td>\n",
       "    </tr>\n",
       "    <tr>\n",
       "      <th>top</th>\n",
       "      <td>564651</td>\n",
       "      <td>22841</td>\n",
       "      <td>ROUND CAKE TIN VINTAGE GREEN</td>\n",
       "      <td>u14646</td>\n",
       "      <td>United Kingdom</td>\n",
       "    </tr>\n",
       "    <tr>\n",
       "      <th>freq</th>\n",
       "      <td>4</td>\n",
       "      <td>1</td>\n",
       "      <td>1</td>\n",
       "      <td>4</td>\n",
       "      <td>21</td>\n",
       "    </tr>\n",
       "  </tbody>\n",
       "</table>\n",
       "</div>"
      ],
      "text/plain": [
       "       invoice stock_code                   description customer_id  \\\n",
       "count       34         34                            34          34   \n",
       "unique      28         34                            34          25   \n",
       "top     564651      22841  ROUND CAKE TIN VINTAGE GREEN      u14646   \n",
       "freq         4          1                             1           4   \n",
       "\n",
       "               country  \n",
       "count               34  \n",
       "unique               8  \n",
       "top     United Kingdom  \n",
       "freq                21  "
      ]
     },
     "execution_count": 17,
     "metadata": {},
     "output_type": "execute_result"
    }
   ],
   "source": [
    "no_price.describe(include=object)"
   ]
  },
  {
   "cell_type": "code",
   "execution_count": 18,
   "id": "b057045e-3feb-4571-867a-6ac2b2b77460",
   "metadata": {},
   "outputs": [
    {
     "name": "stdout",
     "output_type": "stream",
     "text": [
      "There are 8507 entries with negative quantity\n"
     ]
    }
   ],
   "source": [
    "print(f\"There are {(ot_cleaned.quantity < 0).sum()} entries with negative quantity\")"
   ]
  },
  {
   "cell_type": "code",
   "execution_count": 19,
   "id": "a7c875f5-d562-4353-8e04-9af81e5c735e",
   "metadata": {},
   "outputs": [
    {
     "data": {
      "text/plain": [
       "137       C536548\n",
       "229       C536815\n",
       "242       C536850\n",
       "243       C536854\n",
       "382       C536854\n",
       "           ...   \n",
       "399630    C581409\n",
       "399664    C581148\n",
       "399702    C581490\n",
       "399759    C581316\n",
       "399776    C581390\n",
       "Name: invoice, Length: 8507, dtype: object"
      ]
     },
     "execution_count": 19,
     "metadata": {},
     "output_type": "execute_result"
    }
   ],
   "source": [
    "ot_cleaned['invoice'][ot_cleaned.quantity < 0]"
   ]
  },
  {
   "cell_type": "code",
   "execution_count": 20,
   "id": "b76a07b5-5fd6-4277-8f9f-0e0d7f097da7",
   "metadata": {},
   "outputs": [
    {
     "data": {
      "text/plain": [
       "8507"
      ]
     },
     "execution_count": 20,
     "metadata": {},
     "output_type": "execute_result"
    }
   ],
   "source": [
    "# Checking is all the invoice with negative quantity start with a letter C \n",
    "ot_cleaned['invoice'][ot_cleaned.quantity < 0].str.startswith('C').sum()"
   ]
  },
  {
   "cell_type": "markdown",
   "id": "d14933aa-4886-4e83-807b-4c79a9e39ba5",
   "metadata": {},
   "source": [
    "### I will consider all the entries with negative quantity as returns. They have a C in the invoice code, which I will assume refers to a CANCELLED transaction"
   ]
  },
  {
   "cell_type": "code",
   "execution_count": 21,
   "id": "d2d1edd6-6d06-4b70-8b58-b421e04cbef6",
   "metadata": {},
   "outputs": [],
   "source": [
    "ot_cancelled = ot_cleaned[ot_cleaned.invoice.str.startswith('C')]"
   ]
  },
  {
   "cell_type": "markdown",
   "id": "8bdbd0c8-0f48-473f-8819-8cbe3f69445e",
   "metadata": {},
   "source": [
    "### I will clean my ot_cleaned by removing the transactions with negative quantity and the transactions with price equal to zero"
   ]
  },
  {
   "cell_type": "code",
   "execution_count": 22,
   "id": "ebab868b-8d73-4e72-a3ee-bfd71f8ca7ef",
   "metadata": {},
   "outputs": [],
   "source": [
    "# Dropping cancelled orders\n",
    "ot_cleaned.drop(ot_cancelled.index, axis=0, inplace=True)"
   ]
  },
  {
   "cell_type": "code",
   "execution_count": 23,
   "id": "07d5768f-e62a-4b12-b5b3-47786e8f4b93",
   "metadata": {},
   "outputs": [],
   "source": [
    "# Dropping transaction with no price\n",
    "ot_cleaned.drop(no_price.index, axis=0, inplace=True)"
   ]
  },
  {
   "cell_type": "code",
   "execution_count": 24,
   "id": "701099f4-642b-4c91-8ce7-66b0ecfc5c1b",
   "metadata": {},
   "outputs": [
    {
     "data": {
      "text/html": [
       "<div>\n",
       "<style scoped>\n",
       "    .dataframe tbody tr th:only-of-type {\n",
       "        vertical-align: middle;\n",
       "    }\n",
       "\n",
       "    .dataframe tbody tr th {\n",
       "        vertical-align: top;\n",
       "    }\n",
       "\n",
       "    .dataframe thead th {\n",
       "        text-align: right;\n",
       "    }\n",
       "</style>\n",
       "<table border=\"1\" class=\"dataframe\">\n",
       "  <thead>\n",
       "    <tr style=\"text-align: right;\">\n",
       "      <th></th>\n",
       "      <th>invoice</th>\n",
       "      <th>stock_code</th>\n",
       "      <th>description</th>\n",
       "      <th>customer_id</th>\n",
       "      <th>country</th>\n",
       "    </tr>\n",
       "  </thead>\n",
       "  <tbody>\n",
       "    <tr>\n",
       "      <th>count</th>\n",
       "      <td>391300</td>\n",
       "      <td>391300</td>\n",
       "      <td>391300</td>\n",
       "      <td>391300</td>\n",
       "      <td>391300</td>\n",
       "    </tr>\n",
       "    <tr>\n",
       "      <th>unique</th>\n",
       "      <td>18405</td>\n",
       "      <td>3662</td>\n",
       "      <td>3627</td>\n",
       "      <td>4334</td>\n",
       "      <td>37</td>\n",
       "    </tr>\n",
       "    <tr>\n",
       "      <th>top</th>\n",
       "      <td>576339</td>\n",
       "      <td>85123A</td>\n",
       "      <td>CREAM HANGING HEART T-LIGHT HOLDER</td>\n",
       "      <td>u17841</td>\n",
       "      <td>United Kingdom</td>\n",
       "    </tr>\n",
       "    <tr>\n",
       "      <th>freq</th>\n",
       "      <td>542</td>\n",
       "      <td>2023</td>\n",
       "      <td>2023</td>\n",
       "      <td>7667</td>\n",
       "      <td>348919</td>\n",
       "    </tr>\n",
       "  </tbody>\n",
       "</table>\n",
       "</div>"
      ],
      "text/plain": [
       "       invoice stock_code                         description customer_id  \\\n",
       "count   391300     391300                              391300      391300   \n",
       "unique   18405       3662                                3627        4334   \n",
       "top     576339     85123A  CREAM HANGING HEART T-LIGHT HOLDER      u17841   \n",
       "freq       542       2023                                2023        7667   \n",
       "\n",
       "               country  \n",
       "count           391300  \n",
       "unique              37  \n",
       "top     United Kingdom  \n",
       "freq            348919  "
      ]
     },
     "execution_count": 24,
     "metadata": {},
     "output_type": "execute_result"
    }
   ],
   "source": [
    "ot_cleaned.describe(include=object)"
   ]
  },
  {
   "cell_type": "code",
   "execution_count": 25,
   "id": "18e10a64-0a4d-49d8-a99b-67cb45be97b1",
   "metadata": {},
   "outputs": [
    {
     "data": {
      "text/plain": [
       "array(['Australia', 'Austria', 'Bahrain', 'Belgium', 'Brazil', 'Canada',\n",
       "       'Channel Islands', 'Cyprus', 'Czech Republic', 'Denmark', 'EIRE',\n",
       "       'European Community', 'Finland', 'France', 'Germany', 'Greece',\n",
       "       'Iceland', 'Israel', 'Italy', 'Japan', 'Lebanon', 'Lithuania',\n",
       "       'Malta', 'Netherlands', 'Norway', 'Poland', 'Portugal', 'RSA',\n",
       "       'Saudi Arabia', 'Singapore', 'Spain', 'Sweden', 'Switzerland',\n",
       "       'USA', 'United Arab Emirates', 'United Kingdom', 'Unspecified'],\n",
       "      dtype=object)"
      ]
     },
     "execution_count": 25,
     "metadata": {},
     "output_type": "execute_result"
    }
   ],
   "source": [
    "ot_cleaned.country.sort_values().unique()"
   ]
  },
  {
   "cell_type": "markdown",
   "id": "e73f7e42-dd80-48a2-8fa3-efaf725d96e8",
   "metadata": {},
   "source": [
    "### There are transactions purchased in 37 different countries. One of them is \"Unspecified\""
   ]
  },
  {
   "cell_type": "markdown",
   "id": "765d2c1c-4a75-4c33-9fe7-cdd49e2c9bdf",
   "metadata": {},
   "source": [
    "### The number of unique descriptions is not compatible with the number of unique stock codes. Why?"
   ]
  },
  {
   "cell_type": "code",
   "execution_count": 32,
   "id": "b9ad7e7b-54a8-435a-b302-b19ca29e459d",
   "metadata": {},
   "outputs": [
    {
     "data": {
      "text/html": [
       "<div>\n",
       "<style scoped>\n",
       "    .dataframe tbody tr th:only-of-type {\n",
       "        vertical-align: middle;\n",
       "    }\n",
       "\n",
       "    .dataframe tbody tr th {\n",
       "        vertical-align: top;\n",
       "    }\n",
       "\n",
       "    .dataframe thead th {\n",
       "        text-align: right;\n",
       "    }\n",
       "</style>\n",
       "<table border=\"1\" class=\"dataframe\">\n",
       "  <thead>\n",
       "    <tr style=\"text-align: right;\">\n",
       "      <th></th>\n",
       "      <th>stock_code</th>\n",
       "    </tr>\n",
       "    <tr>\n",
       "      <th>description</th>\n",
       "      <th></th>\n",
       "    </tr>\n",
       "  </thead>\n",
       "  <tbody>\n",
       "    <tr>\n",
       "      <th>UNKNOWN</th>\n",
       "      <td>18</td>\n",
       "    </tr>\n",
       "    <tr>\n",
       "      <th>METAL SIGN,CUPCAKE SINGLE HOOK</th>\n",
       "      <td>3</td>\n",
       "    </tr>\n",
       "    <tr>\n",
       "      <th>ROUND BLUE CLOCK WITH SUCKER</th>\n",
       "      <td>2</td>\n",
       "    </tr>\n",
       "    <tr>\n",
       "      <th>SQUARE CHERRY BLOSSOM CABINET</th>\n",
       "      <td>2</td>\n",
       "    </tr>\n",
       "    <tr>\n",
       "      <th>RETRO PLASTIC 70'S TRAY</th>\n",
       "      <td>2</td>\n",
       "    </tr>\n",
       "    <tr>\n",
       "      <th>...</th>\n",
       "      <td>...</td>\n",
       "    </tr>\n",
       "    <tr>\n",
       "      <th>FOOT STOOL HOME SWEET HOME</th>\n",
       "      <td>1</td>\n",
       "    </tr>\n",
       "    <tr>\n",
       "      <th>FORKED CACTUS CANDLE</th>\n",
       "      <td>1</td>\n",
       "    </tr>\n",
       "    <tr>\n",
       "      <th>FOUR HOOK  WHITE LOVEBIRDS</th>\n",
       "      <td>1</td>\n",
       "    </tr>\n",
       "    <tr>\n",
       "      <th>FOUR RABBIT EASTER DECORATIONS</th>\n",
       "      <td>1</td>\n",
       "    </tr>\n",
       "    <tr>\n",
       "      <th>ZINC WIRE SWEETHEART LETTER TRAY</th>\n",
       "      <td>1</td>\n",
       "    </tr>\n",
       "  </tbody>\n",
       "</table>\n",
       "<p>3627 rows × 1 columns</p>\n",
       "</div>"
      ],
      "text/plain": [
       "                                  stock_code\n",
       "description                                 \n",
       "UNKNOWN                                   18\n",
       "METAL SIGN,CUPCAKE SINGLE HOOK             3\n",
       "ROUND BLUE CLOCK WITH SUCKER               2\n",
       "SQUARE CHERRY BLOSSOM CABINET              2\n",
       "RETRO PLASTIC 70'S TRAY                    2\n",
       "...                                      ...\n",
       "FOOT STOOL HOME SWEET HOME                 1\n",
       "FORKED CACTUS CANDLE                       1\n",
       "FOUR HOOK  WHITE LOVEBIRDS                 1\n",
       "FOUR RABBIT EASTER DECORATIONS             1\n",
       "ZINC WIRE SWEETHEART LETTER TRAY           1\n",
       "\n",
       "[3627 rows x 1 columns]"
      ]
     },
     "execution_count": 32,
     "metadata": {},
     "output_type": "execute_result"
    }
   ],
   "source": [
    "# Getting the data grouped by description and unique stock_code\n",
    "pd.DataFrame(ot_cleaned.groupby(\"description\")['stock_code'].nunique().sort_values(ascending=False))"
   ]
  },
  {
   "cell_type": "markdown",
   "id": "dbc641c3-bed9-4731-8ad0-5da4f41f9492",
   "metadata": {},
   "source": [
    "### It is interesting to see that there are some stock codes with 'Unknown' description. "
   ]
  },
  {
   "cell_type": "code",
   "execution_count": 33,
   "id": "f037e565-acf3-4b4b-9b2a-a540e3701bbd",
   "metadata": {},
   "outputs": [
    {
     "name": "stdout",
     "output_type": "stream",
     "text": [
      "There are 18 stock codes with unknown description\n"
     ]
    }
   ],
   "source": [
    "# Filtering the data to get the number of stock codes with 'Unknown' description\n",
    "stock_code_unknown = ot_cleaned[ot_cleaned.description == 'UNKNOWN']['stock_code'].unique()\n",
    "print(f\"There are {stock_code_unknown.shape[0]} stock codes with unknown description\")"
   ]
  },
  {
   "cell_type": "code",
   "execution_count": 34,
   "id": "0669b59a-5935-432b-ae4f-1dd1445a4188",
   "metadata": {},
   "outputs": [
    {
     "data": {
      "text/plain": [
       "array(['United Kingdom', 'Belgium', 'Switzerland', 'Poland',\n",
       "       'Unspecified', 'Germany', 'EIRE', 'France', 'Norway', 'Spain',\n",
       "       'Singapore', 'Sweden', 'Canada', 'Austria', 'Italy'], dtype=object)"
      ]
     },
     "execution_count": 34,
     "metadata": {},
     "output_type": "execute_result"
    }
   ],
   "source": [
    "# Checking if the stock codes with unknown description were sold in all countries\n",
    "ot_cleaned[ot_cleaned['stock_code'].isin(stock_code_unknown)].country.unique()"
   ]
  },
  {
   "cell_type": "markdown",
   "id": "2a030377-b020-472b-adbf-64a51b39b9e5",
   "metadata": {},
   "source": [
    "### The Unknown description purchases were made across 15 of the 37 countries. The reason why they are Unknown is still unclear"
   ]
  },
  {
   "cell_type": "markdown",
   "id": "154d1caa-c8cc-4449-9cef-52008d674fba",
   "metadata": {},
   "source": [
    "### Concerning the descriptions with more than one stock code. Based on the cell below I will infer that they are the same product on different presentations (i.e size)"
   ]
  },
  {
   "cell_type": "code",
   "execution_count": 35,
   "id": "b16e21ee-48f7-4b76-a480-7bc5405ebe66",
   "metadata": {
    "scrolled": true
   },
   "outputs": [
    {
     "data": {
      "text/html": [
       "<div>\n",
       "<style scoped>\n",
       "    .dataframe tbody tr th:only-of-type {\n",
       "        vertical-align: middle;\n",
       "    }\n",
       "\n",
       "    .dataframe tbody tr th {\n",
       "        vertical-align: top;\n",
       "    }\n",
       "\n",
       "    .dataframe thead th {\n",
       "        text-align: right;\n",
       "    }\n",
       "</style>\n",
       "<table border=\"1\" class=\"dataframe\">\n",
       "  <thead>\n",
       "    <tr style=\"text-align: right;\">\n",
       "      <th></th>\n",
       "      <th>invoice</th>\n",
       "      <th>stock_code</th>\n",
       "      <th>description</th>\n",
       "      <th>quantity</th>\n",
       "      <th>invoice_date</th>\n",
       "      <th>price</th>\n",
       "      <th>customer_id</th>\n",
       "      <th>country</th>\n",
       "      <th>total_order_value</th>\n",
       "    </tr>\n",
       "  </thead>\n",
       "  <tbody>\n",
       "    <tr>\n",
       "      <th>4098</th>\n",
       "      <td>536621</td>\n",
       "      <td>10135</td>\n",
       "      <td>COLOURING PENCILS BROWN TUBE</td>\n",
       "      <td>10</td>\n",
       "      <td>2010-12-02 10:35:00</td>\n",
       "      <td>1.25</td>\n",
       "      <td>u13108</td>\n",
       "      <td>United Kingdom</td>\n",
       "      <td>12.50</td>\n",
       "    </tr>\n",
       "    <tr>\n",
       "      <th>5523</th>\n",
       "      <td>537129</td>\n",
       "      <td>10135</td>\n",
       "      <td>COLOURING PENCILS BROWN TUBE</td>\n",
       "      <td>10</td>\n",
       "      <td>2010-12-05 12:15:00</td>\n",
       "      <td>1.25</td>\n",
       "      <td>u13506</td>\n",
       "      <td>United Kingdom</td>\n",
       "      <td>12.50</td>\n",
       "    </tr>\n",
       "    <tr>\n",
       "      <th>7340</th>\n",
       "      <td>536446</td>\n",
       "      <td>10133</td>\n",
       "      <td>COLOURING PENCILS BROWN TUBE</td>\n",
       "      <td>5</td>\n",
       "      <td>2010-12-01 12:15:00</td>\n",
       "      <td>0.85</td>\n",
       "      <td>u15983</td>\n",
       "      <td>United Kingdom</td>\n",
       "      <td>4.25</td>\n",
       "    </tr>\n",
       "    <tr>\n",
       "      <th>8244</th>\n",
       "      <td>537155</td>\n",
       "      <td>10133</td>\n",
       "      <td>COLOURING PENCILS BROWN TUBE</td>\n",
       "      <td>3</td>\n",
       "      <td>2010-12-05 13:05:00</td>\n",
       "      <td>0.85</td>\n",
       "      <td>u12748</td>\n",
       "      <td>United Kingdom</td>\n",
       "      <td>2.55</td>\n",
       "    </tr>\n",
       "    <tr>\n",
       "      <th>9707</th>\n",
       "      <td>537126</td>\n",
       "      <td>10135</td>\n",
       "      <td>COLOURING PENCILS BROWN TUBE</td>\n",
       "      <td>1</td>\n",
       "      <td>2010-12-05 12:13:00</td>\n",
       "      <td>1.25</td>\n",
       "      <td>u18118</td>\n",
       "      <td>United Kingdom</td>\n",
       "      <td>1.25</td>\n",
       "    </tr>\n",
       "  </tbody>\n",
       "</table>\n",
       "</div>"
      ],
      "text/plain": [
       "     invoice stock_code                   description  quantity  \\\n",
       "4098  536621      10135  COLOURING PENCILS BROWN TUBE        10   \n",
       "5523  537129      10135  COLOURING PENCILS BROWN TUBE        10   \n",
       "7340  536446      10133  COLOURING PENCILS BROWN TUBE         5   \n",
       "8244  537155      10133  COLOURING PENCILS BROWN TUBE         3   \n",
       "9707  537126      10135  COLOURING PENCILS BROWN TUBE         1   \n",
       "\n",
       "            invoice_date  price customer_id         country  total_order_value  \n",
       "4098 2010-12-02 10:35:00   1.25      u13108  United Kingdom              12.50  \n",
       "5523 2010-12-05 12:15:00   1.25      u13506  United Kingdom              12.50  \n",
       "7340 2010-12-01 12:15:00   0.85      u15983  United Kingdom               4.25  \n",
       "8244 2010-12-05 13:05:00   0.85      u12748  United Kingdom               2.55  \n",
       "9707 2010-12-05 12:13:00   1.25      u18118  United Kingdom               1.25  "
      ]
     },
     "execution_count": 35,
     "metadata": {},
     "output_type": "execute_result"
    }
   ],
   "source": [
    "# Checking an example of an product with two stock_codes and just oe description \n",
    "ot_cleaned.groupby([\"description\"]).get_group(\"COLOURING PENCILS BROWN TUBE\").head()"
   ]
  },
  {
   "cell_type": "markdown",
   "id": "eccb40b2-813f-41df-b2cf-8d7acee993f2",
   "metadata": {},
   "source": [
    "### Let's explore each column"
   ]
  },
  {
   "cell_type": "code",
   "execution_count": null,
   "id": "3955245e-51eb-416a-8e5c-de338641455f",
   "metadata": {},
   "outputs": [],
   "source": [
    "print(f\"The data contains information about 391334 ({ot_cleaned.invoice.nunique()} invoices in total) online purchases made from {ot_cleaned.invoice_date.min()} to {ot_cleaned.invoice_date.max()}. {ot_cancelled.shape[0]} are cancelled orders\")"
   ]
  },
  {
   "cell_type": "code",
   "execution_count": null,
   "id": "bca08be6-ad10-477e-8a97-b38c825c6fca",
   "metadata": {},
   "outputs": [],
   "source": [
    "print(f\"A total of {ot_cleaned.stock_code.nunique()} stock codes were sold from which {ot_cancelled.stock_code.nunique()} stocks were return at least once\")"
   ]
  },
  {
   "cell_type": "code",
   "execution_count": null,
   "id": "0e929f9b-a0d0-4ed7-98ee-bae9f80300b2",
   "metadata": {},
   "outputs": [],
   "source": [
    "inv_country = ot_cleaned.groupby('country').count()['invoice'].sort_values(ascending=False)"
   ]
  },
  {
   "cell_type": "code",
   "execution_count": null,
   "id": "4a6f2aa8-24e3-45da-adf7-c8b8c8d4be55",
   "metadata": {},
   "outputs": [],
   "source": [
    "print(f\"The invoices were purchased in 37 countries being {inv_country.index[0]} the country with the most purchases ({inv_country[0]}) and {inv_country.index[-1]} with the least ({inv_country[-1]})\")"
   ]
  },
  {
   "cell_type": "code",
   "execution_count": null,
   "id": "917c1108-f90b-4682-978c-5b29441aa33c",
   "metadata": {},
   "outputs": [],
   "source": [
    "print(f\"In total, there are {ot_cleaned.customer_id.nunique()} costumers\")"
   ]
  },
  {
   "cell_type": "markdown",
   "id": "d31becf4-b641-4314-be3a-c685f6685db2",
   "metadata": {},
   "source": [
    "### In the table below are shown the top 10 stock codes sold, their description, amount sold, their price and in how many country they had been sold"
   ]
  },
  {
   "cell_type": "code",
   "execution_count": null,
   "id": "8e3e0da6-e705-4375-99fb-7b127616ca38",
   "metadata": {},
   "outputs": [],
   "source": [
    "# Let's get top 5 stock codes on the table \n",
    "# defining aggregation functions to show on the table\n",
    "agg_dict = {'description': 'first', 'quantity': 'sum', 'price': 'first', 'country': 'nunique'}\n",
    "top10 = ot_cleaned.groupby(\"stock_code\").agg(agg_dict).sort_values(by='quantity', ascending=False)[:10]\n",
    "top10"
   ]
  },
  {
   "cell_type": "code",
   "execution_count": null,
   "id": "66592b71-08c1-4292-b559-d8a10a374052",
   "metadata": {},
   "outputs": [],
   "source": [
    "# What are the countries with the highest purchase\n",
    "ot.groupby('country').sum().sort_values(by='total_order_value', ascending=False)[:10]"
   ]
  },
  {
   "cell_type": "markdown",
   "id": "5555b06c-54aa-4d1e-b35e-a2185367b16e",
   "metadata": {},
   "source": [
    "### Let's explore now the data with returns"
   ]
  },
  {
   "cell_type": "code",
   "execution_count": null,
   "id": "147addcb-ab3b-40f0-b2ab-d1cc148d5e62",
   "metadata": {},
   "outputs": [],
   "source": [
    "ot_cancelled.groupby(\"stock_code\").agg(agg_dict).sort_values(by='quantity')[:10]"
   ]
  },
  {
   "cell_type": "code",
   "execution_count": null,
   "id": "a8bf0cbe-8505-45d1-8ad2-2ed8537fc1c8",
   "metadata": {},
   "outputs": [],
   "source": [
    "# Checking how many stock codes from the top10 best sellers are in the returned list\n",
    "canc_grouped = ot_cancelled.groupby('stock_code').sum()['quantity'].sort_values()[:10]\n",
    "top10.index.isin(canc_grouped.index).sum()"
   ]
  },
  {
   "cell_type": "markdown",
   "id": "f03c5129-253f-43dc-b87f-083d53beab5b",
   "metadata": {},
   "source": [
    "### Inspecting the returned items, I realized that in the top 10 most returned items are some of the best selling items."
   ]
  },
  {
   "cell_type": "code",
   "execution_count": null,
   "id": "4ac32a31-ae6d-4e2d-9b60-b888d3300b97",
   "metadata": {},
   "outputs": [],
   "source": [
    "# Returns grouped by customer\n",
    "ot_cancelled.groupby(\"customer_id\").agg(agg_dict)"
   ]
  },
  {
   "cell_type": "markdown",
   "id": "4996b4e4-dd7e-42ca-9cd2-2f16a469ff24",
   "metadata": {},
   "source": [
    "### 1534 customers returned a product at least once"
   ]
  },
  {
   "cell_type": "code",
   "execution_count": null,
   "id": "2da979bb-8b5f-43b2-ad47-828b02ccb72f",
   "metadata": {},
   "outputs": [],
   "source": [
    "# Returns grouped by stock code\n",
    "ot_cancelled.groupby(\"stock_code\").agg(agg_dict)"
   ]
  },
  {
   "cell_type": "markdown",
   "id": "c7050699-09c7-436f-812d-1466c2484747",
   "metadata": {},
   "source": [
    "### 1916 have been returned at least once"
   ]
  },
  {
   "cell_type": "code",
   "execution_count": null,
   "id": "5352cd47-e5bc-4788-b014-c4271e5e6f3a",
   "metadata": {},
   "outputs": [],
   "source": [
    "ot_cancelled.describe(include=object)"
   ]
  },
  {
   "cell_type": "markdown",
   "id": "e27155a9-314e-4d30-8ec1-1ab812c75359",
   "metadata": {},
   "source": [
    "### The most returned item is \"REGENCY CAKESTAND 3 TIER\" which has been returned 180 times. The country with most returns is United Kingdom with 7218 returns"
   ]
  },
  {
   "cell_type": "markdown",
   "id": "705afb65-efba-47ef-a65a-112a1317c7a8",
   "metadata": {},
   "source": [
    "### Let's explore the numerical values on the dataset"
   ]
  },
  {
   "cell_type": "code",
   "execution_count": null,
   "id": "0674181b-882c-4283-8a76-c61e95e39307",
   "metadata": {},
   "outputs": [],
   "source": [
    "# Let's start by exploring the outliers in the price column\n",
    "_, mean_price, std_price, min_price, Q1_price, Q2_price, Q3_price, max_price = ot.price.describe()\n",
    "IQR_price = Q3_price - Q1_price\n",
    "low_lim_price = Q1_price - 1.5 * IQR_price\n",
    "up_lim_price = Q3_price + 1.5 * IQR_price"
   ]
  },
  {
   "cell_type": "code",
   "execution_count": null,
   "id": "ec1c36f0-da78-4e8f-988b-a5c1ce441ee7",
   "metadata": {},
   "outputs": [],
   "source": [
    "# Price histogram plotting\n",
    "plt.hist(ot.price[ot['price'] < up_lim_price])\n",
    "plt.axvline(x=Q2_price, color='red', label='median')\n",
    "plt.axvline(x=up_lim_price, color='green', label='outlier upper limit')\n",
    "plt.title(\"Price distribution without outliers\")\n",
    "plt.legend(loc='upper right')\n",
    "plt.tight_layout()\n",
    "plt.xlabel('Price (pounds)');"
   ]
  },
  {
   "cell_type": "code",
   "execution_count": null,
   "id": "5e5cbaae-c1cd-4d16-8c20-005aada3f932",
   "metadata": {},
   "outputs": [],
   "source": [
    "outlier_perc = round(ot[ot['price'] >= up_lim_price].shape[0] * 100 / ot.shape[0], 2)\n",
    "print(f\"{outlier_perc} % of my data are outliers on the price variable\")"
   ]
  }
 ],
 "metadata": {
  "kernelspec": {
   "display_name": "Python 3 (ipykernel)",
   "language": "python",
   "name": "python3"
  },
  "language_info": {
   "codemirror_mode": {
    "name": "ipython",
    "version": 3
   },
   "file_extension": ".py",
   "mimetype": "text/x-python",
   "name": "python",
   "nbconvert_exporter": "python",
   "pygments_lexer": "ipython3",
   "version": "3.11.3"
  }
 },
 "nbformat": 4,
 "nbformat_minor": 5
}
