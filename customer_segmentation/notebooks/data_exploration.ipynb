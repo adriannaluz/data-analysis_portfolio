{
 "cells": [
  {
   "cell_type": "code",
   "execution_count": 1,
   "id": "c661cd33-0e67-4c0e-a1a1-71cc93b4e185",
   "metadata": {},
   "outputs": [],
   "source": [
    "import os\n",
    "import sys\n",
    "import boto3\n",
    "import warnings\n",
    "import numpy as np\n",
    "import pandas as pd\n",
    "import seaborn as sns\n",
    "import matplotlib.pyplot as plt\n",
    "\n",
    "from pathlib import Path\n",
    "from dotenv import load_dotenv\n",
    "\n",
    "# defining functions module path\n",
    "module_path = str(Path.cwd().parents[0] / \"src\")\n",
    "if module_path not in sys.path:\n",
    "    sys.path.append(module_path)\n",
    "\n",
    "from functions import connect_to_redshift"
   ]
  },
  {
   "cell_type": "code",
   "execution_count": 2,
   "id": "7ec49d55-dd8e-40a9-b1d5-11e1216694ad",
   "metadata": {},
   "outputs": [],
   "source": [
    "# removing warning messages\n",
    "warnings.filterwarnings(\"ignore\")"
   ]
  },
  {
   "cell_type": "code",
   "execution_count": 3,
   "id": "efdd0b4a-4dce-4592-a97e-db69252b1cab",
   "metadata": {},
   "outputs": [
    {
     "data": {
      "text/plain": [
       "True"
      ]
     },
     "execution_count": 3,
     "metadata": {},
     "output_type": "execute_result"
    }
   ],
   "source": [
    "# Loading my .env file\n",
    "load_dotenv()"
   ]
  },
  {
   "cell_type": "code",
   "execution_count": 4,
   "id": "ad3ff1f1-db17-48f9-bf2c-605c2d9cf347",
   "metadata": {},
   "outputs": [],
   "source": [
    "# defining redshift credentials\n",
    "dbname = os.getenv(\"dbname\")\n",
    "host = os.getenv(\"host\")\n",
    "port = os.getenv(\"port\")\n",
    "user = os.getenv(\"user\")\n",
    "password = os.getenv(\"password\")"
   ]
  },
  {
   "cell_type": "code",
   "execution_count": 5,
   "id": "b273b652-97eb-4b49-85dc-d43d7d2b4552",
   "metadata": {},
   "outputs": [
    {
     "name": "stdout",
     "output_type": "stream",
     "text": [
      "connection to redshift made\n"
     ]
    }
   ],
   "source": [
    "# establishing redshift connection\n",
    "rs_connection = connect_to_redshift(dbname, host, port, user, password)"
   ]
  },
  {
   "cell_type": "code",
   "execution_count": 6,
   "id": "84eb2fe6-f287-4cc7-acd6-8bad6538b786",
   "metadata": {},
   "outputs": [],
   "source": [
    "query = \"\"\"select *\n",
    "           from bootcamp.online_transactions_cleaned\n",
    "        \"\"\""
   ]
  },
  {
   "cell_type": "code",
   "execution_count": 7,
   "id": "89c4884d-3030-4d19-9b75-f1622a393e3c",
   "metadata": {},
   "outputs": [],
   "source": [
    "ot_cleaned = pd.read_sql(query, rs_connection)"
   ]
  },
  {
   "cell_type": "code",
   "execution_count": 8,
   "id": "8d888d7a-ed1a-4f51-910a-62c74c7e0327",
   "metadata": {},
   "outputs": [],
   "source": [
    "ot = ot_cleaned.copy()"
   ]
  },
  {
   "cell_type": "code",
   "execution_count": 9,
   "id": "5622ae1d-150b-4195-818d-191f5b0fc642",
   "metadata": {},
   "outputs": [
    {
     "name": "stdout",
     "output_type": "stream",
     "text": [
      "<class 'pandas.core.frame.DataFrame'>\n",
      "RangeIndex: 399841 entries, 0 to 399840\n",
      "Data columns (total 9 columns):\n",
      " #   Column             Non-Null Count   Dtype         \n",
      "---  ------             --------------   -----         \n",
      " 0   invoice            399841 non-null  object        \n",
      " 1   stock_code         399841 non-null  object        \n",
      " 2   description        399841 non-null  object        \n",
      " 3   price              399841 non-null  float64       \n",
      " 4   quantity           399841 non-null  int64         \n",
      " 5   total_order_value  399841 non-null  float64       \n",
      " 6   invoice_date       399841 non-null  datetime64[ns]\n",
      " 7   customer_id        399841 non-null  object        \n",
      " 8   country            399841 non-null  object        \n",
      "dtypes: datetime64[ns](1), float64(2), int64(1), object(5)\n",
      "memory usage: 27.5+ MB\n"
     ]
    }
   ],
   "source": [
    "ot_cleaned.info()"
   ]
  },
  {
   "cell_type": "code",
   "execution_count": 10,
   "id": "1a40da9c-c375-41db-8a20-1c4f217616f9",
   "metadata": {},
   "outputs": [
    {
     "data": {
      "text/html": [
       "<div>\n",
       "<style scoped>\n",
       "    .dataframe tbody tr th:only-of-type {\n",
       "        vertical-align: middle;\n",
       "    }\n",
       "\n",
       "    .dataframe tbody tr th {\n",
       "        vertical-align: top;\n",
       "    }\n",
       "\n",
       "    .dataframe thead th {\n",
       "        text-align: right;\n",
       "    }\n",
       "</style>\n",
       "<table border=\"1\" class=\"dataframe\">\n",
       "  <thead>\n",
       "    <tr style=\"text-align: right;\">\n",
       "      <th></th>\n",
       "      <th>price</th>\n",
       "      <th>quantity</th>\n",
       "      <th>total_order_value</th>\n",
       "    </tr>\n",
       "  </thead>\n",
       "  <tbody>\n",
       "    <tr>\n",
       "      <th>count</th>\n",
       "      <td>399841.000000</td>\n",
       "      <td>399841.000000</td>\n",
       "      <td>399841.000000</td>\n",
       "    </tr>\n",
       "    <tr>\n",
       "      <th>mean</th>\n",
       "      <td>2.952914</td>\n",
       "      <td>12.224359</td>\n",
       "      <td>20.716904</td>\n",
       "    </tr>\n",
       "    <tr>\n",
       "      <th>std</th>\n",
       "      <td>7.317593</td>\n",
       "      <td>250.788860</td>\n",
       "      <td>425.471765</td>\n",
       "    </tr>\n",
       "    <tr>\n",
       "      <th>min</th>\n",
       "      <td>0.000000</td>\n",
       "      <td>-80995.000000</td>\n",
       "      <td>-168469.600000</td>\n",
       "    </tr>\n",
       "    <tr>\n",
       "      <th>25%</th>\n",
       "      <td>1.250000</td>\n",
       "      <td>2.000000</td>\n",
       "      <td>4.250000</td>\n",
       "    </tr>\n",
       "    <tr>\n",
       "      <th>50%</th>\n",
       "      <td>1.950000</td>\n",
       "      <td>5.000000</td>\n",
       "      <td>11.580000</td>\n",
       "    </tr>\n",
       "    <tr>\n",
       "      <th>75%</th>\n",
       "      <td>3.750000</td>\n",
       "      <td>12.000000</td>\n",
       "      <td>19.500000</td>\n",
       "    </tr>\n",
       "    <tr>\n",
       "      <th>max</th>\n",
       "      <td>1599.260000</td>\n",
       "      <td>80995.000000</td>\n",
       "      <td>168469.600000</td>\n",
       "    </tr>\n",
       "  </tbody>\n",
       "</table>\n",
       "</div>"
      ],
      "text/plain": [
       "               price       quantity  total_order_value\n",
       "count  399841.000000  399841.000000      399841.000000\n",
       "mean        2.952914      12.224359          20.716904\n",
       "std         7.317593     250.788860         425.471765\n",
       "min         0.000000  -80995.000000     -168469.600000\n",
       "25%         1.250000       2.000000           4.250000\n",
       "50%         1.950000       5.000000          11.580000\n",
       "75%         3.750000      12.000000          19.500000\n",
       "max      1599.260000   80995.000000      168469.600000"
      ]
     },
     "execution_count": 10,
     "metadata": {},
     "output_type": "execute_result"
    }
   ],
   "source": [
    "ot_cleaned.describe()"
   ]
  },
  {
   "cell_type": "code",
   "execution_count": 11,
   "id": "104237be-c8ea-42f0-a4be-8623c6f9aaff",
   "metadata": {},
   "outputs": [
    {
     "name": "stdout",
     "output_type": "stream",
     "text": [
      "There are 34 transactions with price equal to zero\n"
     ]
    },
    {
     "data": {
      "text/html": [
       "<div>\n",
       "<style scoped>\n",
       "    .dataframe tbody tr th:only-of-type {\n",
       "        vertical-align: middle;\n",
       "    }\n",
       "\n",
       "    .dataframe tbody tr th {\n",
       "        vertical-align: top;\n",
       "    }\n",
       "\n",
       "    .dataframe thead th {\n",
       "        text-align: right;\n",
       "    }\n",
       "</style>\n",
       "<table border=\"1\" class=\"dataframe\">\n",
       "  <thead>\n",
       "    <tr style=\"text-align: right;\">\n",
       "      <th></th>\n",
       "      <th>invoice</th>\n",
       "      <th>stock_code</th>\n",
       "      <th>description</th>\n",
       "      <th>price</th>\n",
       "      <th>quantity</th>\n",
       "      <th>total_order_value</th>\n",
       "      <th>invoice_date</th>\n",
       "      <th>customer_id</th>\n",
       "      <th>country</th>\n",
       "    </tr>\n",
       "  </thead>\n",
       "  <tbody>\n",
       "    <tr>\n",
       "      <th>60</th>\n",
       "      <td>C536548</td>\n",
       "      <td>22580</td>\n",
       "      <td>ADVENT CALENDAR GINGHAM SACK</td>\n",
       "      <td>5.95</td>\n",
       "      <td>-4</td>\n",
       "      <td>-23.80</td>\n",
       "      <td>2010-12-01 14:33:00</td>\n",
       "      <td>u12472</td>\n",
       "      <td>Germany</td>\n",
       "    </tr>\n",
       "    <tr>\n",
       "      <th>98</th>\n",
       "      <td>536464</td>\n",
       "      <td>22619</td>\n",
       "      <td>SET OF 6 SOLDIER SKITTLES</td>\n",
       "      <td>3.75</td>\n",
       "      <td>1</td>\n",
       "      <td>3.75</td>\n",
       "      <td>2010-12-01 12:23:00</td>\n",
       "      <td>u17968</td>\n",
       "      <td>United Kingdom</td>\n",
       "    </tr>\n",
       "    <tr>\n",
       "      <th>115</th>\n",
       "      <td>536667</td>\n",
       "      <td>22423</td>\n",
       "      <td>REGENCY CAKESTAND 3 TIER</td>\n",
       "      <td>12.75</td>\n",
       "      <td>4</td>\n",
       "      <td>51.00</td>\n",
       "      <td>2010-12-02 12:09:00</td>\n",
       "      <td>u1526</td>\n",
       "      <td>United Kingdom</td>\n",
       "    </tr>\n",
       "    <tr>\n",
       "      <th>144</th>\n",
       "      <td>536947</td>\n",
       "      <td>22423</td>\n",
       "      <td>REGENCY CAKESTAND 3 TIER</td>\n",
       "      <td>12.75</td>\n",
       "      <td>3</td>\n",
       "      <td>38.25</td>\n",
       "      <td>2010-12-03 12:29:00</td>\n",
       "      <td>u13013</td>\n",
       "      <td>United Kingdom</td>\n",
       "    </tr>\n",
       "    <tr>\n",
       "      <th>251</th>\n",
       "      <td>537201</td>\n",
       "      <td>22636</td>\n",
       "      <td>CHILDS BREAKFAST SET CIRCUS PARADE</td>\n",
       "      <td>8.50</td>\n",
       "      <td>4</td>\n",
       "      <td>34.00</td>\n",
       "      <td>2010-12-05 14:19:00</td>\n",
       "      <td>u12472</td>\n",
       "      <td>Germany</td>\n",
       "    </tr>\n",
       "    <tr>\n",
       "      <th>...</th>\n",
       "      <td>...</td>\n",
       "      <td>...</td>\n",
       "      <td>...</td>\n",
       "      <td>...</td>\n",
       "      <td>...</td>\n",
       "      <td>...</td>\n",
       "      <td>...</td>\n",
       "      <td>...</td>\n",
       "      <td>...</td>\n",
       "    </tr>\n",
       "    <tr>\n",
       "      <th>399335</th>\n",
       "      <td>581230</td>\n",
       "      <td>22090</td>\n",
       "      <td>PAPER BUNTING RETROSPOT</td>\n",
       "      <td>2.95</td>\n",
       "      <td>12</td>\n",
       "      <td>35.40</td>\n",
       "      <td>2011-12-08 10:24:00</td>\n",
       "      <td>u14291</td>\n",
       "      <td>United Kingdom</td>\n",
       "    </tr>\n",
       "    <tr>\n",
       "      <th>399369</th>\n",
       "      <td>579149</td>\n",
       "      <td>22619</td>\n",
       "      <td>SET OF 6 SOLDIER SKITTLES</td>\n",
       "      <td>3.75</td>\n",
       "      <td>4</td>\n",
       "      <td>15.00</td>\n",
       "      <td>2011-11-28 13:21:00</td>\n",
       "      <td>u13844</td>\n",
       "      <td>United Kingdom</td>\n",
       "    </tr>\n",
       "    <tr>\n",
       "      <th>399384</th>\n",
       "      <td>579165</td>\n",
       "      <td>22619</td>\n",
       "      <td>SET OF 6 SOLDIER SKITTLES</td>\n",
       "      <td>3.75</td>\n",
       "      <td>4</td>\n",
       "      <td>15.00</td>\n",
       "      <td>2011-11-28 14:01:00</td>\n",
       "      <td>u13389</td>\n",
       "      <td>United Kingdom</td>\n",
       "    </tr>\n",
       "    <tr>\n",
       "      <th>399579</th>\n",
       "      <td>580536</td>\n",
       "      <td>22619</td>\n",
       "      <td>SET OF 6 SOLDIER SKITTLES</td>\n",
       "      <td>3.75</td>\n",
       "      <td>4</td>\n",
       "      <td>15.00</td>\n",
       "      <td>2011-12-04 16:07:00</td>\n",
       "      <td>u1249</td>\n",
       "      <td>France</td>\n",
       "    </tr>\n",
       "    <tr>\n",
       "      <th>399616</th>\n",
       "      <td>580831</td>\n",
       "      <td>21786</td>\n",
       "      <td>POLKADOT RAIN HAT</td>\n",
       "      <td>0.42</td>\n",
       "      <td>24</td>\n",
       "      <td>10.08</td>\n",
       "      <td>2011-12-06 11:39:00</td>\n",
       "      <td>u14418</td>\n",
       "      <td>United Kingdom</td>\n",
       "    </tr>\n",
       "  </tbody>\n",
       "</table>\n",
       "<p>10114 rows × 9 columns</p>\n",
       "</div>"
      ],
      "text/plain": [
       "        invoice stock_code                         description  price  \\\n",
       "60      C536548      22580        ADVENT CALENDAR GINGHAM SACK   5.95   \n",
       "98       536464      22619           SET OF 6 SOLDIER SKITTLES   3.75   \n",
       "115      536667      22423            REGENCY CAKESTAND 3 TIER  12.75   \n",
       "144      536947      22423            REGENCY CAKESTAND 3 TIER  12.75   \n",
       "251      537201      22636  CHILDS BREAKFAST SET CIRCUS PARADE   8.50   \n",
       "...         ...        ...                                 ...    ...   \n",
       "399335   581230      22090             PAPER BUNTING RETROSPOT   2.95   \n",
       "399369   579149      22619           SET OF 6 SOLDIER SKITTLES   3.75   \n",
       "399384   579165      22619           SET OF 6 SOLDIER SKITTLES   3.75   \n",
       "399579   580536      22619           SET OF 6 SOLDIER SKITTLES   3.75   \n",
       "399616   580831      21786                  POLKADOT RAIN HAT    0.42   \n",
       "\n",
       "        quantity  total_order_value        invoice_date customer_id  \\\n",
       "60            -4             -23.80 2010-12-01 14:33:00      u12472   \n",
       "98             1               3.75 2010-12-01 12:23:00      u17968   \n",
       "115            4              51.00 2010-12-02 12:09:00       u1526   \n",
       "144            3              38.25 2010-12-03 12:29:00      u13013   \n",
       "251            4              34.00 2010-12-05 14:19:00      u12472   \n",
       "...          ...                ...                 ...         ...   \n",
       "399335        12              35.40 2011-12-08 10:24:00      u14291   \n",
       "399369         4              15.00 2011-11-28 13:21:00      u13844   \n",
       "399384         4              15.00 2011-11-28 14:01:00      u13389   \n",
       "399579         4              15.00 2011-12-04 16:07:00       u1249   \n",
       "399616        24              10.08 2011-12-06 11:39:00      u14418   \n",
       "\n",
       "               country  \n",
       "60             Germany  \n",
       "98      United Kingdom  \n",
       "115     United Kingdom  \n",
       "144     United Kingdom  \n",
       "251            Germany  \n",
       "...                ...  \n",
       "399335  United Kingdom  \n",
       "399369  United Kingdom  \n",
       "399384  United Kingdom  \n",
       "399579          France  \n",
       "399616  United Kingdom  \n",
       "\n",
       "[10114 rows x 9 columns]"
      ]
     },
     "execution_count": 11,
     "metadata": {},
     "output_type": "execute_result"
    }
   ],
   "source": [
    "no_price_stock = ot_cleaned[ot_cleaned.price <= 0]['stock_code'].unique()\n",
    "print(f\"There are {ot_cleaned[ot_cleaned.price <= 0].shape[0]} transactions with price equal to zero\")\n",
    "ot_cleaned[ot_cleaned['stock_code'].isin(no_price_stock)]"
   ]
  },
  {
   "cell_type": "markdown",
   "id": "2b8ee950-0b25-45c1-bacc-65600cafe8a1",
   "metadata": {},
   "source": [
    "### Even though there are some transactions with stocks with price equal to zero, they having been also purchases with the same stocks having price bigger than 0. What happened there?"
   ]
  },
  {
   "cell_type": "code",
   "execution_count": 12,
   "id": "74239c00-8cbd-4731-8623-eaebc5a69c5a",
   "metadata": {},
   "outputs": [],
   "source": [
    "no_price = ot_cleaned[ot_cleaned.price <= 0]"
   ]
  },
  {
   "cell_type": "code",
   "execution_count": 13,
   "id": "b057045e-3feb-4571-867a-6ac2b2b77460",
   "metadata": {},
   "outputs": [
    {
     "name": "stdout",
     "output_type": "stream",
     "text": [
      "There are 8507 entries with negative quantity\n"
     ]
    }
   ],
   "source": [
    "print(f\"There are {(ot_cleaned.quantity < 0).sum()} entries with negative quantity\")"
   ]
  },
  {
   "cell_type": "code",
   "execution_count": 14,
   "id": "a7c875f5-d562-4353-8e04-9af81e5c735e",
   "metadata": {},
   "outputs": [
    {
     "data": {
      "text/plain": [
       "60        C536548\n",
       "139       C536820\n",
       "150       C536548\n",
       "205       C536850\n",
       "252       C536807\n",
       "           ...   \n",
       "399631    C580968\n",
       "399708    C581464\n",
       "399729    C581464\n",
       "399753    C580711\n",
       "399834    C581462\n",
       "Name: invoice, Length: 8507, dtype: object"
      ]
     },
     "execution_count": 14,
     "metadata": {},
     "output_type": "execute_result"
    }
   ],
   "source": [
    "ot_cleaned['invoice'][ot_cleaned.quantity < 0]"
   ]
  },
  {
   "cell_type": "markdown",
   "id": "be5336dc-b156-408a-86f5-078b44bd4888",
   "metadata": {},
   "source": [
    "### The total order value is equal to price * quantity, therefore the negavite values in this column"
   ]
  },
  {
   "cell_type": "code",
   "execution_count": 15,
   "id": "b76a07b5-5fd6-4277-8f9f-0e0d7f097da7",
   "metadata": {},
   "outputs": [
    {
     "data": {
      "text/plain": [
       "8507"
      ]
     },
     "execution_count": 15,
     "metadata": {},
     "output_type": "execute_result"
    }
   ],
   "source": [
    "# Checking is all the invoice with negative quantity start with a letter C \n",
    "ot_cleaned['invoice'][ot_cleaned.quantity < 0].str.startswith('C').sum()"
   ]
  },
  {
   "cell_type": "markdown",
   "id": "d14933aa-4886-4e83-807b-4c79a9e39ba5",
   "metadata": {},
   "source": [
    "### I will consider all the entries with negative quantity as returns. They have a C in the invoice code, which I will assume refers to a CANCELLED transaction"
   ]
  },
  {
   "cell_type": "code",
   "execution_count": 16,
   "id": "d2d1edd6-6d06-4b70-8b58-b421e04cbef6",
   "metadata": {},
   "outputs": [],
   "source": [
    "ot_cancelled = ot_cleaned[ot_cleaned.invoice.str.startswith('C')]"
   ]
  },
  {
   "cell_type": "markdown",
   "id": "8bdbd0c8-0f48-473f-8819-8cbe3f69445e",
   "metadata": {},
   "source": [
    "### I will clean my ot_cleaned by removing the transactions with negative quantity and the transactions with price equal to zero"
   ]
  },
  {
   "cell_type": "code",
   "execution_count": 17,
   "id": "ebab868b-8d73-4e72-a3ee-bfd71f8ca7ef",
   "metadata": {},
   "outputs": [],
   "source": [
    "# Dropping cancelled orders\n",
    "ot_cleaned.drop(ot_cancelled.index, axis=0, inplace=True)"
   ]
  },
  {
   "cell_type": "code",
   "execution_count": 18,
   "id": "07d5768f-e62a-4b12-b5b3-47786e8f4b93",
   "metadata": {},
   "outputs": [],
   "source": [
    "# Dropping transaction with no price\n",
    "ot_cleaned.drop(no_price.index, axis=0, inplace=True)"
   ]
  },
  {
   "cell_type": "code",
   "execution_count": 19,
   "id": "701099f4-642b-4c91-8ce7-66b0ecfc5c1b",
   "metadata": {},
   "outputs": [
    {
     "data": {
      "text/html": [
       "<div>\n",
       "<style scoped>\n",
       "    .dataframe tbody tr th:only-of-type {\n",
       "        vertical-align: middle;\n",
       "    }\n",
       "\n",
       "    .dataframe tbody tr th {\n",
       "        vertical-align: top;\n",
       "    }\n",
       "\n",
       "    .dataframe thead th {\n",
       "        text-align: right;\n",
       "    }\n",
       "</style>\n",
       "<table border=\"1\" class=\"dataframe\">\n",
       "  <thead>\n",
       "    <tr style=\"text-align: right;\">\n",
       "      <th></th>\n",
       "      <th>invoice</th>\n",
       "      <th>stock_code</th>\n",
       "      <th>description</th>\n",
       "      <th>customer_id</th>\n",
       "      <th>country</th>\n",
       "    </tr>\n",
       "  </thead>\n",
       "  <tbody>\n",
       "    <tr>\n",
       "      <th>count</th>\n",
       "      <td>391300</td>\n",
       "      <td>391300</td>\n",
       "      <td>391300</td>\n",
       "      <td>391300</td>\n",
       "      <td>391300</td>\n",
       "    </tr>\n",
       "    <tr>\n",
       "      <th>unique</th>\n",
       "      <td>18405</td>\n",
       "      <td>3662</td>\n",
       "      <td>3627</td>\n",
       "      <td>4334</td>\n",
       "      <td>37</td>\n",
       "    </tr>\n",
       "    <tr>\n",
       "      <th>top</th>\n",
       "      <td>576339</td>\n",
       "      <td>85123A</td>\n",
       "      <td>CREAM HANGING HEART T-LIGHT HOLDER</td>\n",
       "      <td>u17841</td>\n",
       "      <td>United Kingdom</td>\n",
       "    </tr>\n",
       "    <tr>\n",
       "      <th>freq</th>\n",
       "      <td>542</td>\n",
       "      <td>2023</td>\n",
       "      <td>2023</td>\n",
       "      <td>7667</td>\n",
       "      <td>348919</td>\n",
       "    </tr>\n",
       "  </tbody>\n",
       "</table>\n",
       "</div>"
      ],
      "text/plain": [
       "       invoice stock_code                         description customer_id  \\\n",
       "count   391300     391300                              391300      391300   \n",
       "unique   18405       3662                                3627        4334   \n",
       "top     576339     85123A  CREAM HANGING HEART T-LIGHT HOLDER      u17841   \n",
       "freq       542       2023                                2023        7667   \n",
       "\n",
       "               country  \n",
       "count           391300  \n",
       "unique              37  \n",
       "top     United Kingdom  \n",
       "freq            348919  "
      ]
     },
     "execution_count": 19,
     "metadata": {},
     "output_type": "execute_result"
    }
   ],
   "source": [
    "ot_cleaned.describe(include=object)"
   ]
  },
  {
   "cell_type": "markdown",
   "id": "e73f7e42-dd80-48a2-8fa3-efaf725d96e8",
   "metadata": {},
   "source": [
    "### There are transactions purchased in 37 different countries. The number of unique descriptions is not compatible with the number of unique stock codes. Why?"
   ]
  },
  {
   "cell_type": "code",
   "execution_count": 20,
   "id": "b9ad7e7b-54a8-435a-b302-b19ca29e459d",
   "metadata": {},
   "outputs": [
    {
     "data": {
      "text/html": [
       "<div>\n",
       "<style scoped>\n",
       "    .dataframe tbody tr th:only-of-type {\n",
       "        vertical-align: middle;\n",
       "    }\n",
       "\n",
       "    .dataframe tbody tr th {\n",
       "        vertical-align: top;\n",
       "    }\n",
       "\n",
       "    .dataframe thead th {\n",
       "        text-align: right;\n",
       "    }\n",
       "</style>\n",
       "<table border=\"1\" class=\"dataframe\">\n",
       "  <thead>\n",
       "    <tr style=\"text-align: right;\">\n",
       "      <th></th>\n",
       "      <th>stock_code</th>\n",
       "    </tr>\n",
       "    <tr>\n",
       "      <th>description</th>\n",
       "      <th></th>\n",
       "    </tr>\n",
       "  </thead>\n",
       "  <tbody>\n",
       "    <tr>\n",
       "      <th>COLOURING PENCILS BROWN TUBE</th>\n",
       "      <td>[10135, 10133]</td>\n",
       "    </tr>\n",
       "    <tr>\n",
       "      <th>COLUMBIAN CANDLE RECTANGLE</th>\n",
       "      <td>[72133, 72131]</td>\n",
       "    </tr>\n",
       "    <tr>\n",
       "      <th>COLUMBIAN CANDLE ROUND</th>\n",
       "      <td>[72130, 72128]</td>\n",
       "    </tr>\n",
       "    <tr>\n",
       "      <th>EAU DE NILE JEWELLED PHOTOFRAME</th>\n",
       "      <td>[85023B, 85024B]</td>\n",
       "    </tr>\n",
       "    <tr>\n",
       "      <th>FRENCH FLORAL CUSHION COVER</th>\n",
       "      <td>[20840, 20837]</td>\n",
       "    </tr>\n",
       "    <tr>\n",
       "      <th>FRENCH LATTICE CUSHION COVER</th>\n",
       "      <td>[20838, 20835]</td>\n",
       "    </tr>\n",
       "    <tr>\n",
       "      <th>FROSTED WHITE BASE</th>\n",
       "      <td>[79403, 79406]</td>\n",
       "    </tr>\n",
       "    <tr>\n",
       "      <th>METAL SIGN,CUPCAKE SINGLE HOOK</th>\n",
       "      <td>[82613B, 82613C, 82613A]</td>\n",
       "    </tr>\n",
       "    <tr>\n",
       "      <th>PINK FAIRY CAKE CUSHION COVER</th>\n",
       "      <td>[47586A, 47585A]</td>\n",
       "    </tr>\n",
       "    <tr>\n",
       "      <th>PINK FLOCK GLASS CANDLEHOLDER</th>\n",
       "      <td>[79329, 79331]</td>\n",
       "    </tr>\n",
       "    <tr>\n",
       "      <th>PINK FLOWERS RABBIT EASTER</th>\n",
       "      <td>[35910B, 35909B]</td>\n",
       "    </tr>\n",
       "    <tr>\n",
       "      <th>RETRO PLASTIC 70'S TRAY</th>\n",
       "      <td>[79190A, 79192A]</td>\n",
       "    </tr>\n",
       "    <tr>\n",
       "      <th>RETRO PLASTIC DAISY TRAY</th>\n",
       "      <td>[79190D, 79191D]</td>\n",
       "    </tr>\n",
       "    <tr>\n",
       "      <th>RETRO PLASTIC POLKA TRAY</th>\n",
       "      <td>[79191B, 79190B]</td>\n",
       "    </tr>\n",
       "    <tr>\n",
       "      <th>ROUND BLUE CLOCK WITH SUCKER</th>\n",
       "      <td>[81953B, 81952B]</td>\n",
       "    </tr>\n",
       "    <tr>\n",
       "      <th>SQUARE CHERRY BLOSSOM CABINET</th>\n",
       "      <td>[84665, 84666]</td>\n",
       "    </tr>\n",
       "    <tr>\n",
       "      <th>Unknown</th>\n",
       "      <td>[21703, 21704, 46000R, 22686, 46000P, 46000M, ...</td>\n",
       "    </tr>\n",
       "    <tr>\n",
       "      <th>WHITE BAMBOO RIBS LAMPSHADE</th>\n",
       "      <td>[40001, 40003]</td>\n",
       "    </tr>\n",
       "  </tbody>\n",
       "</table>\n",
       "</div>"
      ],
      "text/plain": [
       "                                                                        stock_code\n",
       "description                                                                       \n",
       "COLOURING PENCILS BROWN TUBE                                        [10135, 10133]\n",
       "COLUMBIAN CANDLE RECTANGLE                                          [72133, 72131]\n",
       "COLUMBIAN CANDLE ROUND                                              [72130, 72128]\n",
       "EAU DE NILE JEWELLED PHOTOFRAME                                   [85023B, 85024B]\n",
       "FRENCH FLORAL CUSHION COVER                                         [20840, 20837]\n",
       "FRENCH LATTICE CUSHION COVER                                        [20838, 20835]\n",
       "FROSTED WHITE BASE                                                  [79403, 79406]\n",
       "METAL SIGN,CUPCAKE SINGLE HOOK                            [82613B, 82613C, 82613A]\n",
       "PINK FAIRY CAKE CUSHION COVER                                     [47586A, 47585A]\n",
       "PINK FLOCK GLASS CANDLEHOLDER                                       [79329, 79331]\n",
       "PINK FLOWERS RABBIT EASTER                                        [35910B, 35909B]\n",
       "RETRO PLASTIC 70'S TRAY                                           [79190A, 79192A]\n",
       "RETRO PLASTIC DAISY TRAY                                          [79190D, 79191D]\n",
       "RETRO PLASTIC POLKA TRAY                                          [79191B, 79190B]\n",
       "ROUND BLUE CLOCK WITH SUCKER                                      [81953B, 81952B]\n",
       "SQUARE CHERRY BLOSSOM CABINET                                       [84665, 84666]\n",
       "Unknown                          [21703, 21704, 46000R, 22686, 46000P, 46000M, ...\n",
       "WHITE BAMBOO RIBS LAMPSHADE                                         [40001, 40003]"
      ]
     },
     "execution_count": 20,
     "metadata": {},
     "output_type": "execute_result"
    }
   ],
   "source": [
    "# Getting the data grouped by description and unique stock_code\n",
    "descr_group = ot_cleaned.groupby('description').agg({'stock_code': 'unique'})\n",
    "\n",
    "\n",
    "# Filtering just the descriptions with more than one stock_code\n",
    "descr_group[ot_cleaned.groupby('description').agg({'stock_code': 'nunique'}).values!=1]"
   ]
  },
  {
   "cell_type": "markdown",
   "id": "154d1caa-c8cc-4449-9cef-52008d674fba",
   "metadata": {},
   "source": [
    "### It is interesting to see that there are some stock codes with 'Unknown' description. Concerning the descriptions with more than one stock code, I will infer that they are the same product on different presentations (i.e size)"
   ]
  },
  {
   "cell_type": "code",
   "execution_count": 21,
   "id": "f037e565-acf3-4b4b-9b2a-a540e3701bbd",
   "metadata": {},
   "outputs": [
    {
     "name": "stdout",
     "output_type": "stream",
     "text": [
      "There are 18 stock codes with unknown description\n"
     ]
    }
   ],
   "source": [
    "# Filtering the data to get the number of stock codes with 'Unknown' description\n",
    "stock_code_unknown = ot_cleaned[ot_cleaned.description == 'Unknown']['stock_code'].unique()\n",
    "print(f\"There are {stock_code_unknown.shape[0]} stock codes with unknown description\")"
   ]
  },
  {
   "cell_type": "code",
   "execution_count": 22,
   "id": "0669b59a-5935-432b-ae4f-1dd1445a4188",
   "metadata": {},
   "outputs": [
    {
     "data": {
      "text/plain": [
       "array(['United Kingdom', 'Belgium', 'Switzerland', 'France',\n",
       "       'Unspecified', 'EIRE', 'Poland', 'Germany', 'Spain', 'Norway',\n",
       "       'Singapore', 'Sweden', 'Austria', 'Canada', 'Italy'], dtype=object)"
      ]
     },
     "execution_count": 22,
     "metadata": {},
     "output_type": "execute_result"
    }
   ],
   "source": [
    "# Checking if the stock codes with unknown description were sold in all countries\n",
    "ot_cleaned[ot_cleaned['stock_code'].isin(stock_code_unknown)].country.unique()"
   ]
  },
  {
   "cell_type": "markdown",
   "id": "2a030377-b020-472b-adbf-64a51b39b9e5",
   "metadata": {},
   "source": [
    "### The Unknown description purchases were made across 15 of the 37 countries. The reason why they are Unknown is still unclear"
   ]
  },
  {
   "cell_type": "markdown",
   "id": "eccb40b2-813f-41df-b2cf-8d7acee993f2",
   "metadata": {},
   "source": [
    "### Let's explore each column"
   ]
  },
  {
   "cell_type": "code",
   "execution_count": 23,
   "id": "3955245e-51eb-416a-8e5c-de338641455f",
   "metadata": {},
   "outputs": [
    {
     "name": "stdout",
     "output_type": "stream",
     "text": [
      "The data contains information about 391334 (18405 invoices in total) online purchases made from 2010-12-01 08:26:00 to 2011-12-09 12:50:00. 8507 are cancelled orders\n"
     ]
    }
   ],
   "source": [
    "print(f\"The data contains information about 391334 ({ot_cleaned.invoice.nunique()} invoices in total) online purchases made from {ot_cleaned.invoice_date.min()} to {ot_cleaned.invoice_date.max()}. {ot_cancelled.shape[0]} are cancelled orders\")"
   ]
  },
  {
   "cell_type": "code",
   "execution_count": 24,
   "id": "bca08be6-ad10-477e-8a97-b38c825c6fca",
   "metadata": {},
   "outputs": [
    {
     "name": "stdout",
     "output_type": "stream",
     "text": [
      "A total of 3662 stock codes were sold from which 1916 stocks were return at least once\n"
     ]
    }
   ],
   "source": [
    "print(f\"A total of {ot_cleaned.stock_code.nunique()} stock codes were sold from which {ot_cancelled.stock_code.nunique()} stocks were return at least once\")"
   ]
  },
  {
   "cell_type": "code",
   "execution_count": 25,
   "id": "0e929f9b-a0d0-4ed7-98ee-bae9f80300b2",
   "metadata": {},
   "outputs": [],
   "source": [
    "inv_country = ot_cleaned.groupby('country').count()['invoice'].sort_values(ascending=False)"
   ]
  },
  {
   "cell_type": "code",
   "execution_count": 26,
   "id": "4a6f2aa8-24e3-45da-adf7-c8b8c8d4be55",
   "metadata": {},
   "outputs": [
    {
     "name": "stdout",
     "output_type": "stream",
     "text": [
      "The invoices were purchased in 37 countries being United Kingdom the country with the most purchases (348919) and Saudi Arabia with the least (9)\n"
     ]
    }
   ],
   "source": [
    "print(f\"The invoices were purchased in 37 countries being {inv_country.index[0]} the country with the most purchases ({inv_country[0]}) and {inv_country.index[-1]} with the least ({inv_country[-1]})\")"
   ]
  },
  {
   "cell_type": "code",
   "execution_count": 27,
   "id": "917c1108-f90b-4682-978c-5b29441aa33c",
   "metadata": {},
   "outputs": [
    {
     "name": "stdout",
     "output_type": "stream",
     "text": [
      "In total, there are 4334 costumers\n"
     ]
    }
   ],
   "source": [
    "print(f\"In total, there are {ot_cleaned.customer_id.nunique()} costumers\")"
   ]
  },
  {
   "cell_type": "markdown",
   "id": "d31becf4-b641-4314-be3a-c685f6685db2",
   "metadata": {},
   "source": [
    "### In the table below are shown the top 10 stock codes sold, their description, amount sold, their price and in how many country they had been sold"
   ]
  },
  {
   "cell_type": "code",
   "execution_count": 37,
   "id": "8e3e0da6-e705-4375-99fb-7b127616ca38",
   "metadata": {},
   "outputs": [
    {
     "data": {
      "text/html": [
       "<div>\n",
       "<style scoped>\n",
       "    .dataframe tbody tr th:only-of-type {\n",
       "        vertical-align: middle;\n",
       "    }\n",
       "\n",
       "    .dataframe tbody tr th {\n",
       "        vertical-align: top;\n",
       "    }\n",
       "\n",
       "    .dataframe thead th {\n",
       "        text-align: right;\n",
       "    }\n",
       "</style>\n",
       "<table border=\"1\" class=\"dataframe\">\n",
       "  <thead>\n",
       "    <tr style=\"text-align: right;\">\n",
       "      <th></th>\n",
       "      <th>description</th>\n",
       "      <th>quantity</th>\n",
       "      <th>price</th>\n",
       "      <th>country</th>\n",
       "    </tr>\n",
       "    <tr>\n",
       "      <th>stock_code</th>\n",
       "      <th></th>\n",
       "      <th></th>\n",
       "      <th></th>\n",
       "      <th></th>\n",
       "    </tr>\n",
       "  </thead>\n",
       "  <tbody>\n",
       "    <tr>\n",
       "      <th>23843</th>\n",
       "      <td>PAPER CRAFT , LITTLE BIRDIE</td>\n",
       "      <td>80995</td>\n",
       "      <td>2.08</td>\n",
       "      <td>1</td>\n",
       "    </tr>\n",
       "    <tr>\n",
       "      <th>23166</th>\n",
       "      <td>MEDIUM CERAMIC TOP STORAGE JAR</td>\n",
       "      <td>77916</td>\n",
       "      <td>1.25</td>\n",
       "      <td>10</td>\n",
       "    </tr>\n",
       "    <tr>\n",
       "      <th>84077</th>\n",
       "      <td>WORLD WAR 2 GLIDERS ASSTD DESIGNS</td>\n",
       "      <td>54319</td>\n",
       "      <td>0.29</td>\n",
       "      <td>12</td>\n",
       "    </tr>\n",
       "    <tr>\n",
       "      <th>22197</th>\n",
       "      <td>POPCORN HOLDER</td>\n",
       "      <td>49160</td>\n",
       "      <td>0.85</td>\n",
       "      <td>14</td>\n",
       "    </tr>\n",
       "    <tr>\n",
       "      <th>85099B</th>\n",
       "      <td>JUMBO BAG RED RETROSPOT</td>\n",
       "      <td>46078</td>\n",
       "      <td>1.95</td>\n",
       "      <td>20</td>\n",
       "    </tr>\n",
       "    <tr>\n",
       "      <th>85123A</th>\n",
       "      <td>CREAM HANGING HEART T-LIGHT HOLDER</td>\n",
       "      <td>36763</td>\n",
       "      <td>2.95</td>\n",
       "      <td>16</td>\n",
       "    </tr>\n",
       "    <tr>\n",
       "      <th>84879</th>\n",
       "      <td>ASSORTED COLOUR BIRD ORNAMENT</td>\n",
       "      <td>35263</td>\n",
       "      <td>1.69</td>\n",
       "      <td>16</td>\n",
       "    </tr>\n",
       "    <tr>\n",
       "      <th>21212</th>\n",
       "      <td>PACK OF 72 RETROSPOT CAKE CASES</td>\n",
       "      <td>33670</td>\n",
       "      <td>0.42</td>\n",
       "      <td>20</td>\n",
       "    </tr>\n",
       "    <tr>\n",
       "      <th>23084</th>\n",
       "      <td>RABBIT NIGHT LIGHT</td>\n",
       "      <td>27153</td>\n",
       "      <td>2.08</td>\n",
       "      <td>19</td>\n",
       "    </tr>\n",
       "    <tr>\n",
       "      <th>22492</th>\n",
       "      <td>MINI PAINT SET VINTAGE</td>\n",
       "      <td>26076</td>\n",
       "      <td>0.65</td>\n",
       "      <td>20</td>\n",
       "    </tr>\n",
       "  </tbody>\n",
       "</table>\n",
       "</div>"
      ],
      "text/plain": [
       "                                   description  quantity  price  country\n",
       "stock_code                                                              \n",
       "23843              PAPER CRAFT , LITTLE BIRDIE     80995   2.08        1\n",
       "23166           MEDIUM CERAMIC TOP STORAGE JAR     77916   1.25       10\n",
       "84077        WORLD WAR 2 GLIDERS ASSTD DESIGNS     54319   0.29       12\n",
       "22197                           POPCORN HOLDER     49160   0.85       14\n",
       "85099B                 JUMBO BAG RED RETROSPOT     46078   1.95       20\n",
       "85123A      CREAM HANGING HEART T-LIGHT HOLDER     36763   2.95       16\n",
       "84879            ASSORTED COLOUR BIRD ORNAMENT     35263   1.69       16\n",
       "21212          PACK OF 72 RETROSPOT CAKE CASES     33670   0.42       20\n",
       "23084                       RABBIT NIGHT LIGHT     27153   2.08       19\n",
       "22492                  MINI PAINT SET VINTAGE      26076   0.65       20"
      ]
     },
     "execution_count": 37,
     "metadata": {},
     "output_type": "execute_result"
    }
   ],
   "source": [
    "# Let's get top 5 stock codes on the table \n",
    "# defining aggregation functions to show on the table\n",
    "agg_dict = {'description': 'first', 'quantity': 'sum', 'price': 'first', 'country': 'nunique'}\n",
    "top10 = ot_cleaned.groupby(\"stock_code\").agg(agg_dict).sort_values(by='quantity', ascending=False)[:10]\n",
    "top10"
   ]
  },
  {
   "cell_type": "code",
   "execution_count": 38,
   "id": "66592b71-08c1-4292-b559-d8a10a374052",
   "metadata": {},
   "outputs": [
    {
     "data": {
      "text/html": [
       "<div>\n",
       "<style scoped>\n",
       "    .dataframe tbody tr th:only-of-type {\n",
       "        vertical-align: middle;\n",
       "    }\n",
       "\n",
       "    .dataframe tbody tr th {\n",
       "        vertical-align: top;\n",
       "    }\n",
       "\n",
       "    .dataframe thead th {\n",
       "        text-align: right;\n",
       "    }\n",
       "</style>\n",
       "<table border=\"1\" class=\"dataframe\">\n",
       "  <thead>\n",
       "    <tr style=\"text-align: right;\">\n",
       "      <th></th>\n",
       "      <th>price</th>\n",
       "      <th>quantity</th>\n",
       "      <th>total_order_value</th>\n",
       "    </tr>\n",
       "    <tr>\n",
       "      <th>country</th>\n",
       "      <th></th>\n",
       "      <th></th>\n",
       "      <th></th>\n",
       "    </tr>\n",
       "  </thead>\n",
       "  <tbody>\n",
       "    <tr>\n",
       "      <th>United Kingdom</th>\n",
       "      <td>1045296.903</td>\n",
       "      <td>3992342</td>\n",
       "      <td>6815375.093</td>\n",
       "    </tr>\n",
       "    <tr>\n",
       "      <th>Netherlands</th>\n",
       "      <td>5691.930</td>\n",
       "      <td>200510</td>\n",
       "      <td>283479.540</td>\n",
       "    </tr>\n",
       "    <tr>\n",
       "      <th>EIRE</th>\n",
       "      <td>29904.890</td>\n",
       "      <td>136189</td>\n",
       "      <td>251557.470</td>\n",
       "    </tr>\n",
       "    <tr>\n",
       "      <th>Germany</th>\n",
       "      <td>25266.750</td>\n",
       "      <td>116235</td>\n",
       "      <td>200619.660</td>\n",
       "    </tr>\n",
       "    <tr>\n",
       "      <th>France</th>\n",
       "      <td>21988.260</td>\n",
       "      <td>109019</td>\n",
       "      <td>181571.540</td>\n",
       "    </tr>\n",
       "    <tr>\n",
       "      <th>Australia</th>\n",
       "      <td>3435.270</td>\n",
       "      <td>83643</td>\n",
       "      <td>136922.500</td>\n",
       "    </tr>\n",
       "    <tr>\n",
       "      <th>Switzerland</th>\n",
       "      <td>5326.600</td>\n",
       "      <td>29681</td>\n",
       "      <td>51859.400</td>\n",
       "    </tr>\n",
       "    <tr>\n",
       "      <th>Spain</th>\n",
       "      <td>8042.880</td>\n",
       "      <td>26611</td>\n",
       "      <td>51746.650</td>\n",
       "    </tr>\n",
       "    <tr>\n",
       "      <th>Belgium</th>\n",
       "      <td>6037.130</td>\n",
       "      <td>22880</td>\n",
       "      <td>36662.960</td>\n",
       "    </tr>\n",
       "    <tr>\n",
       "      <th>Japan</th>\n",
       "      <td>735.690</td>\n",
       "      <td>25221</td>\n",
       "      <td>35419.790</td>\n",
       "    </tr>\n",
       "  </tbody>\n",
       "</table>\n",
       "</div>"
      ],
      "text/plain": [
       "                      price  quantity  total_order_value\n",
       "country                                                 \n",
       "United Kingdom  1045296.903   3992342        6815375.093\n",
       "Netherlands        5691.930    200510         283479.540\n",
       "EIRE              29904.890    136189         251557.470\n",
       "Germany           25266.750    116235         200619.660\n",
       "France            21988.260    109019         181571.540\n",
       "Australia          3435.270     83643         136922.500\n",
       "Switzerland        5326.600     29681          51859.400\n",
       "Spain              8042.880     26611          51746.650\n",
       "Belgium            6037.130     22880          36662.960\n",
       "Japan               735.690     25221          35419.790"
      ]
     },
     "execution_count": 38,
     "metadata": {},
     "output_type": "execute_result"
    }
   ],
   "source": [
    "# What are the countries with the highest purchase\n",
    "ot.groupby('country').sum().sort_values(by='total_order_value', ascending=False)[:10]"
   ]
  },
  {
   "cell_type": "markdown",
   "id": "38170fce-95b1-4644-a29f-57d432693cce",
   "metadata": {},
   "source": [
    "### On the other hand, we can also inspect the top X of any contry. To see the tables please remove the comments on the two cells below"
   ]
  },
  {
   "cell_type": "code",
   "execution_count": 30,
   "id": "147eb899-a2af-4fa0-b53b-1cd53f503411",
   "metadata": {},
   "outputs": [],
   "source": [
    "# country = input(\"Type a country from the previous list\") \n",
    "# top = int(input(\"How many items do you want to see in the top list\"))"
   ]
  },
  {
   "cell_type": "code",
   "execution_count": 31,
   "id": "743af121-42e3-4a8a-b917-395fbf328ba8",
   "metadata": {},
   "outputs": [],
   "source": [
    "# grouping data by country\n",
    "# country_group = ot_cleaned.groupby(\"country\")\n",
    "\n",
    "# country_group.get_group(country).groupby(\"stock_code\").agg(agg_dict).sort_values(by='quantity', ascending=False)[:top]"
   ]
  },
  {
   "cell_type": "markdown",
   "id": "5555b06c-54aa-4d1e-b35e-a2185367b16e",
   "metadata": {},
   "source": [
    "### Let's explore now the data with returns"
   ]
  },
  {
   "cell_type": "code",
   "execution_count": 39,
   "id": "147addcb-ab3b-40f0-b2ab-d1cc148d5e62",
   "metadata": {},
   "outputs": [
    {
     "data": {
      "text/html": [
       "<div>\n",
       "<style scoped>\n",
       "    .dataframe tbody tr th:only-of-type {\n",
       "        vertical-align: middle;\n",
       "    }\n",
       "\n",
       "    .dataframe tbody tr th {\n",
       "        vertical-align: top;\n",
       "    }\n",
       "\n",
       "    .dataframe thead th {\n",
       "        text-align: right;\n",
       "    }\n",
       "</style>\n",
       "<table border=\"1\" class=\"dataframe\">\n",
       "  <thead>\n",
       "    <tr style=\"text-align: right;\">\n",
       "      <th></th>\n",
       "      <th>description</th>\n",
       "      <th>quantity</th>\n",
       "      <th>price</th>\n",
       "      <th>country</th>\n",
       "    </tr>\n",
       "    <tr>\n",
       "      <th>stock_code</th>\n",
       "      <th></th>\n",
       "      <th></th>\n",
       "      <th></th>\n",
       "      <th></th>\n",
       "    </tr>\n",
       "  </thead>\n",
       "  <tbody>\n",
       "    <tr>\n",
       "      <th>23843</th>\n",
       "      <td>PAPER CRAFT , LITTLE BIRDIE</td>\n",
       "      <td>-80995</td>\n",
       "      <td>2.08</td>\n",
       "      <td>1</td>\n",
       "    </tr>\n",
       "    <tr>\n",
       "      <th>23166</th>\n",
       "      <td>MEDIUM CERAMIC TOP STORAGE JAR</td>\n",
       "      <td>-74494</td>\n",
       "      <td>1.04</td>\n",
       "      <td>5</td>\n",
       "    </tr>\n",
       "    <tr>\n",
       "      <th>84347</th>\n",
       "      <td>ROTATING SILVER ANGELS T-LIGHT HLDR</td>\n",
       "      <td>-9367</td>\n",
       "      <td>0.03</td>\n",
       "      <td>2</td>\n",
       "    </tr>\n",
       "    <tr>\n",
       "      <th>21108</th>\n",
       "      <td>FAIRY CAKE FLANNEL ASSORTED COLOUR</td>\n",
       "      <td>-3150</td>\n",
       "      <td>2.10</td>\n",
       "      <td>1</td>\n",
       "    </tr>\n",
       "    <tr>\n",
       "      <th>85123A</th>\n",
       "      <td>CREAM HANGING HEART T-LIGHT HOLDER</td>\n",
       "      <td>-2578</td>\n",
       "      <td>2.55</td>\n",
       "      <td>3</td>\n",
       "    </tr>\n",
       "    <tr>\n",
       "      <th>21175</th>\n",
       "      <td>GIN AND TONIC DIET METAL SIGN</td>\n",
       "      <td>-2030</td>\n",
       "      <td>1.85</td>\n",
       "      <td>2</td>\n",
       "    </tr>\n",
       "    <tr>\n",
       "      <th>22920</th>\n",
       "      <td>HERB MARKER BASIL</td>\n",
       "      <td>-1527</td>\n",
       "      <td>0.55</td>\n",
       "      <td>1</td>\n",
       "    </tr>\n",
       "    <tr>\n",
       "      <th>22273</th>\n",
       "      <td>FELTCRAFT DOLL MOLLY</td>\n",
       "      <td>-1447</td>\n",
       "      <td>2.95</td>\n",
       "      <td>2</td>\n",
       "    </tr>\n",
       "    <tr>\n",
       "      <th>47566B</th>\n",
       "      <td>TEA TIME PARTY BUNTING</td>\n",
       "      <td>-1424</td>\n",
       "      <td>4.25</td>\n",
       "      <td>1</td>\n",
       "    </tr>\n",
       "    <tr>\n",
       "      <th>15034</th>\n",
       "      <td>PAPER POCKET TRAVELING FAN</td>\n",
       "      <td>-1385</td>\n",
       "      <td>0.14</td>\n",
       "      <td>1</td>\n",
       "    </tr>\n",
       "  </tbody>\n",
       "</table>\n",
       "</div>"
      ],
      "text/plain": [
       "                                    description  quantity  price  country\n",
       "stock_code                                                               \n",
       "23843               PAPER CRAFT , LITTLE BIRDIE    -80995   2.08        1\n",
       "23166            MEDIUM CERAMIC TOP STORAGE JAR    -74494   1.04        5\n",
       "84347       ROTATING SILVER ANGELS T-LIGHT HLDR     -9367   0.03        2\n",
       "21108        FAIRY CAKE FLANNEL ASSORTED COLOUR     -3150   2.10        1\n",
       "85123A       CREAM HANGING HEART T-LIGHT HOLDER     -2578   2.55        3\n",
       "21175             GIN AND TONIC DIET METAL SIGN     -2030   1.85        2\n",
       "22920                         HERB MARKER BASIL     -1527   0.55        1\n",
       "22273                      FELTCRAFT DOLL MOLLY     -1447   2.95        2\n",
       "47566B                   TEA TIME PARTY BUNTING     -1424   4.25        1\n",
       "15034               PAPER POCKET TRAVELING FAN      -1385   0.14        1"
      ]
     },
     "execution_count": 39,
     "metadata": {},
     "output_type": "execute_result"
    }
   ],
   "source": [
    "ot_cancelled.groupby(\"stock_code\").agg(agg_dict).sort_values(by='quantity')[:10]"
   ]
  },
  {
   "cell_type": "code",
   "execution_count": 40,
   "id": "a8bf0cbe-8505-45d1-8ad2-2ed8537fc1c8",
   "metadata": {},
   "outputs": [
    {
     "data": {
      "text/plain": [
       "3"
      ]
     },
     "execution_count": 40,
     "metadata": {},
     "output_type": "execute_result"
    }
   ],
   "source": [
    "# Checking how many stock codes from the top10 best sellers are in the returned list\n",
    "canc_grouped = ot_cancelled.groupby('stock_code').sum()['quantity'].sort_values()[:10]\n",
    "top10.index.isin(canc_grouped.index).sum()"
   ]
  },
  {
   "cell_type": "markdown",
   "id": "f03c5129-253f-43dc-b87f-083d53beab5b",
   "metadata": {},
   "source": [
    "### Inspecting the returned items, I realized that in the top 10 most returned items are some of the best selling items. I will create a new version of the dataset by removing the transactions that were return from the cleaned data"
   ]
  },
  {
   "cell_type": "code",
   "execution_count": 34,
   "id": "4ac32a31-ae6d-4e2d-9b60-b888d3300b97",
   "metadata": {},
   "outputs": [
    {
     "data": {
      "text/html": [
       "<div>\n",
       "<style scoped>\n",
       "    .dataframe tbody tr th:only-of-type {\n",
       "        vertical-align: middle;\n",
       "    }\n",
       "\n",
       "    .dataframe tbody tr th {\n",
       "        vertical-align: top;\n",
       "    }\n",
       "\n",
       "    .dataframe thead th {\n",
       "        text-align: right;\n",
       "    }\n",
       "</style>\n",
       "<table border=\"1\" class=\"dataframe\">\n",
       "  <thead>\n",
       "    <tr style=\"text-align: right;\">\n",
       "      <th></th>\n",
       "      <th>description</th>\n",
       "      <th>quantity</th>\n",
       "      <th>price</th>\n",
       "      <th>country</th>\n",
       "    </tr>\n",
       "    <tr>\n",
       "      <th>customer_id</th>\n",
       "      <th></th>\n",
       "      <th></th>\n",
       "      <th></th>\n",
       "      <th></th>\n",
       "    </tr>\n",
       "  </thead>\n",
       "  <tbody>\n",
       "    <tr>\n",
       "      <th>u12346</th>\n",
       "      <td>MEDIUM CERAMIC TOP STORAGE JAR</td>\n",
       "      <td>-74215</td>\n",
       "      <td>1.04</td>\n",
       "      <td>1</td>\n",
       "    </tr>\n",
       "    <tr>\n",
       "      <th>u12352</th>\n",
       "      <td>PINK DOG BOWL</td>\n",
       "      <td>-63</td>\n",
       "      <td>2.95</td>\n",
       "      <td>1</td>\n",
       "    </tr>\n",
       "    <tr>\n",
       "      <th>u12359</th>\n",
       "      <td>RECIPE BOX PANTRY YELLOW DESIGN</td>\n",
       "      <td>-10</td>\n",
       "      <td>2.95</td>\n",
       "      <td>1</td>\n",
       "    </tr>\n",
       "    <tr>\n",
       "      <th>u12362</th>\n",
       "      <td>SPACEBOY LUNCH BOX</td>\n",
       "      <td>-17</td>\n",
       "      <td>1.95</td>\n",
       "      <td>1</td>\n",
       "    </tr>\n",
       "    <tr>\n",
       "      <th>u12375</th>\n",
       "      <td>JUMBO  BAG BAROQUE BLACK WHITE</td>\n",
       "      <td>-1</td>\n",
       "      <td>2.08</td>\n",
       "      <td>1</td>\n",
       "    </tr>\n",
       "    <tr>\n",
       "      <th>...</th>\n",
       "      <td>...</td>\n",
       "      <td>...</td>\n",
       "      <td>...</td>\n",
       "      <td>...</td>\n",
       "    </tr>\n",
       "    <tr>\n",
       "      <th>u18272</th>\n",
       "      <td>PINK POT PLANT CANDLE</td>\n",
       "      <td>-6</td>\n",
       "      <td>2.95</td>\n",
       "      <td>1</td>\n",
       "    </tr>\n",
       "    <tr>\n",
       "      <th>u18274</th>\n",
       "      <td>REGENCY CAKESTAND 3 TIER</td>\n",
       "      <td>-88</td>\n",
       "      <td>12.75</td>\n",
       "      <td>1</td>\n",
       "    </tr>\n",
       "    <tr>\n",
       "      <th>u18276</th>\n",
       "      <td>RUSTIC MIRROR WITH LACE HEART</td>\n",
       "      <td>-2</td>\n",
       "      <td>6.25</td>\n",
       "      <td>1</td>\n",
       "    </tr>\n",
       "    <tr>\n",
       "      <th>u18277</th>\n",
       "      <td>REGENCY CAKESTAND 3 TIER</td>\n",
       "      <td>-1</td>\n",
       "      <td>12.75</td>\n",
       "      <td>1</td>\n",
       "    </tr>\n",
       "    <tr>\n",
       "      <th>u18282</th>\n",
       "      <td>FRENCH STYLE STORAGE JAR BONBONS</td>\n",
       "      <td>-5</td>\n",
       "      <td>0.29</td>\n",
       "      <td>1</td>\n",
       "    </tr>\n",
       "  </tbody>\n",
       "</table>\n",
       "<p>1534 rows × 4 columns</p>\n",
       "</div>"
      ],
      "text/plain": [
       "                                  description  quantity  price  country\n",
       "customer_id                                                            \n",
       "u12346         MEDIUM CERAMIC TOP STORAGE JAR    -74215   1.04        1\n",
       "u12352                          PINK DOG BOWL       -63   2.95        1\n",
       "u12359        RECIPE BOX PANTRY YELLOW DESIGN       -10   2.95        1\n",
       "u12362                    SPACEBOY LUNCH BOX        -17   1.95        1\n",
       "u12375         JUMBO  BAG BAROQUE BLACK WHITE        -1   2.08        1\n",
       "...                                       ...       ...    ...      ...\n",
       "u18272                  PINK POT PLANT CANDLE        -6   2.95        1\n",
       "u18274               REGENCY CAKESTAND 3 TIER       -88  12.75        1\n",
       "u18276          RUSTIC MIRROR WITH LACE HEART        -2   6.25        1\n",
       "u18277               REGENCY CAKESTAND 3 TIER        -1  12.75        1\n",
       "u18282       FRENCH STYLE STORAGE JAR BONBONS        -5   0.29        1\n",
       "\n",
       "[1534 rows x 4 columns]"
      ]
     },
     "execution_count": 34,
     "metadata": {},
     "output_type": "execute_result"
    }
   ],
   "source": [
    "ot_cancelled.groupby(\"customer_id\").agg(agg_dict)"
   ]
  },
  {
   "cell_type": "markdown",
   "id": "4996b4e4-dd7e-42ca-9cd2-2f16a469ff24",
   "metadata": {},
   "source": [
    "### 1534 customers returned a product at least once"
   ]
  },
  {
   "cell_type": "code",
   "execution_count": 35,
   "id": "2da979bb-8b5f-43b2-ad47-828b02ccb72f",
   "metadata": {},
   "outputs": [
    {
     "data": {
      "text/html": [
       "<div>\n",
       "<style scoped>\n",
       "    .dataframe tbody tr th:only-of-type {\n",
       "        vertical-align: middle;\n",
       "    }\n",
       "\n",
       "    .dataframe tbody tr th {\n",
       "        vertical-align: top;\n",
       "    }\n",
       "\n",
       "    .dataframe thead th {\n",
       "        text-align: right;\n",
       "    }\n",
       "</style>\n",
       "<table border=\"1\" class=\"dataframe\">\n",
       "  <thead>\n",
       "    <tr style=\"text-align: right;\">\n",
       "      <th></th>\n",
       "      <th>description</th>\n",
       "      <th>quantity</th>\n",
       "      <th>price</th>\n",
       "      <th>country</th>\n",
       "    </tr>\n",
       "    <tr>\n",
       "      <th>stock_code</th>\n",
       "      <th></th>\n",
       "      <th></th>\n",
       "      <th></th>\n",
       "      <th></th>\n",
       "    </tr>\n",
       "  </thead>\n",
       "  <tbody>\n",
       "    <tr>\n",
       "      <th>10133</th>\n",
       "      <td>COLOURING PENCILS BROWN TUBE</td>\n",
       "      <td>-10</td>\n",
       "      <td>0.42</td>\n",
       "      <td>1</td>\n",
       "    </tr>\n",
       "    <tr>\n",
       "      <th>10135</th>\n",
       "      <td>COLOURING PENCILS BROWN TUBE</td>\n",
       "      <td>-1</td>\n",
       "      <td>1.25</td>\n",
       "      <td>1</td>\n",
       "    </tr>\n",
       "    <tr>\n",
       "      <th>11001</th>\n",
       "      <td>ASSTD DESIGN RACING CAR PEN</td>\n",
       "      <td>-185</td>\n",
       "      <td>1.69</td>\n",
       "      <td>1</td>\n",
       "    </tr>\n",
       "    <tr>\n",
       "      <th>15034</th>\n",
       "      <td>PAPER POCKET TRAVELING FAN</td>\n",
       "      <td>-1385</td>\n",
       "      <td>0.14</td>\n",
       "      <td>1</td>\n",
       "    </tr>\n",
       "    <tr>\n",
       "      <th>15036</th>\n",
       "      <td>ASSORTED COLOURS SILK FAN</td>\n",
       "      <td>-744</td>\n",
       "      <td>0.65</td>\n",
       "      <td>1</td>\n",
       "    </tr>\n",
       "    <tr>\n",
       "      <th>...</th>\n",
       "      <td>...</td>\n",
       "      <td>...</td>\n",
       "      <td>...</td>\n",
       "      <td>...</td>\n",
       "    </tr>\n",
       "    <tr>\n",
       "      <th>90208</th>\n",
       "      <td>PAIR OF PINK FLOWER CLUSTER SLIDE</td>\n",
       "      <td>-6</td>\n",
       "      <td>2.55</td>\n",
       "      <td>1</td>\n",
       "    </tr>\n",
       "    <tr>\n",
       "      <th>90209A</th>\n",
       "      <td>PURPLE ENAMEL+GLASS HAIR COMB</td>\n",
       "      <td>-6</td>\n",
       "      <td>2.10</td>\n",
       "      <td>1</td>\n",
       "    </tr>\n",
       "    <tr>\n",
       "      <th>90209C</th>\n",
       "      <td>PINK ENAMEL+GLASS HAIR COMB</td>\n",
       "      <td>-3</td>\n",
       "      <td>2.10</td>\n",
       "      <td>1</td>\n",
       "    </tr>\n",
       "    <tr>\n",
       "      <th>90211B</th>\n",
       "      <td>JET BLACK LAS VEGAS NECKLACE 45CM</td>\n",
       "      <td>-2</td>\n",
       "      <td>5.95</td>\n",
       "      <td>1</td>\n",
       "    </tr>\n",
       "    <tr>\n",
       "      <th>C2</th>\n",
       "      <td>CARRIAGE</td>\n",
       "      <td>-1</td>\n",
       "      <td>50.00</td>\n",
       "      <td>1</td>\n",
       "    </tr>\n",
       "  </tbody>\n",
       "</table>\n",
       "<p>1916 rows × 4 columns</p>\n",
       "</div>"
      ],
      "text/plain": [
       "                                  description  quantity  price  country\n",
       "stock_code                                                             \n",
       "10133            COLOURING PENCILS BROWN TUBE       -10   0.42        1\n",
       "10135            COLOURING PENCILS BROWN TUBE        -1   1.25        1\n",
       "11001             ASSTD DESIGN RACING CAR PEN      -185   1.69        1\n",
       "15034             PAPER POCKET TRAVELING FAN      -1385   0.14        1\n",
       "15036               ASSORTED COLOURS SILK FAN      -744   0.65        1\n",
       "...                                       ...       ...    ...      ...\n",
       "90208       PAIR OF PINK FLOWER CLUSTER SLIDE        -6   2.55        1\n",
       "90209A          PURPLE ENAMEL+GLASS HAIR COMB        -6   2.10        1\n",
       "90209C            PINK ENAMEL+GLASS HAIR COMB        -3   2.10        1\n",
       "90211B      JET BLACK LAS VEGAS NECKLACE 45CM        -2   5.95        1\n",
       "C2                                   CARRIAGE        -1  50.00        1\n",
       "\n",
       "[1916 rows x 4 columns]"
      ]
     },
     "execution_count": 35,
     "metadata": {},
     "output_type": "execute_result"
    }
   ],
   "source": [
    "ot_cancelled.groupby(\"stock_code\").agg(agg_dict)"
   ]
  },
  {
   "cell_type": "markdown",
   "id": "c7050699-09c7-436f-812d-1466c2484747",
   "metadata": {},
   "source": [
    "### 1916 have been returned at least once"
   ]
  }
 ],
 "metadata": {
  "kernelspec": {
   "display_name": "Python 3 (ipykernel)",
   "language": "python",
   "name": "python3"
  },
  "language_info": {
   "codemirror_mode": {
    "name": "ipython",
    "version": 3
   },
   "file_extension": ".py",
   "mimetype": "text/x-python",
   "name": "python",
   "nbconvert_exporter": "python",
   "pygments_lexer": "ipython3",
   "version": "3.11.3"
  }
 },
 "nbformat": 4,
 "nbformat_minor": 5
}
