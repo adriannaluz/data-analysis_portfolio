{
 "cells": [
  {
   "cell_type": "code",
   "execution_count": 26,
   "id": "c661cd33-0e67-4c0e-a1a1-71cc93b4e185",
   "metadata": {},
   "outputs": [],
   "source": [
    "import os\n",
    "import sys\n",
    "import boto3\n",
    "import warnings\n",
    "import pandas as pd\n",
    "\n",
    "from dotenv import load_dotenv\n",
    "from pathlib import Path\n",
    "\n",
    "# defining functions module path\n",
    "module_path = str(Path.cwd().parents[0] / \"src\")\n",
    "if module_path not in sys.path:\n",
    "    sys.path.append(module_path)\n",
    "\n",
    "from functions import connect_to_redshift"
   ]
  },
  {
   "cell_type": "code",
   "execution_count": 2,
   "id": "7ec49d55-dd8e-40a9-b1d5-11e1216694ad",
   "metadata": {},
   "outputs": [],
   "source": [
    "# removing warning messages\n",
    "warnings.filterwarnings(\"ignore\")"
   ]
  },
  {
   "cell_type": "code",
   "execution_count": 3,
   "id": "efdd0b4a-4dce-4592-a97e-db69252b1cab",
   "metadata": {},
   "outputs": [
    {
     "data": {
      "text/plain": [
       "True"
      ]
     },
     "execution_count": 3,
     "metadata": {},
     "output_type": "execute_result"
    }
   ],
   "source": [
    "# Loading my .env file\n",
    "load_dotenv()"
   ]
  },
  {
   "cell_type": "code",
   "execution_count": 4,
   "id": "ad3ff1f1-db17-48f9-bf2c-605c2d9cf347",
   "metadata": {},
   "outputs": [],
   "source": [
    "# defining redshift credentials\n",
    "dbname = os.getenv(\"dbname\")\n",
    "host = os.getenv(\"host\")\n",
    "port = os.getenv(\"port\")\n",
    "user = os.getenv(\"user\")\n",
    "password = os.getenv(\"password\")"
   ]
  },
  {
   "cell_type": "code",
   "execution_count": 5,
   "id": "b273b652-97eb-4b49-85dc-d43d7d2b4552",
   "metadata": {},
   "outputs": [
    {
     "name": "stdout",
     "output_type": "stream",
     "text": [
      "connection to redshift made\n"
     ]
    }
   ],
   "source": [
    "# establishing redshift connection\n",
    "rs_connection = connect_to_redshift(dbname, host, port, user, password)"
   ]
  },
  {
   "cell_type": "code",
   "execution_count": 6,
   "id": "84eb2fe6-f287-4cc7-acd6-8bad6538b786",
   "metadata": {},
   "outputs": [],
   "source": [
    "query = \"\"\"select *\n",
    "           from bootcamp.online_transactions_cleaned\n",
    "        \"\"\""
   ]
  },
  {
   "cell_type": "code",
   "execution_count": 7,
   "id": "89c4884d-3030-4d19-9b75-f1622a393e3c",
   "metadata": {},
   "outputs": [],
   "source": [
    "ot_cleaned = pd.read_sql(query, rs_connection)"
   ]
  },
  {
   "cell_type": "code",
   "execution_count": 8,
   "id": "5622ae1d-150b-4195-818d-191f5b0fc642",
   "metadata": {},
   "outputs": [
    {
     "name": "stdout",
     "output_type": "stream",
     "text": [
      "<class 'pandas.core.frame.DataFrame'>\n",
      "RangeIndex: 399841 entries, 0 to 399840\n",
      "Data columns (total 9 columns):\n",
      " #   Column             Non-Null Count   Dtype         \n",
      "---  ------             --------------   -----         \n",
      " 0   invoice            399841 non-null  object        \n",
      " 1   stock_code         399841 non-null  object        \n",
      " 2   description        399841 non-null  object        \n",
      " 3   price              399841 non-null  float64       \n",
      " 4   quantity           399841 non-null  int64         \n",
      " 5   total_order_value  399841 non-null  float64       \n",
      " 6   invoice_date       399841 non-null  datetime64[ns]\n",
      " 7   customer_id        399841 non-null  object        \n",
      " 8   country            399841 non-null  object        \n",
      "dtypes: datetime64[ns](1), float64(2), int64(1), object(5)\n",
      "memory usage: 27.5+ MB\n"
     ]
    }
   ],
   "source": [
    "ot_cleaned.info()"
   ]
  },
  {
   "cell_type": "code",
   "execution_count": 9,
   "id": "1a40da9c-c375-41db-8a20-1c4f217616f9",
   "metadata": {},
   "outputs": [
    {
     "data": {
      "text/html": [
       "<div>\n",
       "<style scoped>\n",
       "    .dataframe tbody tr th:only-of-type {\n",
       "        vertical-align: middle;\n",
       "    }\n",
       "\n",
       "    .dataframe tbody tr th {\n",
       "        vertical-align: top;\n",
       "    }\n",
       "\n",
       "    .dataframe thead th {\n",
       "        text-align: right;\n",
       "    }\n",
       "</style>\n",
       "<table border=\"1\" class=\"dataframe\">\n",
       "  <thead>\n",
       "    <tr style=\"text-align: right;\">\n",
       "      <th></th>\n",
       "      <th>price</th>\n",
       "      <th>quantity</th>\n",
       "      <th>total_order_value</th>\n",
       "    </tr>\n",
       "  </thead>\n",
       "  <tbody>\n",
       "    <tr>\n",
       "      <th>count</th>\n",
       "      <td>399841.000000</td>\n",
       "      <td>399841.000000</td>\n",
       "      <td>399841.000000</td>\n",
       "    </tr>\n",
       "    <tr>\n",
       "      <th>mean</th>\n",
       "      <td>2.952914</td>\n",
       "      <td>12.224359</td>\n",
       "      <td>20.716904</td>\n",
       "    </tr>\n",
       "    <tr>\n",
       "      <th>std</th>\n",
       "      <td>7.317593</td>\n",
       "      <td>250.788860</td>\n",
       "      <td>425.471765</td>\n",
       "    </tr>\n",
       "    <tr>\n",
       "      <th>min</th>\n",
       "      <td>0.000000</td>\n",
       "      <td>-80995.000000</td>\n",
       "      <td>-168469.600000</td>\n",
       "    </tr>\n",
       "    <tr>\n",
       "      <th>25%</th>\n",
       "      <td>1.250000</td>\n",
       "      <td>2.000000</td>\n",
       "      <td>4.250000</td>\n",
       "    </tr>\n",
       "    <tr>\n",
       "      <th>50%</th>\n",
       "      <td>1.950000</td>\n",
       "      <td>5.000000</td>\n",
       "      <td>11.580000</td>\n",
       "    </tr>\n",
       "    <tr>\n",
       "      <th>75%</th>\n",
       "      <td>3.750000</td>\n",
       "      <td>12.000000</td>\n",
       "      <td>19.500000</td>\n",
       "    </tr>\n",
       "    <tr>\n",
       "      <th>max</th>\n",
       "      <td>1599.260000</td>\n",
       "      <td>80995.000000</td>\n",
       "      <td>168469.600000</td>\n",
       "    </tr>\n",
       "  </tbody>\n",
       "</table>\n",
       "</div>"
      ],
      "text/plain": [
       "               price       quantity  total_order_value\n",
       "count  399841.000000  399841.000000      399841.000000\n",
       "mean        2.952914      12.224359          20.716904\n",
       "std         7.317593     250.788860         425.471765\n",
       "min         0.000000  -80995.000000     -168469.600000\n",
       "25%         1.250000       2.000000           4.250000\n",
       "50%         1.950000       5.000000          11.580000\n",
       "75%         3.750000      12.000000          19.500000\n",
       "max      1599.260000   80995.000000      168469.600000"
      ]
     },
     "execution_count": 9,
     "metadata": {},
     "output_type": "execute_result"
    }
   ],
   "source": [
    "ot_cleaned.describe()"
   ]
  },
  {
   "cell_type": "code",
   "execution_count": 10,
   "id": "b057045e-3feb-4571-867a-6ac2b2b77460",
   "metadata": {},
   "outputs": [
    {
     "name": "stdout",
     "output_type": "stream",
     "text": [
      "There are 8507 entries with negative quantity\n"
     ]
    }
   ],
   "source": [
    "print(f\"There are {(ot_cleaned.quantity < 0).sum()} entries with negative quantity\")"
   ]
  },
  {
   "cell_type": "markdown",
   "id": "be5336dc-b156-408a-86f5-078b44bd4888",
   "metadata": {},
   "source": [
    "### The total order value is equal to price * quantity, therefore the negavite values in this column"
   ]
  },
  {
   "cell_type": "code",
   "execution_count": 11,
   "id": "b76a07b5-5fd6-4277-8f9f-0e0d7f097da7",
   "metadata": {},
   "outputs": [
    {
     "data": {
      "text/plain": [
       "8507"
      ]
     },
     "execution_count": 11,
     "metadata": {},
     "output_type": "execute_result"
    }
   ],
   "source": [
    "# Checking is all the invoice with negative quantity start with a letter C \n",
    "ot_cleaned['invoice'][ot_cleaned.quantity < 0].str.startswith('C').sum()"
   ]
  },
  {
   "cell_type": "markdown",
   "id": "d14933aa-4886-4e83-807b-4c79a9e39ba5",
   "metadata": {},
   "source": [
    "### I will consider all the entries with negative quantity as returns. They have a C in the invoice code, which I will assume refers to a CANCELLED transaction"
   ]
  },
  {
   "cell_type": "code",
   "execution_count": 12,
   "id": "d2d1edd6-6d06-4b70-8b58-b421e04cbef6",
   "metadata": {},
   "outputs": [],
   "source": [
    "ot_cancelled = ot_cleaned[ot_cleaned.invoice.str.startswith('C')]"
   ]
  },
  {
   "cell_type": "code",
   "execution_count": 13,
   "id": "ebab868b-8d73-4e72-a3ee-bfd71f8ca7ef",
   "metadata": {},
   "outputs": [],
   "source": [
    "ot_cleaned.drop(ot_cancelled.index, axis=0, inplace=True)"
   ]
  },
  {
   "cell_type": "markdown",
   "id": "eccb40b2-813f-41df-b2cf-8d7acee993f2",
   "metadata": {},
   "source": [
    "### Let's explore each column"
   ]
  },
  {
   "cell_type": "code",
   "execution_count": 14,
   "id": "3955245e-51eb-416a-8e5c-de338641455f",
   "metadata": {},
   "outputs": [
    {
     "name": "stdout",
     "output_type": "stream",
     "text": [
      "The data contains information about 18408 online purchases made from 2010-12-01 08:26:00 to 2011-12-09 12:50:00\n"
     ]
    }
   ],
   "source": [
    "print(f\"The data contains information about {ot_cleaned.invoice.nunique()} online purchases made from {ot_cleaned.invoice_date.min()} to {ot_cleaned.invoice_date.max()}\")"
   ]
  },
  {
   "cell_type": "code",
   "execution_count": 15,
   "id": "92828dd4-3171-4c84-aa70-9023e8fabbf5",
   "metadata": {},
   "outputs": [
    {
     "name": "stdout",
     "output_type": "stream",
     "text": [
      "from which 8507 are cancelled orders\n"
     ]
    }
   ],
   "source": [
    "print(f\"from which {ot_cancelled.shape[0]} are cancelled orders\")"
   ]
  },
  {
   "cell_type": "code",
   "execution_count": 16,
   "id": "bca08be6-ad10-477e-8a97-b38c825c6fca",
   "metadata": {},
   "outputs": [
    {
     "name": "stdout",
     "output_type": "stream",
     "text": [
      "A total of 391334 stocks were sold from which 3662 are different\n"
     ]
    }
   ],
   "source": [
    "print(f\"A total of {ot_cleaned.stock_code.count()} stocks were sold from which {ot_cleaned.stock_code.nunique()} are different\")"
   ]
  },
  {
   "cell_type": "code",
   "execution_count": 17,
   "id": "125f354f-3afc-453e-9201-54403143bacb",
   "metadata": {},
   "outputs": [
    {
     "name": "stdout",
     "output_type": "stream",
     "text": [
      "1916 stocks were return at least once\n"
     ]
    }
   ],
   "source": [
    "print(f\"{ot_cancelled.stock_code.nunique()} stocks were return at least once\")"
   ]
  },
  {
   "cell_type": "code",
   "execution_count": 18,
   "id": "0e929f9b-a0d0-4ed7-98ee-bae9f80300b2",
   "metadata": {},
   "outputs": [],
   "source": [
    "inv_country = ot_cleaned.groupby('country').count()['invoice'].sort_values(ascending=False)"
   ]
  },
  {
   "cell_type": "code",
   "execution_count": 19,
   "id": "4a6f2aa8-24e3-45da-adf7-c8b8c8d4be55",
   "metadata": {},
   "outputs": [
    {
     "name": "stdout",
     "output_type": "stream",
     "text": [
      "The invoices were purchased in 37 countries being United Kingdom the country with the most purchases (348940) and Saudi Arabia with the least (9)\n"
     ]
    }
   ],
   "source": [
    "print(f\"The invoices were purchased in {len(inv_country.index)} countries being {inv_country.index[0]} the country with the most purchases ({inv_country[0]}) and {inv_country.index[-1]} with the least ({inv_country[-1]})\")"
   ]
  },
  {
   "cell_type": "code",
   "execution_count": 20,
   "id": "2648c17a-42e5-45ac-a305-2a7e768a2ccb",
   "metadata": {},
   "outputs": [
    {
     "name": "stdout",
     "output_type": "stream",
     "text": [
      "The average price of the products is 2.92 pounds\n"
     ]
    }
   ],
   "source": [
    "print(f\"The average price of the products is {round(ot_cleaned.price.mean(),2)} pounds\")"
   ]
  },
  {
   "cell_type": "code",
   "execution_count": 21,
   "id": "dc1b3796-cb91-4ec2-949a-db10a15d1bf1",
   "metadata": {},
   "outputs": [
    {
     "name": "stdout",
     "output_type": "stream",
     "text": [
      "The average ordered value per invoice is 22.37 pounds\n"
     ]
    }
   ],
   "source": [
    "print(f\"The average ordered value per invoice is {round(ot_cleaned.total_order_value.mean(), 2)} pounds\")"
   ]
  },
  {
   "cell_type": "code",
   "execution_count": 22,
   "id": "917c1108-f90b-4682-978c-5b29441aa33c",
   "metadata": {},
   "outputs": [
    {
     "name": "stdout",
     "output_type": "stream",
     "text": [
      "In total, there are 4335 costumers\n"
     ]
    }
   ],
   "source": [
    "print(f\"In total, there are {ot_cleaned.customer_id.nunique()} costumers\")"
   ]
  },
  {
   "cell_type": "markdown",
   "id": "4fa154f1-2f8d-43c5-b26c-843c7f83f64d",
   "metadata": {},
   "source": [
    "### Let's explore some KPIs"
   ]
  },
  {
   "cell_type": "code",
   "execution_count": 23,
   "id": "2befed69-cd9f-4048-9477-44f095a4ee03",
   "metadata": {},
   "outputs": [],
   "source": [
    "# Line Items (Number of products per invoice)\n",
    "line_items = ot_cleaned[ot_cleaned.quantity > 0].groupby(\"invoice\")['stock_code'].count()"
   ]
  },
  {
   "cell_type": "code",
   "execution_count": 24,
   "id": "9ab3f5cd-c279-456e-8eee-f9bf02650752",
   "metadata": {},
   "outputs": [
    {
     "name": "stdout",
     "output_type": "stream",
     "text": [
      "The minimum items per invoice is 1, the maximum is 542. There are in average 21 stocks per invoice\n"
     ]
    }
   ],
   "source": [
    "print(f\"The minimum items per invoice is {line_items.min()}, the maximum is {line_items.max()}. There are in average {round(line_items.mean())} stocks per invoice\")"
   ]
  },
  {
   "cell_type": "code",
   "execution_count": 25,
   "id": "54a3a908-7067-41be-b68d-7fd2a7cf5009",
   "metadata": {},
   "outputs": [
    {
     "ename": "SyntaxError",
     "evalue": "f-string: empty expression not allowed (3953900477.py, line 1)",
     "output_type": "error",
     "traceback": [
      "\u001b[0;36m  Cell \u001b[0;32mIn[25], line 1\u001b[0;36m\u001b[0m\n\u001b[0;31m    print(f\"The most popular stock is {} purchased {} times\")\u001b[0m\n\u001b[0m                                                            ^\u001b[0m\n\u001b[0;31mSyntaxError\u001b[0m\u001b[0;31m:\u001b[0m f-string: empty expression not allowed\n"
     ]
    }
   ],
   "source": [
    "print(f\"The most popular stock is {} purchased {} times\")"
   ]
  },
  {
   "cell_type": "code",
   "execution_count": 27,
   "id": "ea93ea3c-8449-43f5-aadf-418d48966775",
   "metadata": {},
   "outputs": [],
   "source": [
    "pop_idx = ot_cleaned.groupby(\"stock_code\").sum()['quantity'].sort_values(ascending=False).index[0]"
   ]
  },
  {
   "cell_type": "code",
   "execution_count": 28,
   "id": "e6947d84-3c86-42fb-8e79-a86c3a6be263",
   "metadata": {},
   "outputs": [
    {
     "name": "stdout",
     "output_type": "stream",
     "text": [
      "The most popular item is: \n"
     ]
    },
    {
     "data": {
      "text/html": [
       "<div>\n",
       "<style scoped>\n",
       "    .dataframe tbody tr th:only-of-type {\n",
       "        vertical-align: middle;\n",
       "    }\n",
       "\n",
       "    .dataframe tbody tr th {\n",
       "        vertical-align: top;\n",
       "    }\n",
       "\n",
       "    .dataframe thead th {\n",
       "        text-align: right;\n",
       "    }\n",
       "</style>\n",
       "<table border=\"1\" class=\"dataframe\">\n",
       "  <thead>\n",
       "    <tr style=\"text-align: right;\">\n",
       "      <th></th>\n",
       "      <th>invoice</th>\n",
       "      <th>stock_code</th>\n",
       "      <th>description</th>\n",
       "      <th>price</th>\n",
       "      <th>quantity</th>\n",
       "      <th>total_order_value</th>\n",
       "      <th>invoice_date</th>\n",
       "      <th>customer_id</th>\n",
       "      <th>country</th>\n",
       "    </tr>\n",
       "  </thead>\n",
       "  <tbody>\n",
       "    <tr>\n",
       "      <th>394635</th>\n",
       "      <td>581483</td>\n",
       "      <td>23843</td>\n",
       "      <td>PAPER CRAFT , LITTLE BIRDIE</td>\n",
       "      <td>2.08</td>\n",
       "      <td>80995</td>\n",
       "      <td>168469.6</td>\n",
       "      <td>2011-12-09 09:15:00</td>\n",
       "      <td>u16446</td>\n",
       "      <td>United Kingdom</td>\n",
       "    </tr>\n",
       "  </tbody>\n",
       "</table>\n",
       "</div>"
      ],
      "text/plain": [
       "       invoice stock_code                  description  price  quantity  \\\n",
       "394635  581483      23843  PAPER CRAFT , LITTLE BIRDIE   2.08     80995   \n",
       "\n",
       "        total_order_value        invoice_date customer_id         country  \n",
       "394635           168469.6 2011-12-09 09:15:00      u16446  United Kingdom  "
      ]
     },
     "execution_count": 28,
     "metadata": {},
     "output_type": "execute_result"
    }
   ],
   "source": [
    "print(\"The most popular item is: \")\n",
    "ot_cleaned[ot_cleaned['stock_code'] == pop_idx]"
   ]
  }
 ],
 "metadata": {
  "kernelspec": {
   "display_name": "Python 3 (ipykernel)",
   "language": "python",
   "name": "python3"
  },
  "language_info": {
   "codemirror_mode": {
    "name": "ipython",
    "version": 3
   },
   "file_extension": ".py",
   "mimetype": "text/x-python",
   "name": "python",
   "nbconvert_exporter": "python",
   "pygments_lexer": "ipython3",
   "version": "3.11.3"
  }
 },
 "nbformat": 4,
 "nbformat_minor": 5
}
